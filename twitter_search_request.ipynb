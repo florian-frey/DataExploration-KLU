{
 "cells": [
  {
   "cell_type": "markdown",
   "metadata": {},
   "source": [
    "#### This notebook is used to make a request to the Twitter API and save the response into a json file"
   ]
  },
  {
   "cell_type": "code",
   "execution_count": null,
   "metadata": {},
   "outputs": [],
   "source": [
    "import requests\n",
    "from datetime import datetime\n",
    "import json"
   ]
  },
  {
   "cell_type": "markdown",
   "metadata": {},
   "source": [
    "Insert the bearer token from the Twitter API for authentication below.  \n",
    "Do **NOT** commit it, to keep it secret!"
   ]
  },
  {
   "cell_type": "code",
   "execution_count": null,
   "metadata": {},
   "outputs": [],
   "source": [
    "bearer_token = \"AAAAAAAAAAAAAAAAAAAAAA7ocgEAAAAA6hhmewbPo4QOqsYP%2FNS9QFl2imE%3DLeT0cs1glqbTHVrem9XS8tmiHgCgvc5OagoTCcN4iZQOmW6kBN\""
   ]
  },
  {
   "cell_type": "markdown",
   "metadata": {},
   "source": [
    "Defining the Search Term and Query for the request\n",
    "- game as keyword\n",
    "- only english tweets\n",
    "- no retweets, replies and quotes -> only original tweets\n",
    "- no tweets containing the word 'twitch' or 'youtube'"
   ]
  },
  {
   "cell_type": "code",
   "execution_count": null,
   "metadata": {},
   "outputs": [],
   "source": [
    "game = \"stardew valley\"\n",
    "query = f\"({game}) lang:en -is:retweet -is:reply -is:quote -(twitch) -(youtube)\""
   ]
  },
  {
   "cell_type": "markdown",
   "metadata": {},
   "source": [
    "Defining the fields (columns) and amount of results we want the API to return"
   ]
  },
  {
   "cell_type": "code",
   "execution_count": null,
   "metadata": {},
   "outputs": [],
   "source": [
    "tweet_fields = \"tweet.fields=text,lang,created_at,public_metrics,geo,source\"\n",
    "expansion = \"expansions=author_id&user.fields=name,username,location,protected,verified\"\n",
    "max_results = 100 # 100 is maximum with our API access"
   ]
  },
  {
   "cell_type": "markdown",
   "metadata": {},
   "source": [
    "Build the request url and call the API"
   ]
  },
  {
   "cell_type": "code",
   "execution_count": null,
   "metadata": {},
   "outputs": [],
   "source": [
    "headers = {\"Authorization\": f\"Bearer {bearer_token}\"}\n",
    "url = f\"https://api.twitter.com/2/tweets/search/recent?query={query}&{tweet_fields}&{expansion}&max_results={max_results}\"\n",
    "\n",
    "response = requests.request(\"GET\", url, headers=headers)\n",
    "\n",
    "if response.status_code != 200:\n",
    "    raise Exception(response.status_code, response.text)\n",
    "else:\n",
    "    print(\"success!\")"
   ]
  },
  {
   "cell_type": "markdown",
   "metadata": {},
   "source": [
    "Write response to a json file"
   ]
  },
  {
   "cell_type": "code",
   "execution_count": null,
   "metadata": {},
   "outputs": [],
   "source": [
    "timestamp = datetime.now().strftime(\"%Y%m%d-%H%M%S\")\n",
    "with open(f'api_responses/{timestamp}_{game}.json', 'w') as f:\n",
    "    json.dump(response.json(), f, indent=4, sort_keys=True)"
   ]
  }
 ],
 "metadata": {
  "kernelspec": {
   "display_name": "Python 3.9.2 64-bit",
   "language": "python",
   "name": "python3"
  },
  "language_info": {
   "codemirror_mode": {
    "name": "ipython",
    "version": 3
   },
   "file_extension": ".py",
   "mimetype": "text/x-python",
   "name": "python",
   "nbconvert_exporter": "python",
   "pygments_lexer": "ipython3",
   "version": "3.9.2"
  },
  "orig_nbformat": 4,
  "vscode": {
   "interpreter": {
    "hash": "69a1a1d853624da88fe3a3558871328a73b555428be3313eebd574666bb37328"
   }
  }
 },
 "nbformat": 4,
 "nbformat_minor": 2
}
