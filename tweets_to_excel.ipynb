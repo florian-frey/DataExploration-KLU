{
 "cells": [
  {
   "cell_type": "markdown",
   "metadata": {},
   "source": [
    "#### This notebook is used to write all our API responses into an excel-file so we can label the tweets."
   ]
  },
  {
   "cell_type": "code",
   "execution_count": 1,
   "metadata": {},
   "outputs": [],
   "source": [
    "import pandas as pd\n",
    "import json\n",
    "import os"
   ]
  },
  {
   "cell_type": "markdown",
   "metadata": {},
   "source": [
    "Load all api_responses into a list"
   ]
  },
  {
   "cell_type": "code",
   "execution_count": 2,
   "metadata": {},
   "outputs": [],
   "source": [
    "json_strings = []\n",
    "for response in os.listdir(\"./api_responses\"):\n",
    "    if response.endswith(\".json\"):\n",
    "        json_strings.append(json.load(open(f\"api_responses/{response}\")))"
   ]
  },
  {
   "cell_type": "markdown",
   "metadata": {},
   "source": [
    "Convert the json-strings into dataframes and concatenate them"
   ]
  },
  {
   "cell_type": "code",
   "execution_count": 3,
   "metadata": {},
   "outputs": [
    {
     "data": {
      "text/html": [
       "<div>\n",
       "<style scoped>\n",
       "    .dataframe tbody tr th:only-of-type {\n",
       "        vertical-align: middle;\n",
       "    }\n",
       "\n",
       "    .dataframe tbody tr th {\n",
       "        vertical-align: top;\n",
       "    }\n",
       "\n",
       "    .dataframe thead th {\n",
       "        text-align: right;\n",
       "    }\n",
       "</style>\n",
       "<table border=\"1\" class=\"dataframe\">\n",
       "  <thead>\n",
       "    <tr style=\"text-align: right;\">\n",
       "      <th></th>\n",
       "      <th>author_id</th>\n",
       "      <th>id</th>\n",
       "      <th>source</th>\n",
       "      <th>created_at</th>\n",
       "      <th>text</th>\n",
       "    </tr>\n",
       "  </thead>\n",
       "  <tbody>\n",
       "    <tr>\n",
       "      <th>0</th>\n",
       "      <td>1113923737093537793</td>\n",
       "      <td>1537042136184520704</td>\n",
       "      <td>Twitter for iPhone</td>\n",
       "      <td>2022-06-15T11:59:36.000Z</td>\n",
       "      <td>Okay, someone explain to me why Fall Guys and ...</td>\n",
       "    </tr>\n",
       "    <tr>\n",
       "      <th>1</th>\n",
       "      <td>859297331207864320</td>\n",
       "      <td>1537039483664846853</td>\n",
       "      <td>Twitter Web App</td>\n",
       "      <td>2022-06-15T11:49:04.000Z</td>\n",
       "      <td>Look at this key I discovered on the Sea of Th...</td>\n",
       "    </tr>\n",
       "    <tr>\n",
       "      <th>2</th>\n",
       "      <td>1310920707455549447</td>\n",
       "      <td>1537039348855611393</td>\n",
       "      <td>StreamElements</td>\n",
       "      <td>2022-06-15T11:48:32.000Z</td>\n",
       "      <td>Going Live ! Solo Slooping on the Sea of Thiev...</td>\n",
       "    </tr>\n",
       "    <tr>\n",
       "      <th>3</th>\n",
       "      <td>1392500631294734344</td>\n",
       "      <td>1537032314512760833</td>\n",
       "      <td>Twitter Web App</td>\n",
       "      <td>2022-06-15T11:20:35.000Z</td>\n",
       "      <td>@KirkRooster Why isn’t gow boat travel as real...</td>\n",
       "    </tr>\n",
       "    <tr>\n",
       "      <th>4</th>\n",
       "      <td>1409816054709329926</td>\n",
       "      <td>1537029099079749634</td>\n",
       "      <td>Twitter for Android</td>\n",
       "      <td>2022-06-15T11:07:48.000Z</td>\n",
       "      <td>@ItsCsteph @JAAY_ROCK_ Sea of Thieves let's yo...</td>\n",
       "    </tr>\n",
       "  </tbody>\n",
       "</table>\n",
       "</div>"
      ],
      "text/plain": [
       "             author_id                   id               source  \\\n",
       "0  1113923737093537793  1537042136184520704   Twitter for iPhone   \n",
       "1   859297331207864320  1537039483664846853      Twitter Web App   \n",
       "2  1310920707455549447  1537039348855611393       StreamElements   \n",
       "3  1392500631294734344  1537032314512760833      Twitter Web App   \n",
       "4  1409816054709329926  1537029099079749634  Twitter for Android   \n",
       "\n",
       "                 created_at                                               text  \n",
       "0  2022-06-15T11:59:36.000Z  Okay, someone explain to me why Fall Guys and ...  \n",
       "1  2022-06-15T11:49:04.000Z  Look at this key I discovered on the Sea of Th...  \n",
       "2  2022-06-15T11:48:32.000Z  Going Live ! Solo Slooping on the Sea of Thiev...  \n",
       "3  2022-06-15T11:20:35.000Z  @KirkRooster Why isn’t gow boat travel as real...  \n",
       "4  2022-06-15T11:07:48.000Z  @ItsCsteph @JAAY_ROCK_ Sea of Thieves let's yo...  "
      ]
     },
     "execution_count": 3,
     "metadata": {},
     "output_type": "execute_result"
    }
   ],
   "source": [
    "frames = []\n",
    "for json in json_strings:\n",
    "    # convert the json into a dataframe and append it to the list\n",
    "    frames.append(pd.DataFrame(json[\"data\"]))\n",
    "# concatenate all dataframes to a single one\n",
    "tweets = pd.concat(frames, ignore_index=True)\n",
    "tweets = tweets[[\"author_id\", \"id\", \"source\", \"created_at\", \"text\"]]\n",
    "tweets.head()"
   ]
  },
  {
   "cell_type": "markdown",
   "metadata": {},
   "source": [
    "Delete Tweets made with bots by dropping certain tweet-sources"
   ]
  },
  {
   "cell_type": "code",
   "execution_count": 4,
   "metadata": {},
   "outputs": [
    {
     "data": {
      "text/html": [
       "<div>\n",
       "<style scoped>\n",
       "    .dataframe tbody tr th:only-of-type {\n",
       "        vertical-align: middle;\n",
       "    }\n",
       "\n",
       "    .dataframe tbody tr th {\n",
       "        vertical-align: top;\n",
       "    }\n",
       "\n",
       "    .dataframe thead th {\n",
       "        text-align: right;\n",
       "    }\n",
       "</style>\n",
       "<table border=\"1\" class=\"dataframe\">\n",
       "  <thead>\n",
       "    <tr style=\"text-align: right;\">\n",
       "      <th></th>\n",
       "      <th>author_id</th>\n",
       "      <th>id</th>\n",
       "      <th>source</th>\n",
       "      <th>created_at</th>\n",
       "      <th>label</th>\n",
       "      <th>text</th>\n",
       "    </tr>\n",
       "  </thead>\n",
       "  <tbody>\n",
       "    <tr>\n",
       "      <th>0</th>\n",
       "      <td>1113923737093537793</td>\n",
       "      <td>1537042136184520704</td>\n",
       "      <td>Twitter for iPhone</td>\n",
       "      <td>2022-06-15T11:59:36.000Z</td>\n",
       "      <td></td>\n",
       "      <td>Okay, someone explain to me why Fall Guys and ...</td>\n",
       "    </tr>\n",
       "    <tr>\n",
       "      <th>1</th>\n",
       "      <td>859297331207864320</td>\n",
       "      <td>1537039483664846853</td>\n",
       "      <td>Twitter Web App</td>\n",
       "      <td>2022-06-15T11:49:04.000Z</td>\n",
       "      <td></td>\n",
       "      <td>Look at this key I discovered on the Sea of Th...</td>\n",
       "    </tr>\n",
       "    <tr>\n",
       "      <th>2</th>\n",
       "      <td>1310920707455549447</td>\n",
       "      <td>1537039348855611393</td>\n",
       "      <td>StreamElements</td>\n",
       "      <td>2022-06-15T11:48:32.000Z</td>\n",
       "      <td></td>\n",
       "      <td>Going Live ! Solo Slooping on the Sea of Thiev...</td>\n",
       "    </tr>\n",
       "    <tr>\n",
       "      <th>3</th>\n",
       "      <td>1392500631294734344</td>\n",
       "      <td>1537032314512760833</td>\n",
       "      <td>Twitter Web App</td>\n",
       "      <td>2022-06-15T11:20:35.000Z</td>\n",
       "      <td></td>\n",
       "      <td>@KirkRooster Why isn’t gow boat travel as real...</td>\n",
       "    </tr>\n",
       "    <tr>\n",
       "      <th>4</th>\n",
       "      <td>1409816054709329926</td>\n",
       "      <td>1537029099079749634</td>\n",
       "      <td>Twitter for Android</td>\n",
       "      <td>2022-06-15T11:07:48.000Z</td>\n",
       "      <td></td>\n",
       "      <td>@ItsCsteph @JAAY_ROCK_ Sea of Thieves let's yo...</td>\n",
       "    </tr>\n",
       "  </tbody>\n",
       "</table>\n",
       "</div>"
      ],
      "text/plain": [
       "             author_id                   id               source  \\\n",
       "0  1113923737093537793  1537042136184520704   Twitter for iPhone   \n",
       "1   859297331207864320  1537039483664846853      Twitter Web App   \n",
       "2  1310920707455549447  1537039348855611393       StreamElements   \n",
       "3  1392500631294734344  1537032314512760833      Twitter Web App   \n",
       "4  1409816054709329926  1537029099079749634  Twitter for Android   \n",
       "\n",
       "                 created_at label  \\\n",
       "0  2022-06-15T11:59:36.000Z         \n",
       "1  2022-06-15T11:49:04.000Z         \n",
       "2  2022-06-15T11:48:32.000Z         \n",
       "3  2022-06-15T11:20:35.000Z         \n",
       "4  2022-06-15T11:07:48.000Z         \n",
       "\n",
       "                                                text  \n",
       "0  Okay, someone explain to me why Fall Guys and ...  \n",
       "1  Look at this key I discovered on the Sea of Th...  \n",
       "2  Going Live ! Solo Slooping on the Sea of Thiev...  \n",
       "3  @KirkRooster Why isn’t gow boat travel as real...  \n",
       "4  @ItsCsteph @JAAY_ROCK_ Sea of Thieves let's yo...  "
      ]
     },
     "execution_count": 4,
     "metadata": {},
     "output_type": "execute_result"
    }
   ],
   "source": [
    "tweets = tweets.loc[(tweets[\"source\"] != \"Microsoft Power Platform\")\n",
    "                    & (tweets[\"source\"] != \"WordPress.com\")\n",
    "                    & (tweets[\"source\"].str.contains(\"bot\") == False)\n",
    "                    & (tweets[\"source\"].str.contains(\"Bot\") == False)]\n",
    "tweets = tweets.reset_index(drop=True)\n",
    "tweets.insert(4, \"label\", \"\")\n",
    "tweets.head()"
   ]
  },
  {
   "cell_type": "markdown",
   "metadata": {},
   "source": [
    "Save Dataframe to Excel-File"
   ]
  },
  {
   "cell_type": "code",
   "execution_count": 5,
   "metadata": {},
   "outputs": [],
   "source": [
    "tweets.to_excel(\"testdata_games.xlsx\")"
   ]
  }
 ],
 "metadata": {
  "interpreter": {
   "hash": "69a1a1d853624da88fe3a3558871328a73b555428be3313eebd574666bb37328"
  },
  "kernelspec": {
   "display_name": "Python 3 (ipykernel)",
   "language": "python",
   "name": "python3"
  },
  "language_info": {
   "codemirror_mode": {
    "name": "ipython",
    "version": 3
   },
   "file_extension": ".py",
   "mimetype": "text/x-python",
   "name": "python",
   "nbconvert_exporter": "python",
   "pygments_lexer": "ipython3",
   "version": "3.9.2"
  }
 },
 "nbformat": 4,
 "nbformat_minor": 2
}
