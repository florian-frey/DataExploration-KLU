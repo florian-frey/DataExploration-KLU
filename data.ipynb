{
 "cells": [
  {
   "cell_type": "code",
   "execution_count": 1,
   "metadata": {},
   "outputs": [],
   "source": [
    "import pandas as pd\n",
    "import json"
   ]
  },
  {
   "cell_type": "code",
   "execution_count": 2,
   "metadata": {},
   "outputs": [
    {
     "data": {
      "text/html": [
       "<div>\n",
       "<style scoped>\n",
       "    .dataframe tbody tr th:only-of-type {\n",
       "        vertical-align: middle;\n",
       "    }\n",
       "\n",
       "    .dataframe tbody tr th {\n",
       "        vertical-align: top;\n",
       "    }\n",
       "\n",
       "    .dataframe thead th {\n",
       "        text-align: right;\n",
       "    }\n",
       "</style>\n",
       "<table border=\"1\" class=\"dataframe\">\n",
       "  <thead>\n",
       "    <tr style=\"text-align: right;\">\n",
       "      <th></th>\n",
       "      <th>author_id</th>\n",
       "      <th>created_at</th>\n",
       "      <th>id</th>\n",
       "      <th>text</th>\n",
       "    </tr>\n",
       "  </thead>\n",
       "  <tbody>\n",
       "    <tr>\n",
       "      <th>0</th>\n",
       "      <td>1515881490063806464</td>\n",
       "      <td>2022-05-18T11:30:00.000Z</td>\n",
       "      <td>1526887827581063168</td>\n",
       "      <td>Buy gta 5 online modded accounts 🎒 PS4, Xbox, ...</td>\n",
       "    </tr>\n",
       "    <tr>\n",
       "      <th>1</th>\n",
       "      <td>1227374188907900928</td>\n",
       "      <td>2022-05-18T11:29:20.000Z</td>\n",
       "      <td>1526887656000471043</td>\n",
       "      <td>RT @OvOBrezzzy: Trying to finish a Gta online ...</td>\n",
       "    </tr>\n",
       "    <tr>\n",
       "      <th>2</th>\n",
       "      <td>1191072989284126721</td>\n",
       "      <td>2022-05-18T11:29:11.000Z</td>\n",
       "      <td>1526887622014009346</td>\n",
       "      <td>RT @OvOBrezzzy: Trying to finish a Gta online ...</td>\n",
       "    </tr>\n",
       "    <tr>\n",
       "      <th>3</th>\n",
       "      <td>1087491135784796161</td>\n",
       "      <td>2022-05-18T11:29:06.000Z</td>\n",
       "      <td>1526887597544439815</td>\n",
       "      <td>RT @OvOBrezzzy: Trying to finish a Gta online ...</td>\n",
       "    </tr>\n",
       "    <tr>\n",
       "      <th>4</th>\n",
       "      <td>1376013296436846595</td>\n",
       "      <td>2022-05-18T11:29:03.000Z</td>\n",
       "      <td>1526887588061413376</td>\n",
       "      <td>@GTAOnlineRDC Don't play gta online</td>\n",
       "    </tr>\n",
       "    <tr>\n",
       "      <th>5</th>\n",
       "      <td>743923815600660480</td>\n",
       "      <td>2022-05-18T11:28:56.000Z</td>\n",
       "      <td>1526887558881636353</td>\n",
       "      <td>GTA Online and Real Brands: Take-Two is now co...</td>\n",
       "    </tr>\n",
       "    <tr>\n",
       "      <th>6</th>\n",
       "      <td>1474023689444233218</td>\n",
       "      <td>2022-05-18T11:28:17.000Z</td>\n",
       "      <td>1526887391885406208</td>\n",
       "      <td>RT @OvOBrezzzy: Trying to finish a Gta online ...</td>\n",
       "    </tr>\n",
       "    <tr>\n",
       "      <th>7</th>\n",
       "      <td>78137062</td>\n",
       "      <td>2022-05-18T11:27:28.000Z</td>\n",
       "      <td>1526887187547324416</td>\n",
       "      <td>RT @OvOBrezzzy: Trying to finish a Gta online ...</td>\n",
       "    </tr>\n",
       "    <tr>\n",
       "      <th>8</th>\n",
       "      <td>1484568246019895304</td>\n",
       "      <td>2022-05-18T11:27:05.000Z</td>\n",
       "      <td>1526887090985877504</td>\n",
       "      <td>RT @OvOBrezzzy: Trying to finish a Gta online ...</td>\n",
       "    </tr>\n",
       "    <tr>\n",
       "      <th>9</th>\n",
       "      <td>905213366481944581</td>\n",
       "      <td>2022-05-18T11:26:52.000Z</td>\n",
       "      <td>1526887035088572416</td>\n",
       "      <td>RT @OvOBrezzzy: Trying to finish a Gta online ...</td>\n",
       "    </tr>\n",
       "  </tbody>\n",
       "</table>\n",
       "</div>"
      ],
      "text/plain": [
       "             author_id                created_at                   id  \\\n",
       "0  1515881490063806464  2022-05-18T11:30:00.000Z  1526887827581063168   \n",
       "1  1227374188907900928  2022-05-18T11:29:20.000Z  1526887656000471043   \n",
       "2  1191072989284126721  2022-05-18T11:29:11.000Z  1526887622014009346   \n",
       "3  1087491135784796161  2022-05-18T11:29:06.000Z  1526887597544439815   \n",
       "4  1376013296436846595  2022-05-18T11:29:03.000Z  1526887588061413376   \n",
       "5   743923815600660480  2022-05-18T11:28:56.000Z  1526887558881636353   \n",
       "6  1474023689444233218  2022-05-18T11:28:17.000Z  1526887391885406208   \n",
       "7             78137062  2022-05-18T11:27:28.000Z  1526887187547324416   \n",
       "8  1484568246019895304  2022-05-18T11:27:05.000Z  1526887090985877504   \n",
       "9   905213366481944581  2022-05-18T11:26:52.000Z  1526887035088572416   \n",
       "\n",
       "                                                text  \n",
       "0  Buy gta 5 online modded accounts 🎒 PS4, Xbox, ...  \n",
       "1  RT @OvOBrezzzy: Trying to finish a Gta online ...  \n",
       "2  RT @OvOBrezzzy: Trying to finish a Gta online ...  \n",
       "3  RT @OvOBrezzzy: Trying to finish a Gta online ...  \n",
       "4                @GTAOnlineRDC Don't play gta online  \n",
       "5  GTA Online and Real Brands: Take-Two is now co...  \n",
       "6  RT @OvOBrezzzy: Trying to finish a Gta online ...  \n",
       "7  RT @OvOBrezzzy: Trying to finish a Gta online ...  \n",
       "8  RT @OvOBrezzzy: Trying to finish a Gta online ...  \n",
       "9  RT @OvOBrezzzy: Trying to finish a Gta online ...  "
      ]
     },
     "execution_count": 2,
     "metadata": {},
     "output_type": "execute_result"
    }
   ],
   "source": [
    "data = json.load(open('data.json'))\n",
    "\n",
    "df = pd.DataFrame(data[\"data\"])\n",
    "\n",
    "df"
   ]
  },
  {
   "cell_type": "code",
   "execution_count": 3,
   "metadata": {},
   "outputs": [
    {
     "data": {
      "text/plain": [
       "'RT @OvOBrezzzy: Trying to finish a Gta online heist with your friends was one of the hardest shit ever'"
      ]
     },
     "execution_count": 3,
     "metadata": {},
     "output_type": "execute_result"
    }
   ],
   "source": [
    "df.iloc[0][\"text\"]"
   ]
  }
 ],
 "metadata": {
  "interpreter": {
   "hash": "69a1a1d853624da88fe3a3558871328a73b555428be3313eebd574666bb37328"
  },
  "kernelspec": {
   "display_name": "Python 3.9.2 64-bit",
   "language": "python",
   "name": "python3"
  },
  "language_info": {
   "codemirror_mode": {
    "name": "ipython",
    "version": 3
   },
   "file_extension": ".py",
   "mimetype": "text/x-python",
   "name": "python",
   "nbconvert_exporter": "python",
   "pygments_lexer": "ipython3",
   "version": "3.9.2"
  },
  "orig_nbformat": 4
 },
 "nbformat": 4,
 "nbformat_minor": 2
}
