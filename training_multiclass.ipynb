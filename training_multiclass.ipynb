{
 "cells": [
  {
   "cell_type": "code",
   "execution_count": 1,
   "metadata": {},
   "outputs": [],
   "source": [
    "import zipfile\n",
    "import pandas as pd\n",
    "from nltk.corpus import stopwords\n",
    "import re\n",
    "from nltk.stem import PorterStemmer\n",
    "from nltk.stem.snowball import SnowballStemmer\n",
    "from nltk.tokenize import word_tokenize\n",
    "from sklearn.feature_extraction.text import TfidfVectorizer\n",
    "from numpy import average as avg\n",
    "from sklearn import model_selection, naive_bayes, svm\n",
    "from sklearn.metrics import accuracy_score, ConfusionMatrixDisplay\n",
    "\n",
    "# nltk.download('punkt')\n",
    "# nltk.download('omw-1.4')\n",
    "# nltk.download('stopwords')"
   ]
  },
  {
   "cell_type": "markdown",
   "metadata": {},
   "source": [
    "# Read Training Data\n",
    "Data source: https://www.kaggle.com/datasets/yasserh/twitter-tweets-sentiment-dataset\n",
    "\n",
    "Columns:\n",
    "1. textID - unique ID for each piece of text\n",
    "2. text - the text of the tweet\n",
    "3. sentiment - the general sentiment of the tweet"
   ]
  },
  {
   "cell_type": "code",
   "execution_count": 2,
   "metadata": {},
   "outputs": [
    {
     "data": {
      "text/html": [
       "<div>\n",
       "<style scoped>\n",
       "    .dataframe tbody tr th:only-of-type {\n",
       "        vertical-align: middle;\n",
       "    }\n",
       "\n",
       "    .dataframe tbody tr th {\n",
       "        vertical-align: top;\n",
       "    }\n",
       "\n",
       "    .dataframe thead th {\n",
       "        text-align: right;\n",
       "    }\n",
       "</style>\n",
       "<table border=\"1\" class=\"dataframe\">\n",
       "  <thead>\n",
       "    <tr style=\"text-align: right;\">\n",
       "      <th></th>\n",
       "      <th>id</th>\n",
       "      <th>raw_text</th>\n",
       "      <th>label</th>\n",
       "    </tr>\n",
       "  </thead>\n",
       "  <tbody>\n",
       "    <tr>\n",
       "      <th>0</th>\n",
       "      <td>cb774db0d1</td>\n",
       "      <td>I`d have responded, if I were going</td>\n",
       "      <td>neutral</td>\n",
       "    </tr>\n",
       "    <tr>\n",
       "      <th>1</th>\n",
       "      <td>549e992a42</td>\n",
       "      <td>Sooo SAD I will miss you here in San Diego!!!</td>\n",
       "      <td>negative</td>\n",
       "    </tr>\n",
       "    <tr>\n",
       "      <th>2</th>\n",
       "      <td>088c60f138</td>\n",
       "      <td>my boss is bullying me...</td>\n",
       "      <td>negative</td>\n",
       "    </tr>\n",
       "    <tr>\n",
       "      <th>3</th>\n",
       "      <td>9642c003ef</td>\n",
       "      <td>what interview! leave me alone</td>\n",
       "      <td>negative</td>\n",
       "    </tr>\n",
       "    <tr>\n",
       "      <th>4</th>\n",
       "      <td>358bd9e861</td>\n",
       "      <td>Sons of ****, why couldn`t they put them on t...</td>\n",
       "      <td>negative</td>\n",
       "    </tr>\n",
       "  </tbody>\n",
       "</table>\n",
       "</div>"
      ],
      "text/plain": [
       "           id                                           raw_text     label\n",
       "0  cb774db0d1                I`d have responded, if I were going   neutral\n",
       "1  549e992a42      Sooo SAD I will miss you here in San Diego!!!  negative\n",
       "2  088c60f138                          my boss is bullying me...  negative\n",
       "3  9642c003ef                     what interview! leave me alone  negative\n",
       "4  358bd9e861   Sons of ****, why couldn`t they put them on t...  negative"
      ]
     },
     "execution_count": 2,
     "metadata": {},
     "output_type": "execute_result"
    }
   ],
   "source": [
    "archive = zipfile.ZipFile(\"data.zip\", \"r\")\n",
    "data = pd.read_csv(archive.open(\"train_multiclass.csv\"), encoding_errors=\"replace\")\n",
    "# drop preprocessed text of the dataset to perform our own preprocessing\n",
    "data.drop(columns=\"selected_text\", inplace=True)\n",
    "# renaming columns for easier access\n",
    "data.columns = [\"id\", \"raw_text\", \"label\"]\n",
    "data.head()"
   ]
  },
  {
   "cell_type": "markdown",
   "metadata": {},
   "source": [
    "Number of tweets per label:"
   ]
  },
  {
   "cell_type": "code",
   "execution_count": 3,
   "metadata": {},
   "outputs": [
    {
     "data": {
      "text/plain": [
       "neutral     11118\n",
       "positive     8582\n",
       "negative     7781\n",
       "Name: label, dtype: int64"
      ]
     },
     "execution_count": 3,
     "metadata": {},
     "output_type": "execute_result"
    }
   ],
   "source": [
    "data[\"label\"].value_counts()"
   ]
  },
  {
   "cell_type": "markdown",
   "metadata": {},
   "source": [
    "We change the label to numerical values for our model"
   ]
  },
  {
   "cell_type": "code",
   "execution_count": 4,
   "metadata": {},
   "outputs": [],
   "source": [
    "data.loc[data[\"label\"]==\"negative\", \"label\"] = 0\n",
    "data.loc[data[\"label\"]==\"neutral\", \"label\"] = 1\n",
    "data.loc[data[\"label\"]==\"positive\", \"label\"] = 2\n",
    "data[\"label\"] = data[\"label\"].astype(int)"
   ]
  },
  {
   "cell_type": "markdown",
   "metadata": {},
   "source": [
    "# Data Preprocessing"
   ]
  },
  {
   "cell_type": "markdown",
   "metadata": {},
   "source": [
    "Turning everything into lowercase characters"
   ]
  },
  {
   "cell_type": "code",
   "execution_count": 5,
   "metadata": {},
   "outputs": [],
   "source": [
    "data[\"raw_text\"] = data[\"raw_text\"].astype(str)\n",
    "data[\"text\"] = [entry.lower() for entry in data[\"raw_text\"]]"
   ]
  },
  {
   "cell_type": "markdown",
   "metadata": {},
   "source": [
    "Removing Stopwords (Common words like \"my\", \"he\", \"is\", ...)"
   ]
  },
  {
   "cell_type": "code",
   "execution_count": 6,
   "metadata": {},
   "outputs": [],
   "source": [
    "stop = stopwords.words('english')\n",
    "# we suspected 'no' and 'not' might be important words for the sentiment and don't want them to be removed\n",
    "# (this indeed improved the model a little)\n",
    "stop.remove(\"no\")\n",
    "stop.remove(\"not\")\n",
    "\n",
    "# stopwords are applied later by the tfidf vectorizer"
   ]
  },
  {
   "cell_type": "markdown",
   "metadata": {},
   "source": [
    "Removing links, tags and several punctuations from tweets using regular expressions"
   ]
  },
  {
   "cell_type": "code",
   "execution_count": 7,
   "metadata": {},
   "outputs": [],
   "source": [
    "data[\"text\"] = data[\"text\"].apply(lambda x: re.sub(\"http[s]?://\\S+\", \"\", x))\n",
    "data[\"text\"] = data[\"text\"].apply(lambda x: re.sub(\"@\\S+\", \"\", x))\n",
    "data[\"text\"] = data[\"text\"].apply(lambda x: re.sub(\"-|\\.|,|'|\\?|\\!|`|\\*\", \"\", x))\n",
    "# alternative try to remove special characters, but it deteriorated the model:\n",
    "# data[\"text\"] = data[\"text\"].apply(lambda x: re.sub(\"[^a-z\\s]\", \"\", x))"
   ]
  },
  {
   "cell_type": "markdown",
   "metadata": {},
   "source": [
    "Word-Stemming (Tested two stemmers)  \n",
    "\n",
    "Naive Bayes works best without any stemmer  \n",
    "Support Vector Machine works best with SnowballStemmer"
   ]
  },
  {
   "cell_type": "code",
   "execution_count": 8,
   "metadata": {},
   "outputs": [],
   "source": [
    "# sstemmer = SnowballStemmer(\"english\")\n",
    "pstemmer = PorterStemmer()\n",
    "\n",
    "data['text'] = data['text'].apply(lambda x: ' '.join([pstemmer.stem(word) for word in x.split()]))"
   ]
  },
  {
   "cell_type": "markdown",
   "metadata": {},
   "source": [
    "Tokenize Words"
   ]
  },
  {
   "cell_type": "code",
   "execution_count": 9,
   "metadata": {},
   "outputs": [],
   "source": [
    "data[\"text\"] = [str(word_tokenize(entry)) for entry in data[\"text\"]]"
   ]
  },
  {
   "cell_type": "markdown",
   "metadata": {},
   "source": [
    "Our finished Data:"
   ]
  },
  {
   "cell_type": "code",
   "execution_count": 10,
   "metadata": {},
   "outputs": [
    {
     "data": {
      "text/html": [
       "<div>\n",
       "<style scoped>\n",
       "    .dataframe tbody tr th:only-of-type {\n",
       "        vertical-align: middle;\n",
       "    }\n",
       "\n",
       "    .dataframe tbody tr th {\n",
       "        vertical-align: top;\n",
       "    }\n",
       "\n",
       "    .dataframe thead th {\n",
       "        text-align: right;\n",
       "    }\n",
       "</style>\n",
       "<table border=\"1\" class=\"dataframe\">\n",
       "  <thead>\n",
       "    <tr style=\"text-align: right;\">\n",
       "      <th></th>\n",
       "      <th>id</th>\n",
       "      <th>raw_text</th>\n",
       "      <th>label</th>\n",
       "      <th>text</th>\n",
       "    </tr>\n",
       "  </thead>\n",
       "  <tbody>\n",
       "    <tr>\n",
       "      <th>0</th>\n",
       "      <td>cb774db0d1</td>\n",
       "      <td>I`d have responded, if I were going</td>\n",
       "      <td>1</td>\n",
       "      <td>['id', 'have', 'respond', 'if', 'i', 'were', '...</td>\n",
       "    </tr>\n",
       "    <tr>\n",
       "      <th>1</th>\n",
       "      <td>549e992a42</td>\n",
       "      <td>Sooo SAD I will miss you here in San Diego!!!</td>\n",
       "      <td>0</td>\n",
       "      <td>['sooo', 'sad', 'i', 'will', 'miss', 'you', 'h...</td>\n",
       "    </tr>\n",
       "    <tr>\n",
       "      <th>2</th>\n",
       "      <td>088c60f138</td>\n",
       "      <td>my boss is bullying me...</td>\n",
       "      <td>0</td>\n",
       "      <td>['my', 'boss', 'is', 'bulli', 'me']</td>\n",
       "    </tr>\n",
       "    <tr>\n",
       "      <th>3</th>\n",
       "      <td>9642c003ef</td>\n",
       "      <td>what interview! leave me alone</td>\n",
       "      <td>0</td>\n",
       "      <td>['what', 'interview', 'leav', 'me', 'alon']</td>\n",
       "    </tr>\n",
       "    <tr>\n",
       "      <th>4</th>\n",
       "      <td>358bd9e861</td>\n",
       "      <td>Sons of ****, why couldn`t they put them on t...</td>\n",
       "      <td>0</td>\n",
       "      <td>['son', 'of', 'whi', 'couldnt', 'they', 'put',...</td>\n",
       "    </tr>\n",
       "  </tbody>\n",
       "</table>\n",
       "</div>"
      ],
      "text/plain": [
       "           id                                           raw_text  label  \\\n",
       "0  cb774db0d1                I`d have responded, if I were going      1   \n",
       "1  549e992a42      Sooo SAD I will miss you here in San Diego!!!      0   \n",
       "2  088c60f138                          my boss is bullying me...      0   \n",
       "3  9642c003ef                     what interview! leave me alone      0   \n",
       "4  358bd9e861   Sons of ****, why couldn`t they put them on t...      0   \n",
       "\n",
       "                                                text  \n",
       "0  ['id', 'have', 'respond', 'if', 'i', 'were', '...  \n",
       "1  ['sooo', 'sad', 'i', 'will', 'miss', 'you', 'h...  \n",
       "2                ['my', 'boss', 'is', 'bulli', 'me']  \n",
       "3        ['what', 'interview', 'leav', 'me', 'alon']  \n",
       "4  ['son', 'of', 'whi', 'couldnt', 'they', 'put',...  "
      ]
     },
     "execution_count": 10,
     "metadata": {},
     "output_type": "execute_result"
    }
   ],
   "source": [
    "data.head()"
   ]
  },
  {
   "cell_type": "markdown",
   "metadata": {},
   "source": [
    "# Model Training"
   ]
  },
  {
   "cell_type": "markdown",
   "metadata": {},
   "source": [
    "Split Training/Test-Data and Transform into a vectorized form"
   ]
  },
  {
   "cell_type": "code",
   "execution_count": 11,
   "metadata": {},
   "outputs": [],
   "source": [
    "x_train, x_test, y_train, y_test = model_selection.train_test_split(data[\"text\"], data[\"label\"], test_size=0.2, random_state=42)"
   ]
  },
  {
   "cell_type": "code",
   "execution_count": 12,
   "metadata": {},
   "outputs": [],
   "source": [
    "# define an apply the TF-IDF Vectorizer from sklearn\n",
    "tfidf_vect = TfidfVectorizer(analyzer=\"word\", strip_accents=\"unicode\", stop_words=stop, min_df=10)\n",
    "data_tfidf = tfidf_vect.fit_transform(data[\"text\"])\n",
    "x_train_tfidf = tfidf_vect.transform(x_train)\n",
    "x_test_tfidf = tfidf_vect.transform(x_test)"
   ]
  },
  {
   "cell_type": "code",
   "execution_count": 13,
   "metadata": {},
   "outputs": [
    {
     "name": "stdout",
     "output_type": "stream",
     "text": [
      "# of Features (Words): 2197\n"
     ]
    }
   ],
   "source": [
    "print(\"# of Features (Words):\", len(tfidf_vect.get_feature_names_out()))"
   ]
  },
  {
   "cell_type": "markdown",
   "metadata": {},
   "source": [
    "Naive Bayes Classifier with cross-validation"
   ]
  },
  {
   "cell_type": "code",
   "execution_count": 14,
   "metadata": {},
   "outputs": [
    {
     "name": "stdout",
     "output_type": "stream",
     "text": [
      "Average Accuracy of X-Val: 64.54%\n"
     ]
    }
   ],
   "source": [
    "NB = naive_bayes.MultinomialNB()\n",
    "xval = model_selection.cross_validate(NB, data_tfidf, data[\"label\"], cv=10)\n",
    "\n",
    "# fit model on all data\n",
    "NB.fit(data_tfidf, data[\"label\"])\n",
    "\n",
    "# Average Accuracy:\n",
    "print(f\"Average Accuracy of X-Val: {round(avg(xval['test_score'])*100, 2)}%\")"
   ]
  },
  {
   "cell_type": "markdown",
   "metadata": {},
   "source": [
    "Support Vector Machine"
   ]
  },
  {
   "cell_type": "markdown",
   "metadata": {},
   "source": [
    "Using GridSearch for hyperparameter-tuning"
   ]
  },
  {
   "cell_type": "code",
   "execution_count": 15,
   "metadata": {},
   "outputs": [],
   "source": [
    "# parameters = [{\n",
    "# 'kernel': ['poly', 'rbf', 'linear', 'sigmoid'], \n",
    "# 'C': [0.1, 0.75, 1, 2],\n",
    "# 'degree' : [1,2,3,4,5],\n",
    "# 'gamma' : ['scale', 'auto'],\n",
    "# 'class_weight' : ['balanced', None],\n",
    "# 'cache_size' : [2500],\n",
    "# 'random_state' : [42],\n",
    "# 'decision_function_shape' : ['ovo', 'ovr']\n",
    "# }]\n",
    "\n",
    "# clf = model_selection.GridSearchCV(\n",
    "#         svm.SVC(), parameters, scoring='accuracy'\n",
    "#     )\n",
    "# clf.fit(x_train_tfidf, y_train)\n",
    "# print(f\"Best parameters: {clf.best_estimator_}\")"
   ]
  },
  {
   "cell_type": "code",
   "execution_count": 16,
   "metadata": {},
   "outputs": [
    {
     "name": "stdout",
     "output_type": "stream",
     "text": [
      "Support Vector Machine Accuracy Score: 71.37%\n"
     ]
    },
    {
     "data": {
      "image/png": "[encoded data removed]",
      "text/plain": [
       "<Figure size 432x288 with 2 Axes>"
      ]
     },
     "metadata": {
      "needs_background": "light"
     },
     "output_type": "display_data"
    }
   ],
   "source": [
    "SVM = svm.SVC(C=1, kernel='linear', cache_size=2000, break_ties=False, decision_function_shape=\"ovr\", random_state=42)\n",
    "SVM.fit(x_train_tfidf, y_train)\n",
    "\n",
    "predictions_SVM = SVM.predict(x_test_tfidf)\n",
    "\n",
    "print(f\"Support Vector Machine Accuracy Score: {round(accuracy_score(predictions_SVM, y_test)*100, 2)}%\")\n",
    "disp = ConfusionMatrixDisplay.from_predictions(y_test, predictions_SVM, normalize=\"true\", display_labels=[\"negative\", \"neutral\", \"positive\"], cmap=\"Reds\")"
   ]
  },
  {
   "cell_type": "markdown",
   "metadata": {},
   "source": [
    "# Test on self-labelled game related tweets"
   ]
  },
  {
   "cell_type": "code",
   "execution_count": 30,
   "metadata": {},
   "outputs": [
    {
     "data": {
      "text/html": [
       "<div>\n",
       "<style scoped>\n",
       "    .dataframe tbody tr th:only-of-type {\n",
       "        vertical-align: middle;\n",
       "    }\n",
       "\n",
       "    .dataframe tbody tr th {\n",
       "        vertical-align: top;\n",
       "    }\n",
       "\n",
       "    .dataframe thead th {\n",
       "        text-align: right;\n",
       "    }\n",
       "</style>\n",
       "<table border=\"1\" class=\"dataframe\">\n",
       "  <thead>\n",
       "    <tr style=\"text-align: right;\">\n",
       "      <th></th>\n",
       "      <th>label</th>\n",
       "      <th>text</th>\n",
       "    </tr>\n",
       "  </thead>\n",
       "  <tbody>\n",
       "    <tr>\n",
       "      <th>0</th>\n",
       "      <td>0</td>\n",
       "      <td>Okay, someone explain to me why Fall Guys and ...</td>\n",
       "    </tr>\n",
       "    <tr>\n",
       "      <th>1</th>\n",
       "      <td>1</td>\n",
       "      <td>Look at this key I discovered on the Sea of Th...</td>\n",
       "    </tr>\n",
       "    <tr>\n",
       "      <th>2</th>\n",
       "      <td>1</td>\n",
       "      <td>Going Live ! Solo Slooping on the Sea of Thiev...</td>\n",
       "    </tr>\n",
       "    <tr>\n",
       "      <th>3</th>\n",
       "      <td>1</td>\n",
       "      <td>@KirkRooster Why isn’t gow boat travel as real...</td>\n",
       "    </tr>\n",
       "    <tr>\n",
       "      <th>4</th>\n",
       "      <td>2</td>\n",
       "      <td>@ItsCsteph @JAAY_ROCK_ Sea of Thieves let's yo...</td>\n",
       "    </tr>\n",
       "    <tr>\n",
       "      <th>...</th>\n",
       "      <td>...</td>\n",
       "      <td>...</td>\n",
       "    </tr>\n",
       "    <tr>\n",
       "      <th>980</th>\n",
       "      <td>0</td>\n",
       "      <td>How the fuck is Minecraft cross platform but G...</td>\n",
       "    </tr>\n",
       "    <tr>\n",
       "      <th>988</th>\n",
       "      <td>0</td>\n",
       "      <td>someone play fortnite or roblox with me i’m so...</td>\n",
       "    </tr>\n",
       "    <tr>\n",
       "      <th>1065</th>\n",
       "      <td>1</td>\n",
       "      <td>Grand Theft Auto V - PlayStation 5 #ps5 #gameg...</td>\n",
       "    </tr>\n",
       "    <tr>\n",
       "      <th>1574</th>\n",
       "      <td>1</td>\n",
       "      <td>Grand Theft Auto V - Playstation 1 (Gameplay)....</td>\n",
       "    </tr>\n",
       "    <tr>\n",
       "      <th>1980</th>\n",
       "      <td>1</td>\n",
       "      <td>Get Grand Theft Auto: San Andreas Hack from Tu...</td>\n",
       "    </tr>\n",
       "  </tbody>\n",
       "</table>\n",
       "<p>688 rows × 2 columns</p>\n",
       "</div>"
      ],
      "text/plain": [
       "      label                                               text\n",
       "0         0  Okay, someone explain to me why Fall Guys and ...\n",
       "1         1  Look at this key I discovered on the Sea of Th...\n",
       "2         1  Going Live ! Solo Slooping on the Sea of Thiev...\n",
       "3         1  @KirkRooster Why isn’t gow boat travel as real...\n",
       "4         2  @ItsCsteph @JAAY_ROCK_ Sea of Thieves let's yo...\n",
       "...     ...                                                ...\n",
       "980       0  How the fuck is Minecraft cross platform but G...\n",
       "988       0  someone play fortnite or roblox with me i’m so...\n",
       "1065      1  Grand Theft Auto V - PlayStation 5 #ps5 #gameg...\n",
       "1574      1  Grand Theft Auto V - Playstation 1 (Gameplay)....\n",
       "1980      1  Get Grand Theft Auto: San Andreas Hack from Tu...\n",
       "\n",
       "[688 rows x 2 columns]"
      ]
     },
     "execution_count": 30,
     "metadata": {},
     "output_type": "execute_result"
    }
   ],
   "source": [
    "testdata = pd.read_excel(archive.open(\"game_tweets.xlsx\"), usecols=[\"text\", \"label\"])\n",
    "# drop unlabelled data:\n",
    "testdata = testdata.dropna()\n",
    "testdata[\"label\"] = testdata[\"label\"].astype(int)\n",
    "\n",
    "testdata"
   ]
  },
  {
   "cell_type": "code",
   "execution_count": 27,
   "metadata": {},
   "outputs": [
    {
     "name": "stdout",
     "output_type": "stream",
     "text": [
      "Negative Sentiment (0): 61 tweets\n",
      "Neutral Sentiment (1): 428 tweets\n",
      "Positive Sentiment (2): 199 tweets\n"
     ]
    }
   ],
   "source": [
    "print(f\"Negative Sentiment (0): {testdata['label'].value_counts()[0]} tweets\")\n",
    "print(f\"Neutral Sentiment (1): {testdata['label'].value_counts()[1]} tweets\")\n",
    "print(f\"Positive Sentiment (2): {testdata['label'].value_counts()[2]} tweets\")"
   ]
  },
  {
   "cell_type": "markdown",
   "metadata": {},
   "source": [
    "Performing Preprocessing"
   ]
  },
  {
   "cell_type": "code",
   "execution_count": 31,
   "metadata": {},
   "outputs": [
    {
     "data": {
      "text/html": [
       "<div>\n",
       "<style scoped>\n",
       "    .dataframe tbody tr th:only-of-type {\n",
       "        vertical-align: middle;\n",
       "    }\n",
       "\n",
       "    .dataframe tbody tr th {\n",
       "        vertical-align: top;\n",
       "    }\n",
       "\n",
       "    .dataframe thead th {\n",
       "        text-align: right;\n",
       "    }\n",
       "</style>\n",
       "<table border=\"1\" class=\"dataframe\">\n",
       "  <thead>\n",
       "    <tr style=\"text-align: right;\">\n",
       "      <th></th>\n",
       "      <th>label</th>\n",
       "      <th>text</th>\n",
       "    </tr>\n",
       "  </thead>\n",
       "  <tbody>\n",
       "    <tr>\n",
       "      <th>0</th>\n",
       "      <td>0</td>\n",
       "      <td>['okay', 'someone', 'explain', 'to', 'me', 'wh...</td>\n",
       "    </tr>\n",
       "    <tr>\n",
       "      <th>1</th>\n",
       "      <td>1</td>\n",
       "      <td>['look', 'at', 'this', 'key', 'i', 'discovered...</td>\n",
       "    </tr>\n",
       "    <tr>\n",
       "      <th>2</th>\n",
       "      <td>1</td>\n",
       "      <td>['going', 'live', 'solo', 'slooping', 'on', 't...</td>\n",
       "    </tr>\n",
       "    <tr>\n",
       "      <th>3</th>\n",
       "      <td>1</td>\n",
       "      <td>['why', 'isn', '’', 't', 'gow', 'boat', 'trave...</td>\n",
       "    </tr>\n",
       "    <tr>\n",
       "      <th>4</th>\n",
       "      <td>2</td>\n",
       "      <td>['sea', 'of', 'thieves', 'lets', 'you', 'do', ...</td>\n",
       "    </tr>\n",
       "  </tbody>\n",
       "</table>\n",
       "</div>"
      ],
      "text/plain": [
       "   label                                               text\n",
       "0      0  ['okay', 'someone', 'explain', 'to', 'me', 'wh...\n",
       "1      1  ['look', 'at', 'this', 'key', 'i', 'discovered...\n",
       "2      1  ['going', 'live', 'solo', 'slooping', 'on', 't...\n",
       "3      1  ['why', 'isn', '’', 't', 'gow', 'boat', 'trave...\n",
       "4      2  ['sea', 'of', 'thieves', 'lets', 'you', 'do', ..."
      ]
     },
     "execution_count": 31,
     "metadata": {},
     "output_type": "execute_result"
    }
   ],
   "source": [
    "# testdata[\"processed_test\"] = data[\"raw_text\"].astype(str)\n",
    "testdata[\"text\"] = [entry.lower() for entry in testdata[\"text\"]]\n",
    "\n",
    "testdata[\"text\"] = testdata[\"text\"].apply(lambda x: re.sub(\"http[s]?://\\S+\", \"\", x))\n",
    "testdata[\"text\"] = testdata[\"text\"].apply(lambda x: re.sub(\"@\\S+\", \"\", x))\n",
    "testdata[\"text\"] = testdata[\"text\"].apply(lambda x: re.sub(\"-|\\.|,|'|\\?|\\!|`|\\*\", \"\", x))\n",
    "\n",
    "data['text'] = data['text'].apply(lambda x: ' '.join([pstemmer.stem(word) for word in x.split()]))\n",
    "\n",
    "testdata[\"text\"] = [str(word_tokenize(entry)) for entry in testdata[\"text\"]]\n",
    "\n",
    "testdata.head()"
   ]
  },
  {
   "cell_type": "code",
   "execution_count": 29,
   "metadata": {},
   "outputs": [
    {
     "name": "stdout",
     "output_type": "stream",
     "text": [
      "Naive Bayes Accuracy Score: 63.227%\n",
      "Support Vector Machine Accuracy Score: 64.971%\n"
     ]
    },
    {
     "data": {
      "image/png": "[encoded data removed]",
      "text/plain": [
       "<Figure size 432x288 with 2 Axes>"
      ]
     },
     "metadata": {
      "needs_background": "light"
     },
     "output_type": "display_data"
    }
   ],
   "source": [
    "testdata_tfidf = tfidf_vect.transform(testdata[\"text\"])\n",
    "predictions_NB = NB.predict(testdata_tfidf)\n",
    "predictions_SVM = SVM.predict(testdata_tfidf)\n",
    "print(f\"Naive Bayes Accuracy Score: {round(accuracy_score(predictions_NB, testdata['label'])*100, 3)}%\")\n",
    "print(f\"Support Vector Machine Accuracy Score: {round(accuracy_score(predictions_SVM, testdata['label'])*100, 3)}%\")\n",
    "disp = ConfusionMatrixDisplay.from_predictions(testdata[\"label\"], predictions_SVM, normalize=\"true\", display_labels=[\"negative\", \"neutral\", \"positive\"], cmap=\"Reds\")"
   ]
  },
  {
   "cell_type": "markdown",
   "metadata": {},
   "source": [
    "# Apply the best model on all our gaming related Tweets to get a result"
   ]
  },
  {
   "cell_type": "code",
   "execution_count": 21,
   "metadata": {},
   "outputs": [],
   "source": [
    "gamedata = pd.read_excel(archive.open(\"game_tweets.xlsx\"), usecols=[\"text\"])"
   ]
  },
  {
   "cell_type": "code",
   "execution_count": 22,
   "metadata": {},
   "outputs": [
    {
     "data": {
      "text/html": [
       "<div>\n",
       "<style scoped>\n",
       "    .dataframe tbody tr th:only-of-type {\n",
       "        vertical-align: middle;\n",
       "    }\n",
       "\n",
       "    .dataframe tbody tr th {\n",
       "        vertical-align: top;\n",
       "    }\n",
       "\n",
       "    .dataframe thead th {\n",
       "        text-align: right;\n",
       "    }\n",
       "</style>\n",
       "<table border=\"1\" class=\"dataframe\">\n",
       "  <thead>\n",
       "    <tr style=\"text-align: right;\">\n",
       "      <th></th>\n",
       "      <th>text</th>\n",
       "    </tr>\n",
       "  </thead>\n",
       "  <tbody>\n",
       "    <tr>\n",
       "      <th>0</th>\n",
       "      <td>['okay', 'someon', 'explain', 'to', 'me', 'whi...</td>\n",
       "    </tr>\n",
       "    <tr>\n",
       "      <th>1</th>\n",
       "      <td>['look', 'at', 'thi', 'key', 'i', 'discov', 'o...</td>\n",
       "    </tr>\n",
       "    <tr>\n",
       "      <th>2</th>\n",
       "      <td>['go', 'live', 'solo', 'sloop', 'on', 'the', '...</td>\n",
       "    </tr>\n",
       "    <tr>\n",
       "      <th>3</th>\n",
       "      <td>['whi', 'isn', '’', 't', 'gow', 'boat', 'trave...</td>\n",
       "    </tr>\n",
       "    <tr>\n",
       "      <th>4</th>\n",
       "      <td>['sea', 'of', 'thiev', 'let', 'you', 'do', 'it...</td>\n",
       "    </tr>\n",
       "  </tbody>\n",
       "</table>\n",
       "</div>"
      ],
      "text/plain": [
       "                                                text\n",
       "0  ['okay', 'someon', 'explain', 'to', 'me', 'whi...\n",
       "1  ['look', 'at', 'thi', 'key', 'i', 'discov', 'o...\n",
       "2  ['go', 'live', 'solo', 'sloop', 'on', 'the', '...\n",
       "3  ['whi', 'isn', '’', 't', 'gow', 'boat', 'trave...\n",
       "4  ['sea', 'of', 'thiev', 'let', 'you', 'do', 'it..."
      ]
     },
     "execution_count": 22,
     "metadata": {},
     "output_type": "execute_result"
    }
   ],
   "source": [
    "gamedata[\"text\"] = [entry.lower() for entry in gamedata[\"text\"]]\n",
    "\n",
    "gamedata[\"text\"] = gamedata[\"text\"].apply(lambda x: re.sub(\"http[s]?://\\S+\", \"\", x))\n",
    "gamedata[\"text\"] = gamedata[\"text\"].apply(lambda x: re.sub(\"@\\S+\", \"\", x))\n",
    "gamedata[\"text\"] = gamedata[\"text\"].apply(lambda x: re.sub(\"-|\\.|,|'|\\?|\\!|`|\\*\", \"\", x))\n",
    "\n",
    "gamedata['text'] = gamedata['text'].apply(lambda x: ' '.join([pstemmer.stem(word) for word in x.split()]))\n",
    "\n",
    "gamedata[\"text\"] = [str(word_tokenize(entry)) for entry in gamedata[\"text\"]]\n",
    "\n",
    "gamedata_tfidf = tfidf_vect.transform(gamedata[\"text\"])\n",
    "\n",
    "gamedata.head()"
   ]
  },
  {
   "cell_type": "code",
   "execution_count": 23,
   "metadata": {},
   "outputs": [
    {
     "data": {
      "text/plain": [
       "1    1764\n",
       "2     415\n",
       "0     294\n",
       "Name: prediction, dtype: int64"
      ]
     },
     "execution_count": 23,
     "metadata": {},
     "output_type": "execute_result"
    }
   ],
   "source": [
    "predictions = SVM.predict(gamedata_tfidf)\n",
    "gamedata.insert(1, \"prediction\", predictions)\n",
    "gamedata[\"prediction\"].value_counts()"
   ]
  }
 ],
 "metadata": {
  "kernelspec": {
   "display_name": "Python 3.9.2 64-bit",
   "language": "python",
   "name": "python3"
  },
  "language_info": {
   "codemirror_mode": {
    "name": "ipython",
    "version": 3
   },
   "file_extension": ".py",
   "mimetype": "text/x-python",
   "name": "python",
   "nbconvert_exporter": "python",
   "pygments_lexer": "ipython3",
   "version": "3.9.2"
  },
  "orig_nbformat": 4,
  "vscode": {
   "interpreter": {
    "hash": "69a1a1d853624da88fe3a3558871328a73b555428be3313eebd574666bb37328"
   }
  }
 },
 "nbformat": 4,
 "nbformat_minor": 2
}
