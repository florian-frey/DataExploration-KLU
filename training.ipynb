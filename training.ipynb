{
 "cells": [
  {
   "cell_type": "code",
   "execution_count": 1,
   "metadata": {},
   "outputs": [
    {
     "name": "stderr",
     "output_type": "stream",
     "text": [
      "[nltk_data] Downloading package punkt to\n",
      "[nltk_data]     C:\\Users\\lavri\\AppData\\Roaming\\nltk_data...\n",
      "[nltk_data]   Package punkt is already up-to-date!\n"
     ]
    },
    {
     "data": {
      "text/plain": [
       "True"
      ]
     },
     "execution_count": 1,
     "metadata": {},
     "output_type": "execute_result"
    }
   ],
   "source": [
    "import zipfile\n",
    "import pandas as pd\n",
    "import nltk\n",
    "\n",
    "import pandas as pd\n",
    "import numpy as np\n",
    "from nltk.tokenize import word_tokenize\n",
    "from nltk import pos_tag\n",
    "from nltk.corpus import stopwords\n",
    "from nltk.stem import WordNetLemmatizer\n",
    "from sklearn.preprocessing import LabelEncoder\n",
    "from collections import defaultdict\n",
    "from nltk.corpus import wordnet as wn\n",
    "from sklearn.feature_extraction.text import TfidfVectorizer\n",
    "from sklearn import model_selection, naive_bayes, svm\n",
    "from sklearn.metrics import accuracy_score\n",
    "\n",
    "nltk.download('punkt')"
   ]
  },
  {
   "cell_type": "code",
   "execution_count": 2,
   "metadata": {},
   "outputs": [],
   "source": [
    "archive = zipfile.ZipFile('training_data.zip', 'r')\n",
    "df = pd.read_csv(archive.open('training.1600000.processed.noemoticon.csv'), header=None, encoding_errors=\"replace\")\n",
    "# df = pd.read_csv(\"training_data/training.1600000.processed.noemoticon.csv\", encoding=\"utf-8\", encoding_errors=\"replace\")"
   ]
  },
  {
   "cell_type": "code",
   "execution_count": 3,
   "metadata": {},
   "outputs": [
    {
     "data": {
      "text/html": [
       "<div>\n",
       "<style scoped>\n",
       "    .dataframe tbody tr th:only-of-type {\n",
       "        vertical-align: middle;\n",
       "    }\n",
       "\n",
       "    .dataframe tbody tr th {\n",
       "        vertical-align: top;\n",
       "    }\n",
       "\n",
       "    .dataframe thead th {\n",
       "        text-align: right;\n",
       "    }\n",
       "</style>\n",
       "<table border=\"1\" class=\"dataframe\">\n",
       "  <thead>\n",
       "    <tr style=\"text-align: right;\">\n",
       "      <th></th>\n",
       "      <th>0</th>\n",
       "      <th>1</th>\n",
       "      <th>2</th>\n",
       "      <th>3</th>\n",
       "      <th>4</th>\n",
       "      <th>5</th>\n",
       "    </tr>\n",
       "  </thead>\n",
       "  <tbody>\n",
       "    <tr>\n",
       "      <th>0</th>\n",
       "      <td>0</td>\n",
       "      <td>1467810369</td>\n",
       "      <td>Mon Apr 06 22:19:45 PDT 2009</td>\n",
       "      <td>NO_QUERY</td>\n",
       "      <td>_TheSpecialOne_</td>\n",
       "      <td>@switchfoot http://twitpic.com/2y1zl - Awww, t...</td>\n",
       "    </tr>\n",
       "    <tr>\n",
       "      <th>1</th>\n",
       "      <td>0</td>\n",
       "      <td>1467810672</td>\n",
       "      <td>Mon Apr 06 22:19:49 PDT 2009</td>\n",
       "      <td>NO_QUERY</td>\n",
       "      <td>scotthamilton</td>\n",
       "      <td>is upset that he can't update his Facebook by ...</td>\n",
       "    </tr>\n",
       "    <tr>\n",
       "      <th>2</th>\n",
       "      <td>0</td>\n",
       "      <td>1467810917</td>\n",
       "      <td>Mon Apr 06 22:19:53 PDT 2009</td>\n",
       "      <td>NO_QUERY</td>\n",
       "      <td>mattycus</td>\n",
       "      <td>@Kenichan I dived many times for the ball. Man...</td>\n",
       "    </tr>\n",
       "    <tr>\n",
       "      <th>3</th>\n",
       "      <td>0</td>\n",
       "      <td>1467811184</td>\n",
       "      <td>Mon Apr 06 22:19:57 PDT 2009</td>\n",
       "      <td>NO_QUERY</td>\n",
       "      <td>ElleCTF</td>\n",
       "      <td>my whole body feels itchy and like its on fire</td>\n",
       "    </tr>\n",
       "    <tr>\n",
       "      <th>4</th>\n",
       "      <td>0</td>\n",
       "      <td>1467811193</td>\n",
       "      <td>Mon Apr 06 22:19:57 PDT 2009</td>\n",
       "      <td>NO_QUERY</td>\n",
       "      <td>Karoli</td>\n",
       "      <td>@nationwideclass no, it's not behaving at all....</td>\n",
       "    </tr>\n",
       "  </tbody>\n",
       "</table>\n",
       "</div>"
      ],
      "text/plain": [
       "   0           1                             2         3                4  \\\n",
       "0  0  1467810369  Mon Apr 06 22:19:45 PDT 2009  NO_QUERY  _TheSpecialOne_   \n",
       "1  0  1467810672  Mon Apr 06 22:19:49 PDT 2009  NO_QUERY    scotthamilton   \n",
       "2  0  1467810917  Mon Apr 06 22:19:53 PDT 2009  NO_QUERY         mattycus   \n",
       "3  0  1467811184  Mon Apr 06 22:19:57 PDT 2009  NO_QUERY          ElleCTF   \n",
       "4  0  1467811193  Mon Apr 06 22:19:57 PDT 2009  NO_QUERY           Karoli   \n",
       "\n",
       "                                                   5  \n",
       "0  @switchfoot http://twitpic.com/2y1zl - Awww, t...  \n",
       "1  is upset that he can't update his Facebook by ...  \n",
       "2  @Kenichan I dived many times for the ball. Man...  \n",
       "3    my whole body feels itchy and like its on fire   \n",
       "4  @nationwideclass no, it's not behaving at all....  "
      ]
     },
     "execution_count": 3,
     "metadata": {},
     "output_type": "execute_result"
    }
   ],
   "source": [
    "# target: the polarity of the tweet (0 = negative, 2 = neutral, 4 = positive)\n",
    "\n",
    "# ids: The id of the tweet ( 2087)\n",
    "\n",
    "# date: the date of the tweet (Sat May 16 23:58:44 UTC 2009)\n",
    "\n",
    "# flag: The query (lyx). If there is no query, then this value is NO_QUERY.\n",
    "\n",
    "# user: the user that tweeted (robotickilldozr)\n",
    "\n",
    "# text: the text of the tweet (Lyx is cool)\n",
    "\n",
    "df.loc[df[0]==4, 0]= 1\n",
    "df.head()"
   ]
  },
  {
   "cell_type": "code",
   "execution_count": 4,
   "metadata": {},
   "outputs": [
    {
     "data": {
      "text/html": [
       "<div>\n",
       "<style scoped>\n",
       "    .dataframe tbody tr th:only-of-type {\n",
       "        vertical-align: middle;\n",
       "    }\n",
       "\n",
       "    .dataframe tbody tr th {\n",
       "        vertical-align: top;\n",
       "    }\n",
       "\n",
       "    .dataframe thead th {\n",
       "        text-align: right;\n",
       "    }\n",
       "</style>\n",
       "<table border=\"1\" class=\"dataframe\">\n",
       "  <thead>\n",
       "    <tr style=\"text-align: right;\">\n",
       "      <th></th>\n",
       "      <th>0</th>\n",
       "      <th>5</th>\n",
       "    </tr>\n",
       "  </thead>\n",
       "  <tbody>\n",
       "    <tr>\n",
       "      <th>0</th>\n",
       "      <td>0</td>\n",
       "      <td>@switchfoot http://twitpic.com/2y1zl - Awww, t...</td>\n",
       "    </tr>\n",
       "    <tr>\n",
       "      <th>1</th>\n",
       "      <td>0</td>\n",
       "      <td>is upset that he can't update his Facebook by ...</td>\n",
       "    </tr>\n",
       "    <tr>\n",
       "      <th>2</th>\n",
       "      <td>0</td>\n",
       "      <td>@Kenichan I dived many times for the ball. Man...</td>\n",
       "    </tr>\n",
       "    <tr>\n",
       "      <th>3</th>\n",
       "      <td>0</td>\n",
       "      <td>my whole body feels itchy and like its on fire</td>\n",
       "    </tr>\n",
       "    <tr>\n",
       "      <th>4</th>\n",
       "      <td>0</td>\n",
       "      <td>@nationwideclass no, it's not behaving at all....</td>\n",
       "    </tr>\n",
       "  </tbody>\n",
       "</table>\n",
       "</div>"
      ],
      "text/plain": [
       "   0                                                  5\n",
       "0  0  @switchfoot http://twitpic.com/2y1zl - Awww, t...\n",
       "1  0  is upset that he can't update his Facebook by ...\n",
       "2  0  @Kenichan I dived many times for the ball. Man...\n",
       "3  0    my whole body feels itchy and like its on fire \n",
       "4  0  @nationwideclass no, it's not behaving at all...."
      ]
     },
     "execution_count": 4,
     "metadata": {},
     "output_type": "execute_result"
    }
   ],
   "source": [
    "data = df.drop([1,2,3,4], axis=1)\n",
    "# data.columns = [\"label\",\"text\"]\n",
    "data.head()"
   ]
  },
  {
   "cell_type": "code",
   "execution_count": 5,
   "metadata": {},
   "outputs": [
    {
     "data": {
      "text/html": [
       "<div>\n",
       "<style scoped>\n",
       "    .dataframe tbody tr th:only-of-type {\n",
       "        vertical-align: middle;\n",
       "    }\n",
       "\n",
       "    .dataframe tbody tr th {\n",
       "        vertical-align: top;\n",
       "    }\n",
       "\n",
       "    .dataframe thead th {\n",
       "        text-align: right;\n",
       "    }\n",
       "</style>\n",
       "<table border=\"1\" class=\"dataframe\">\n",
       "  <thead>\n",
       "    <tr style=\"text-align: right;\">\n",
       "      <th></th>\n",
       "      <th>0</th>\n",
       "      <th>5</th>\n",
       "    </tr>\n",
       "  </thead>\n",
       "  <tbody>\n",
       "    <tr>\n",
       "      <th>0</th>\n",
       "      <td>0</td>\n",
       "      <td>@switchfoot http://twitpic.com/2y1zl - awww, t...</td>\n",
       "    </tr>\n",
       "    <tr>\n",
       "      <th>1</th>\n",
       "      <td>0</td>\n",
       "      <td>is upset that he can't update his facebook by ...</td>\n",
       "    </tr>\n",
       "    <tr>\n",
       "      <th>2</th>\n",
       "      <td>0</td>\n",
       "      <td>@kenichan i dived many times for the ball. man...</td>\n",
       "    </tr>\n",
       "    <tr>\n",
       "      <th>3</th>\n",
       "      <td>0</td>\n",
       "      <td>my whole body feels itchy and like its on fire</td>\n",
       "    </tr>\n",
       "    <tr>\n",
       "      <th>4</th>\n",
       "      <td>0</td>\n",
       "      <td>@nationwideclass no, it's not behaving at all....</td>\n",
       "    </tr>\n",
       "  </tbody>\n",
       "</table>\n",
       "</div>"
      ],
      "text/plain": [
       "   0                                                  5\n",
       "0  0  @switchfoot http://twitpic.com/2y1zl - awww, t...\n",
       "1  0  is upset that he can't update his facebook by ...\n",
       "2  0  @kenichan i dived many times for the ball. man...\n",
       "3  0    my whole body feels itchy and like its on fire \n",
       "4  0  @nationwideclass no, it's not behaving at all...."
      ]
     },
     "execution_count": 5,
     "metadata": {},
     "output_type": "execute_result"
    }
   ],
   "source": [
    "# data = data[\"text\"].dropna()\n",
    "data[5] = [entry.lower() for entry in data[5]]\n",
    "data.head()"
   ]
  },
  {
   "cell_type": "code",
   "execution_count": 6,
   "metadata": {},
   "outputs": [],
   "source": [
    "# data[5]= [word_tokenize(entry) for entry in data[5]]"
   ]
  },
  {
   "cell_type": "code",
   "execution_count": 7,
   "metadata": {},
   "outputs": [],
   "source": [
    "# data.to_csv('tokenized_data.csv', index=False)\n",
    "data = pd.read_csv('tokenized_data.csv')"
   ]
  },
  {
   "cell_type": "code",
   "execution_count": 8,
   "metadata": {},
   "outputs": [
    {
     "data": {
      "text/html": [
       "<div>\n",
       "<style scoped>\n",
       "    .dataframe tbody tr th:only-of-type {\n",
       "        vertical-align: middle;\n",
       "    }\n",
       "\n",
       "    .dataframe tbody tr th {\n",
       "        vertical-align: top;\n",
       "    }\n",
       "\n",
       "    .dataframe thead th {\n",
       "        text-align: right;\n",
       "    }\n",
       "</style>\n",
       "<table border=\"1\" class=\"dataframe\">\n",
       "  <thead>\n",
       "    <tr style=\"text-align: right;\">\n",
       "      <th></th>\n",
       "      <th>0</th>\n",
       "      <th>5</th>\n",
       "    </tr>\n",
       "  </thead>\n",
       "  <tbody>\n",
       "    <tr>\n",
       "      <th>0</th>\n",
       "      <td>0</td>\n",
       "      <td>['@', 'switchfoot', 'http', ':', '//twitpic.co...</td>\n",
       "    </tr>\n",
       "    <tr>\n",
       "      <th>1</th>\n",
       "      <td>0</td>\n",
       "      <td>['is', 'upset', 'that', 'he', 'ca', \"n't\", 'up...</td>\n",
       "    </tr>\n",
       "    <tr>\n",
       "      <th>2</th>\n",
       "      <td>0</td>\n",
       "      <td>['@', 'kenichan', 'i', 'dived', 'many', 'times...</td>\n",
       "    </tr>\n",
       "    <tr>\n",
       "      <th>3</th>\n",
       "      <td>0</td>\n",
       "      <td>['my', 'whole', 'body', 'feels', 'itchy', 'and...</td>\n",
       "    </tr>\n",
       "    <tr>\n",
       "      <th>4</th>\n",
       "      <td>0</td>\n",
       "      <td>['@', 'nationwideclass', 'no', ',', 'it', \"'s\"...</td>\n",
       "    </tr>\n",
       "  </tbody>\n",
       "</table>\n",
       "</div>"
      ],
      "text/plain": [
       "   0                                                  5\n",
       "0  0  ['@', 'switchfoot', 'http', ':', '//twitpic.co...\n",
       "1  0  ['is', 'upset', 'that', 'he', 'ca', \"n't\", 'up...\n",
       "2  0  ['@', 'kenichan', 'i', 'dived', 'many', 'times...\n",
       "3  0  ['my', 'whole', 'body', 'feels', 'itchy', 'and...\n",
       "4  0  ['@', 'nationwideclass', 'no', ',', 'it', \"'s\"..."
      ]
     },
     "execution_count": 8,
     "metadata": {},
     "output_type": "execute_result"
    }
   ],
   "source": [
    "data.head()"
   ]
  },
  {
   "cell_type": "code",
   "execution_count": 9,
   "metadata": {},
   "outputs": [],
   "source": [
    "Train_X, Test_X, Train_Y, Test_Y = model_selection.train_test_split(data['5'],data['0'],test_size=0.20)"
   ]
  },
  {
   "cell_type": "code",
   "execution_count": 10,
   "metadata": {},
   "outputs": [],
   "source": [
    "Tfidf_vect = TfidfVectorizer(max_features=5000)\n",
    "Tfidf_vect.fit(data['5'])\n",
    "Train_X_Tfidf = Tfidf_vect.transform(Train_X)\n",
    "Test_X_Tfidf = Tfidf_vect.transform(Test_X)"
   ]
  },
  {
   "cell_type": "code",
   "execution_count": 11,
   "metadata": {},
   "outputs": [
    {
     "name": "stdout",
     "output_type": "stream",
     "text": [
      "{'http': 2153, 'twitpic': 4564, 'com': 945, 'awww': 400, 'that': 4342, 'bummer': 712, 'you': 4972, 'shoulda': 3862, 'got': 1877, 'david': 1162, 'of': 3066, 'third': 4373, 'day': 1165, 'to': 4431, 'do': 1293, 'it': 2283, 'is': 2277, 'upset': 4637, 'he': 2013, 'ca': 738, 'update': 4627, 'his': 2080, 'facebook': 1551, 'by': 736, 'texting': 4329, 'and': 248, 'might': 2795, 'cry': 1089, 'as': 330, 'result': 3602, 'school': 3736, 'today': 4433, 'also': 227, 'blah': 559, 'many': 2696, 'times': 4416, 'for': 1702, 'the': 4344, 'ball': 433, 'managed': 2687, 'save': 3721, '50': 86, 'rest': 3599, 'go': 1848, 'out': 3134, 'my': 2913, 'whole': 4807, 'body': 598, 'feels': 1610, 'itchy': 2286, 'like': 2550, 'its': 2290, 'on': 3091, 'fire': 1649, 'no': 3006, 'not': 3029, 'at': 350, 'all': 214, 'mad': 2663, 'why': 4815, 'am': 231, 'here': 2055, 'because': 482, 'see': 3770, 'over': 3140, 'there': 4357, 'crew': 1075, 'need': 2952, 'hug': 2155, 'hey': 2060, 'long': 2608, 'time': 4415, 'yes': 4959, 'rains': 3494, 'bit': 548, 'only': 3096, 'lol': 2603, 'fine': 1643, 'thanks': 4339, 'how': 2145, 'nope': 3022, 'they': 4363, 'did': 1242, 'have': 2002, 'que': 3469, 'me': 2739, 'spring': 4072, 'break': 656, 'in': 2221, 'plain': 3300, 'city': 895, 'just': 2380, 're': 3511, 'ears': 1397, 'could': 1031, 'bear': 471, 'watch': 4750, 'thought': 4382, 'loss': 2625, 'was': 4740, 'counts': 1039, 'idk': 2196, 'either': 1432, 'never': 2971, 'talk': 4263, 'anymore': 279, 'would': 4906, 've': 4671, 'been': 490, 'first': 1653, 'but': 728, 'gun': 1937, 'really': 3526, 'though': 4381, 'zac': 4994, 'wish': 4847, 'with': 4853, 'miss': 2821, 'premiere': 3385, 'death': 1178, 'scene': 3732, 'will': 4828, 'hurt': 2174, 'film': 1633, 'cut': 1115, 'now': 3039, 'about': 118, 'file': 1628, 'ahh': 190, 'ive': 2294, 'always': 229, 'wanted': 4731, 'rent': 3579, 'love': 2634, 'soundtrack': 4027, 'oh': 3076, 'dear': 1177, 'were': 4786, 'drinking': 1354, 'forgotten': 1712, 'table': 4251, 'drinks': 1355, 'most': 2869, 'so': 3969, 'get': 1810, 'much': 2895, 'done': 1314, 'one': 3093, 'friend': 1741, 'called': 749, 'asked': 339, 'meet': 2753, 'her': 2054, 'mid': 2792, 'valley': 4665, 'sigh': 3882, 'baked': 429, 'cake': 743, 'this': 4375, 'week': 4774, 'going': 1854, 'had': 1950, 'hoped': 2122, 'class': 897, 'tomorrow': 4451, 'hate': 1996, 'when': 4794, 'call': 748, 'wake': 4718, 'people': 3227, 'up': 4625, 'myself': 2916, 'sleep': 3931, 'after': 173, 'watching': 4753, 'marley': 2708, 'im': 2209, 'sad': 3691, 'ooooh': 3104, 'ok': 3083, 'wo': 4860, 'again': 176, 'meh': 2758, 'almost': 221, 'lover': 2639, 'track': 4488, 'gets': 1811, 'depressed': 1214, 'every': 1501, 'some1': 3988, 'hacked': 1949, 'account': 132, 'aim': 197, 'make': 2676, 'new': 2973, 'want': 4730, 'promote': 3433, 'gear': 1797, 'ride': 3620, 'may': 2732, 'sleeping': 3933, 'an': 246, 'option': 3115, 'realizing': 3525, 'morning': 2866, 'work': 4885, 'afternoon': 174, 'awe': 391, 'too': 4459, 'asian': 337, 'eyes': 1545, 'night': 2989, 'sick': 3879, 'spent': 4054, 'hour': 2138, 'sitting': 3916, 'shower': 3870, 'cause': 795, 'stand': 4087, 'held': 2044, 'back': 415, 'bed': 485, 'ill': 2207, 'tell': 4306, 'ya': 4935, 'story': 4140, 'later': 2480, 'good': 1862, 'be': 467, 'workin': 4887, 'three': 4386, 'more': 2863, 'hours': 2139, 'sorry': 4017, 'came': 755, 'gd': 1796, 'depressing': 1215, 'think': 4369, 'even': 1495, 'know': 2443, 'kids': 2410, '12': 15, 'gym': 1944, 'or': 3117, 'then': 4354, '10': 5, 'another': 266, 'gon': 1858, 'na': 2920, 'fly': 1680, 'girlfriend': 1826, 'feel': 1606, 'getting': 1813, 'study': 4165, 'exam': 1517, 'reason': 3528, 'guitar': 1935, 'who': 4804, 'has': 1993, 'enough': 1461, 'heart': 2029, 'feeling': 1608, 'wan': 4728, 'still': 4122, 'jonathanrknight': 2358, 'soo': 4006, 'finally': 1638, 'comfortable': 952, 'missed': 2822, 'falling': 1567, 'asleep': 342, 'heard': 2027, 'girl': 1825, 'being': 500, 'found': 1718, 'breaks': 659, 'family': 1572, 'yay': 4943, 'happy': 1985, 'your': 4976, 'job': 2337, 'means': 2743, 'less': 2526, 'checked': 845, 'user': 4654, 'blackberry': 558, 'looks': 2615, 'happening': 1980, 'are': 311, 'ppl': 3373, 'having': 2005, 'probs': 3415, 'man': 2685, 'ironing': 2276, 'fave': 1591, 'top': 4468, 'wear': 4762, 'meeting': 2754, 'burnt': 722, 'breaking': 658, 'tea': 4289, 'before': 494, 'plan': 3301, 'massive': 2719, 'broken': 678, 'promise': 3430, 'tinyurl': 4419, 'via': 4680, 'www': 4923, 'waiting': 4717, 'we': 4760, 'wow': 4908, 'tons': 4457, 'replies': 3586, 'from': 1748, 'unfollow': 4610, 'can': 760, 'friends': 1743, 'tweets': 4556, 'feed': 1603, 'lot': 2627, 'our': 3132, 'duck': 1373, 'chicken': 862, 'taking': 4260, 'put': 3464, 'vacation': 4663, 'photos': 3260, 'online': 3095, 'few': 1619, 'yrs': 4986, 'ago': 181, 'pc': 3216, 'crashed': 1062, 'forget': 1708, 'name': 2927, 'site': 3913, 'sure': 4214, 'what': 4790, 'dont': 1317, 'trade': 4490, 'away': 390, 'company': 964, 'andy': 250, 'happens': 1981, 'dallas': 1132, 'show': 3868, 'ta': 4250, 'say': 3725, 'shows': 3874, 'use': 4650, 'music': 2909, 'game': 1782, 'mmm': 2835, 'ugh': 4588, 'degrees': 1195, 'where': 4796, 'move': 2880, 'already': 225, 'sd': 3752, 'hmmm': 2088, 'random': 3499, 'glad': 1836, 'hear': 2026, 'yer': 4958, 'doing': 1306, 'well': 4782, 'ps3': 3442, 'playing': 3316, 'blood': 585, 'sand': 3710, 'leaving': 2510, 'parking': 3186, 'life': 2542, 'cool': 1014, 'sadly': 3693, 'gotten': 1879, 'experience': 1535, 'post': 3359, 'such': 4178, 'nice': 2981, 'bad': 421, 'rain': 3490, 'comes': 950, '5am': 89, 'around': 320, 'lost': 2626, 'pay': 3214, 'phone': 3256, 'bill': 535, 'lmao': 2587, 'aw': 384, 'mo': 2839, 'jobs': 2338, 'money': 2853, 'hell': 2045, 'min': 2806, 'forever': 1707, 'soon': 4007, 'agreed': 183, 'saw': 3724, 'haha': 1952, 'dude': 1374, 'look': 2611, 'em': 1437, 'unless': 4620, 'someone': 3992, 'says': 3728, 'added': 152, 'terrible': 4320, 'pop': 3345, 'right': 3625, 'start': 4094, 'working': 4888, 'jared': 2310, 'least': 2506, 'bands': 438, 'clearly': 904, 'ugly': 4592, 'shorts': 3858, 'black': 557, 'business': 724, 'socks': 3977, 'shoes': 3850, 'lucky': 2648, 'run': 3682, 'into': 2264, 'any': 276, 'cute': 1116, 'girls': 1829, 'location': 2596, 'picnic': 3271, 'smells': 3949, 'comments': 958, 'mug': 2898, 'asap': 331, 'charger': 833, 'csi': 1092, 'tonight': 4455, 'fml': 1683, 'arms': 318, 'sore': 4016, 'tennis': 4314, 'wonders': 4871, 'unhappy': 4613, 'split': 4061, 'saying': 3727, 'bye': 737, 'ur': 4640, 'those': 4379, 'shame': 3819, 'booked': 610, 'paid': 3159, 'mine': 2809, 'missin': 2824, 'boo': 607, 'damn': 1136, 'useless': 4653, 'blast': 563, 'hates': 1999, 'she': 3832, 'throat': 4389, 'worse': 4899, 'sup': 4206, 'mama': 2684, 'tummy': 4533, 'hurts': 2176, 'wonder': 4868, 'if': 2199, 'anything': 281, 'stop': 4131, 'smoking': 3957, 'fat': 1586, 'ones': 3094, 'babe': 408, 'fam': 1569, 'thankfully': 4338, 'evil': 1510, 'laugh': 2483, 'should': 3861, 'attention': 363, 'covered': 1049, 'photoshop': 3262, 'design': 1222, 'wednesday': 4771, 'poor': 3343, 'hills': 2073, 'pray': 3377, 'please': 3320, 'ex': 1514, 'sh': 3815, 'babies': 410, '1st': 34, 'birthday': 546, 'party': 3193, 'jerk': 2324, 'headache': 2015, 'hmm': 2087, 'enjoy': 1457, 'him': 2075, 'problems': 3414, 'things': 4367, 'find': 1640, 'little': 2578, 'puppy': 3455, 'apps': 305, 'profile': 3423, 'view': 4687, 'grace': 1883, 'wana': 4729, 'steve': 4117, 'since': 3900, 'easter': 1403, 'able': 117, 'ohh': 3077, 'actually': 148, 'won': 4867, 'follow': 1688, 'nite': 3001, 'favorite': 1593, 'teams': 4295, 'lose': 2622, 'missing': 2825, 'police': 3337, 'california': 747, 'tr': 4486, 'hope': 2121, 'fast': 1584, 'yesterday': 4963, 'pain': 3160, 'fail': 1555, 'whale': 4789, '15': 20, 'behind': 498, 'classes': 898, 'quot': 3480, 'house': 2140, 'remember': 3567, 'bum': 710, 'leg': 2515, 'serious': 3792, 'their': 4350, 'kinds': 2422, 'laptop': 2473, 'emily': 1442, 'mommy': 2848, 'training': 4495, 'misses': 2823, 'rather': 3506, 'send': 3783, 'messages': 2774, 'than': 4335, '3rd': 77, 'mixed': 2833, 'year': 4951, 'same': 3708, 'thing': 4366, 'laying': 2497, 'voice': 4701, 'sooo': 4009, 'killed': 2412, 'off': 3067, 'them': 4351, 'sense': 3787, 'refuse': 3553, 'believe': 502, 'happened': 1979, 'grind': 1911, 'cuz': 1121, 'yeah': 4948, 'chance': 821, 'cant': 768, '30am': 62, 'hanging': 1975, 'sing': 3901, 'sucks': 4181, 'aww': 399, 'beach': 468, 'pissed': 3288, 'radio': 3488, 'station': 4102, 'upside': 4638, 'down': 1331, 'head': 2014, 'some': 3987, 'sounds': 4026, 'mention': 2769, 'crying': 1090, 'made': 2664, 'late': 2478, 'snack': 3961, 'glass': 1838, 'sickness': 3880, 'big': 530, 'fan': 1574, 'wah': 4713, 'clip': 913, 'must': 2912, 'el': 1433, 'wait': 4714, 'till': 4413, 'something': 3994, 'else': 1436, 'blame': 560, 'broke': 677, 'seems': 3774, 'longer': 2609, 'terms': 4319, 'cold': 937, 'weather': 4764, 'take': 4256, 'turn': 4538, 'incredible': 2227, 'stuff': 4167, 'hoping': 2125, 'notice': 3035, 'told': 4441, 'said': 3698, 'bedtime': 487, 'alive': 213, 'tired': 4423, 'imma': 2214, 'try': 4520, 'hopefully': 2123, 'agh': 180, 'snow': 3967, 'thank': 4336, 'letting': 2533, 'direct': 1259, 'message': 2773, 'india': 2231, 'test': 4322, '10th': 11, 'win': 4831, 'without': 4855, 'guess': 1929, 'leavin': 2509, 'finish': 1646, 'editing': 1417, 'page': 3157, 'novel': 3037, 'probably': 3412, 'happen': 1978, 'pages': 3158, 'left': 2514, 'laid': 2462, 'read': 3515, '9th': 110, 'amp': 242, 'princess': 3404, 'saving': 3723, 'end': 1449, 'easy': 1404, 'books': 611, 'nokia': 3010, 'died': 1245, 'mom': 2844, 'cancer': 766, 'worried': 4895, 'better': 522, 'ended': 1450, 'breakfast': 657, 'keep': 2392, 'waking': 4719, 'lame': 2467, 'understand': 4607, 'heroes': 2057, 'season': 3758, 'living': 2583, 'downtown': 1336, 'fun': 1764, 'wise': 4846, 'junk': 2378, 'food': 1696, 'free': 1731, 'ate': 351, 'sour': 4029, 'ass': 344, 'cherry': 857, 'coke': 936, 'hard': 1986, 'hot': 2134, 'studying': 4166, 'star': 4090, 'sweet': 4233, 'although': 228, 'sent': 3788, 'picked': 3269, 'st': 4079, 'pretty': 3397, 'pick': 3268, 'way': 4758, 'until': 4623, 'alone': 222, 'downstairs': 1335, 'ryanseacrest': 3688, 'mean': 2741, 'seriously': 3793, 'kinda': 2421, 'sprint': 4073, 'chicago': 860, 'far': 1579, 'stuck': 4160, 'awake': 386, 'middle': 2793, 'second': 3765, 'row': 3668, 'felt': 1614, 'bubble': 694, 'gosh': 1875, 'sooooo': 4011, 'deleted': 1200, 'history': 2081, 'crazy': 1067, 'wind': 4832, 'ff': 1620, 'currently': 1108, 'grrr': 1922, 'acting': 142, 'weird': 4780, 'ho': 2091, 'thinking': 4371, 'full': 1762, 'songs': 4001, 'ughh': 4589, 'dvd': 1386, 'cos': 1025, 'heaps': 2025, 'deal': 1174, 'website': 4767, 'through': 4390, 'other': 3128, 'tips': 4421, 'swear': 4229, 'losing': 2624, 'tweeps': 4545, 'realized': 3524, 'hiding': 2066, 'staying': 4107, 'neighbors': 2959, 'loud': 2630, 'danny': 1146, 'wasnt': 4745, 'live': 2579, 'chat': 840, 'car': 773, 'trip': 4511, 'soooo': 4010, 'check': 844, 'blogspot': 582, 'closed': 916, 'downloading': 1334, 'nin': 2997, 'album': 207, 'come': 948, 'these': 4361, 'days': 1166, 'woke': 4862, 'written': 4914, 'mail': 2670, 'early': 1395, 'university': 4619, 'teach': 4290, '30': 60, 'hill': 2072, 'making': 2681, 'channels': 828, 'yet': 4964, 'boring': 622, 'lazy': 2499, 'buddy': 699, 'ny': 3053, 'french': 1734, 'south': 4031, 'beautiful': 478, 'problem': 3413, 'block': 574, 'meaning': 2742, 'clock': 914, 'difficult': 1252, 'fb': 1597, 'spencer': 4051, 'guy': 1941, 'dying': 1390, 'finale': 1637, 'next': 2977, '24': 46, 'president': 3393, 'woman': 4865, 'limited': 2559, 'letters': 2532, 'guys': 1942, 'dog': 1300, 'shit': 3844, 'screwed': 3749, 'tonite': 4456, 'interview': 2262, 'luck': 2646, 'choose': 883, 'chose': 885, 'accept': 125, 'help': 2048, 'dead': 1172, 'kill': 2411, 'seen': 3775, 'solid': 3984, 'hahaha': 1955, 'hrs': 2150, 'mind': 2807, 'nightmares': 2992, 'boot': 616, 'goin': 1853, 'angels': 254, 'library': 2537, 'does': 1298, 'nap': 2930, 'japanese': 2309, 'kind': 2420, 'bus': 723, 'ghost': 1817, 'world': 4892, 'canada': 761, 'supposed': 4213, 'shop': 3853, 'movie': 2883, 'feet': 1611, 'macbook': 2661, 'fell': 1612, 'e3': 1391, 'crash': 1061, 'while': 4801, 'somebody': 3989, 'couldnt': 1033, 'handle': 1969, 'cat': 790, 'heat': 2032, 'donniewahlberg': 1316, 'looking': 2614, 'thats': 4343, 'mag': 2666, 'fit': 1656, 'pictures': 3274, 'ever': 1500, 'magazine': 2667, 'tho': 4377, 'congrats': 987, 'totally': 4476, 'forgot': 1711, 'paula': 3213, 'amazing': 234, 'xxx': 4932, 'twitter': 4566, 'using': 4658, 'stupid': 4171, 'ughhh': 4590, 'advance': 165, 'shooting': 3852, 'outside': 3137, 'kidding': 2409, 'scared': 3730, 'tuesday': 4531, 'll': 2586, 'stress': 4151, 'become': 483, 'very': 4678, 'useful': 4652, 'us': 4647, 'disaster': 1267, 'news': 2976, 'trying': 4522, 'picture': 3273, 'upload': 4632, 'red': 3550, 'sox': 4033, 'rained': 3492, 'forward': 1717, 'opening': 3109, 'keys': 2401, 'dunno': 1381, 'home': 2105, 'town': 4483, 'pls': 3324, 'explain': 1536, 'parent': 3182, 'let': 2529, 'old': 3086, 'child': 864, 'walk': 4721, 'hello': 2047, '2009': 39, 'anti': 273, 'combo': 947, 'restaurant': 3600, 'eating': 1408, 'round': 3664, 'place': 3298, '2nd': 56, 'bathroom': 457, 'tacos': 4253, 'gay': 1794, 'lt': 2645, 'lonely': 2607, '22': 44, 'female': 1615, 'office': 3070, 'celebrate': 802, 'weekend': 4775, 'nothing': 3034, 'officially': 3072, 'twin': 4560, 'wont': 4872, 'write': 4911, 'heartbroken': 2030, 'praise': 3376, 'band': 437, 'lead': 2501, 'gt': 1927, 'john': 2344, 'play': 3311, 'fruit': 1751, 'doctor': 1296, 'bff': 527, 'reminds': 3574, 'shout': 3866, 'video': 4684, 'card': 775, 'naked': 2925, 'confused': 985, 'jk': 2335, 'sort': 4018, 'iphone': 2268, 'filling': 1632, 'form': 1713, 'past': 3202, 'change': 823, 'deserved': 1220, 'wat': 4749, 'gah': 1778, 'ring': 3626, 'download': 1332, 'internet': 2260, 'fuck': 1758, 'mikey': 2799, 'baby': 411, 'fucked': 1759, 'rude': 3675, 'uni': 4614, '8th': 104, 'april': 307, '13th': 17, 'july': 2372, 'comin': 955, 'jealous': 2316, 'face': 1550, 'golden': 1856, 'piece': 3276, 'fucking': 1761, 'ooh': 3100, 'excited': 1523, 'youtube': 4981, 'reach': 3512, 'bank': 440, 'holiday': 2097, 'agree': 182, 'theres': 4360, 'often': 3075, 'hilarious': 2071, 'lj': 2585, 'went': 4785, 'link': 2562, 'neither': 2961, 'tweeted': 4548, 'nearly': 2947, 'posted': 3360, 'goes': 1852, 'needs': 2955, 'son': 3999, 'stay': 4105, 'client': 909, 'boss': 625, 'english': 1456, 'text': 4327, 'writer': 4912, 'correctly': 1024, 'punch': 3451, 'apologize': 292, 'games': 1783, 'related': 3558, 'discussion': 1273, 'figure': 1625, 'hotel': 2135, 'etc': 1488, 'bc': 465, 'register': 3554, 'slept': 3937, 'pills': 3281, 'bass': 453, 'nighty': 2994, 'afraid': 171, 'code': 933, 'gone': 1860, 'needed': 2953, 'pee': 3222, 'yup': 4993, 'worst': 4901, 'schedule': 3733, 'tough': 4479, 'list': 2570, 'bar': 442, 'arrived': 322, 'dancing': 1141, 'art': 324, 'wants': 4733, 'ah': 184, 'bet': 519, 'craving': 1065, 'softball': 3981, 'basketball': 452, 'noo': 3014, 'accidentally': 129, 'reference': 3551, 'management': 2688, 'assignment': 346, 'hopes': 2124, 'doesnt': 1299, 'trouble': 4514, 'amazon': 236, 'worked': 4886, 'php': 3263, 'hosting': 2133, 'argh': 315, 'sleepy': 3936, 'wide': 4819, 'sold': 3983, 'watched': 4751, 'thunder': 4398, 'dreading': 1344, 'according': 131, 'bro': 676, 'poo': 3340, 'fight': 1623, 'poop': 3342, 'stolen': 4127, 'staff': 4081, 'thoughts': 4383, 'everybody': 1503, 'michigan': 2789, 'fill': 1630, 'two': 4577, 'seeing': 3771, 'everyday': 1504, 'germany': 1809, 'closing': 920, 'string': 4157, 'cheese': 850, 'idea': 2193, 'children': 866, 'stories': 4137, 'seem': 3772, 'wishing': 4851, 'covers': 1050, 'walking': 4723, 'energy': 1453, 'ep': 1470, 'awesome': 392, 'dang': 1143, 'knew': 2438, 'earlier': 1394, 'planned': 3304, 'writing': 4913, 'paper': 3175, 'course': 1042, 'access': 127, 'halo': 1965, 'map': 2697, 'pack': 3152, 'unfortunately': 4612, 'weeks': 4778, 'busy': 727, 'latest': 2481, 'project': 3426, 'ha': 1946, 'sun': 4195, 'harder': 1988, 'crush': 1087, 'jake': 2303, 'during': 1382, 'tom': 4442, 'tried': 4510, 'tech': 4299, 'state': 4099, 'omg': 3090, 'mouth': 2879, 'untill': 4624, 'braces': 646, 'annoyed': 264, 'easily': 1401, 'proposal': 3437, 'videos': 4685, 'spending': 4053, 'grandma': 1891, 'leave': 2507, 'herself': 2058, 'years': 4952, 'worth': 4902, 'alot': 224, 'finishing': 1648, 'possible': 3357, 'bones': 604, 'ache': 135, 'last': 2476, 'miserable': 2820, 'rachel': 3485, 'hang': 1973, 'dumb': 1379, 'folk': 1686, 'sat': 3716, 'bay': 460, 'hubby': 2154, 'thinks': 4372, 'important': 2216, 'spot': 4067, 'carpet': 782, 'trek': 4505, 'matter': 2728, 'easier': 1400, 'hair': 1960, 'color': 941, 'dye': 1389, 'within': 4854, 'reaction': 3514, 'whoa': 4805, 'coming': 956, 'medicine': 2748, 'suppose': 4212, 'wtf': 4918, 'maybe': 2733, 'couple': 1041, 'hon': 2110, 'productive': 3420, 'worry': 4897, 'learned': 2504, 'words': 4883, 'hay': 2008, 'ahhhh': 192, 'movies': 2884, 'rip': 3629, 'homework': 2108, 'taken': 4257, 'unfair': 4609, 'scratch': 3743, 'half': 1962, 'cookies': 1012, 'listening': 2575, 'sweets': 4237, 'chi': 859, 'plz': 3328, 'geez': 1800, 'meetings': 2755, 'emails': 1440, 'email': 1438, '6pm': 94, 'dark': 1151, 'ttyl': 4526, 'reply': 3587, 'ages': 179, 'emotional': 1446, 'men': 2767, 'both': 627, 'nick_carter': 2985, 'nick': 2984, 'jon': 2354, 'net': 2967, 'created': 1070, 'seconds': 3766, 'search': 3756, 'stock': 4124, 'running': 3683, 'swimming': 4240, 'sucked': 4180, 'die': 1244, 'chris': 886, 'info': 2236, 'open': 3107, 'doc': 1294, 'um': 4598, 'yucky': 4989, 'quick': 3474, 'song': 4000, 'myspace': 2917, 'messing': 2776, 'dad': 1126, 'started': 4095, 'coach': 930, 'weight': 4779, 'boyfriend': 642, 'complete': 969, 'idiot': 2195, 'works': 4890, 'ad': 149, 'host': 2132, 'rolls': 3653, 'sausage': 3720, 'monday': 2851, 'gg': 1816, 'episode': 1472, 'keeping': 2393, 'fingers': 1645, 'crossed': 1082, 'eat': 1405, 'skinny': 3924, 'vegas': 4673, 'hungry': 2169, 'tweetdeck': 4547, 'once': 3092, 'hated': 1997, 'passion': 3199, 'btw': 693, 'funny': 1770, 'quickly': 3475, 'freezing': 1733, 'bs': 690, 'sayin': 3726, 'wondering': 4870, 'ed': 1413, 'strong': 4158, 'hold': 2094, 'drive': 1356, 'range': 3501, 'anyone': 280, 'accident': 128, 'pushing': 3463, 'pants': 3173, 'street': 4148, 'jumped': 2374, 'kicked': 2405, 'jenny': 2322, 'shoe': 3849, 'changed': 824, 'default': 1191, 'gave': 1793, 'bored': 620, '140': 19, 'status': 4104, 'eh': 1430, 'awh': 395, 'definitely': 1193, 'copy': 1019, 'studio': 4164, '2008': 38, 'silly': 3892, 'anyway': 283, 'bright': 667, 'side': 3881, 'upon': 4635, 'pride': 3402, 'rare': 3503, 'fish': 1654, 'apparently': 294, 'taste': 4277, 'surprised': 4220, 'everyone': 1505, 'airport': 200, 'sell': 3779, 'bars': 444, 'comment': 957, 'announcement': 263, 'stayed': 4106, 'strange': 4142, 'everywhere': 1509, 'legal': 2516, 'packed': 3154, 'remove': 3577, 'jeez': 2318, 'saturday': 3717, 'along': 223, 'green': 1903, 'number': 3046, 'each': 1392, 'yea': 4947, 'quiet': 3476, 'nobody': 3007, 'cooking': 1013, 'okay': 3084, 'talked': 4264, 'owl': 3146, 'nature': 2938, 'zone': 4998, 'fair': 1560, 'nurse': 3048, '100': 6, 'tweet': 4546, 'everything': 1507, 'tempted': 4311, 'chocolate': 880, 'stressing': 4154, 'keeps': 2394, 'worn': 4894, 'december': 1180, 'repair': 3580, 'dreams': 1347, 'wall': 4724, 'lights': 2549, 'sister': 3910, 'passport': 3200, 'uh': 4593, 'god': 1850, 'ruined': 3678, 'belly': 506, 'button': 731, 'roger': 3649, 'rabbit': 3483, 'makes': 2678, 'cheap': 842, 'buying': 734, 'fall': 1565, 'nose': 3028, 'spinning': 4059, 'combination': 946, 'negative': 2956, 'vote': 4703, 'nasty': 2934, 'budget': 700, 'due': 1376, 'apple': 297, 'dammit': 1135, 'kings': 2424, 'stopped': 4132, 'quiz': 3479, 'others': 3129, 'raw': 3507, 'ish': 2278, 'prayers': 3379, 'real': 3519, 'twilight': 4559, 'jst': 2368, 'ddlovato': 1170, 'giant': 1818, 'fired': 1650, 'haz': 2010, 'iz': 2295, 'famous': 1573, 'book': 609, 'boston': 626, 'public': 3446, 'garden': 1787, 'however': 2146, 'heading': 2019, 'install': 2249, 'bloody': 586, 'knackered': 2435, 'garage': 1786, 'park': 3185, 'popular': 3349, 'reading': 3517, 'struggling': 4159, 'continue': 1000, 'flowers': 1678, 'camera': 756, 'liking': 2554, 'used': 4651, 'pity': 3293, 'blocked': 575, 'china': 875, 'vids': 4686, 'best': 514, 'sofa': 3979, 'which': 4800, 'sneak': 3963, 'zoo': 4999, 'kitties': 2432, 'cousins': 1046, 'daddy': 1127, 'brother': 681, 'angel': 253, 'trust': 4518, 'considering': 993, 'bestfriend': 516, 'grr': 1921, 'date': 1156, 'bottle': 630, 'tad': 4254, '40': 78, '75': 97, 'cats': 793, 'crap': 1059, 'dresses': 1350, 'horrible': 2127, 'punk': 3452, 'rock': 3642, 'britney': 675, 'ap': 286, 'cook': 1009, 'county': 1040, 'took': 4460, 'items': 2288, 'ebay': 1410, 'takes': 4258, 'presentation': 3391, '23': 45, 'hardest': 1989, 'starts': 4097, 'straight': 4141, 'sound': 4024, 'fav': 1590, 'lip': 2567, 'click': 907, 'spider': 4056, 'known': 2446, 'indonesia': 2233, 'states': 4101, 'furniture': 1771, 'turned': 4539, 'peaceful': 3219, 'bites': 552, 'hd': 2012, 'support': 4210, 'unlike': 4621, 'app': 293, 'store': 4135, 'pissing': 3289, 'dislike': 1278, 'emma': 1444, 'swollen': 4245, 'allergic': 216, 'thursday': 4402, 'tree': 4503, 'floor': 1674, 'runs': 3684, 'comp': 963, 'small': 3944, 'print': 3405, 'wasted': 4747, 'happily': 1983, 'scary': 3731, 'mines': 2810, 'finding': 1641, 'ready': 3518, 'bread': 655, 'dollar': 1308, 'toast': 4432, 'nicely': 2982, 'calling': 750, 'cinema': 893, 'balls': 434, 'computer': 974, 'listen': 2572, 'xbox': 4924, '360': 71, 'meant': 2744, 'camp': 757, 'friday': 1737, 'exactly': 1516, 'sighs': 3883, 'mornings': 2867, 'jesus': 2331, 'dress': 1348, 'shopping': 3854, 'opera': 3110, 'mac': 2660, 'moves': 2882, 'faster': 1585, 'soaked': 3970, 'pleasant': 3319, 'mum': 2902, 'yu': 4987, 'gettin': 1812, 'wen': 4783, 'somewhere': 3998, 'close': 915, 'marry': 2711, 'cried': 1078, 'matthew': 2730, 'absolutely': 121, 'filled': 1631, 'curry': 1109, 'true': 4516, 'indian': 2232, 'cam': 754, 'beat': 474, 'knight': 2439, 'hun': 2166, 'difference': 1250, 'tumblr': 4532, 'wearing': 4763, 'tie': 4408, 'hahaa': 1953, 'isnt': 2280, 'word': 4881, 'dance': 1140, 'team': 4294, 'anywhere': 285, 'dvr': 1388, 'goodnight': 1868, 'tweeters': 4552, 'bills': 536, 'episodes': 1473, 'bunch': 714, 'uk': 4596, 'moment': 2845, 'learning': 2505, 'css': 1093, 'brian': 664, 'replied': 3585, 'dish': 1276, 'network': 2969, 'catch': 791, 'thru': 4394, 'nd': 2944, 'dry': 1369, 'set': 3801, 'ground': 1914, 'ashamed': 333, 'becoming': 484, 'cross': 1081, 'lauren': 2490, 'loves': 2640, 'dropping': 1363, 'pre': 3381, 'moms': 2849, 'mood': 2861, 'cups': 1103, 'oven': 3139, 'minutes': 2817, 'backstreetboys': 417, 'nightmare': 2991, 'york': 4971, 'tongue': 4454, 'lots': 2628, 'nz': 3055, 'matt': 2727, 'disappointed': 1264, 'mostly': 2870, 'ending': 1451, 'names': 2929, 'folks': 1687, '00': 0, 'yawn': 4942, 'horses': 2130, 'gossip': 1876, 'repeat': 3581, 'reckon': 3538, 'tax': 4283, 'return': 3605, 'dream': 1345, 'cream': 1068, 'eye': 1543, 'different': 1251, 'wet': 4788, 'umm': 4600, 'plus': 3327, 'flu': 1679, 'sleepin': 3932, 'outta': 3138, 'water': 4754, 'minute': 2816, 'prolly': 3428, 'earthquake': 1399, 'italy': 2285, 'stressed': 4152, 'server': 3795, 'ankle': 259, 'dr': 1337, 'noes': 3008, 'manage': 2686, 'trash': 4499, 'empty': 1447, 'ipod': 2269, 'buy': 733, 'coz': 1052, 'chillen': 870, 'sex': 3811, 'careful': 779, 'gift': 1819, 'cell': 807, 'hollywood': 2102, 'finished': 1647, 'bobby': 597, 'ran': 3498, 'risk': 3632, 'wrote': 4917, '1000': 7, 'hits': 2083, 'lower': 2644, 'stomach': 4128, 'counting': 1037, 'visit': 4696, 'care': 777, 'rub': 3672, '13': 16, 'blues': 592, 'item': 2287, 'room': 3657, 'itunes': 2292, 'docs': 1295, 'pics': 3272, 'step': 4112, 'knows': 2447, 'loved': 2635, 'stinks': 4123, 'hugs': 2158, 'usb': 4649, 'disco': 1269, 'mouse': 2878, 'white': 4803, 'vs': 4707, 'bah': 426, 'memorial': 2764, 'official': 3071, 'member': 2762, 'month': 2858, 'knowing': 2444, 'deserves': 1221, 'screaming': 3746, 'crib': 1076, 'boooo': 614, 'ahead': 189, 'fri': 1736, 'chill': 869, 'egg': 1427, 'hunt': 2171, 'everytime': 1508, 'exist': 1530, 'jus': 2379, 'dun': 1380, 'wht': 4814, 'eff': 1421, 'stole': 4126, 'nail': 2923, 'polish': 3338, 'wishes': 4849, 'tour': 4480, 'dawn': 1164, 'great': 1900, 'ie': 2198, 'captain': 772, 'planet': 3303, 'sadness': 3694, 'abt': 122, 'sarah': 3715, 'centre': 810, 'point': 3333, 'guessing': 1930, 'train': 4494, 'four': 1719, 'legend': 2517, 'cash': 787, 'arent': 313, 'delicious': 1201, 'paris': 3184, 'milk': 2804, 'europe': 1491, 'drink': 1352, 'finals': 1639, 'none': 3013, 'custom': 1112, 'square': 4075, 'diff': 1249, 'background': 416, 'la': 2457, 'forum': 1715, 'frustrated': 1752, 'talking': 4266, 'moments': 2846, 'monster': 2856, 'plans': 3306, 'ordered': 3120, 'instead': 2253, 'hit': 2082, 'donnie': 1315, 'stats': 4103, 'nah': 2922, 'received': 3531, 'bak': 427, 'havnt': 2006, 'awwwww': 402, 'feelin': 1607, 'decision': 1184, '14': 18, 'part': 3187, 'slap': 3930, 'warm': 4735, 'march': 2699, 'itouch': 2289, 'gross': 1913, 'ma': 2659, 'accent': 124, 'follower': 1690, 'brb': 654, 'whether': 4798, 'burned': 719, 'tournament': 4481, '1am': 32, 'north': 3026, 'carolina': 781, 'aint': 198, 'nothin': 3033, 'stopping': 4133, 'nba': 2941, 'twitters': 4573, 'unexpected': 4608, 'homesick': 2107, 'vid': 4683, 'single': 3905, 'gives': 1834, 'pulled': 3448, 'muscle': 2905, 'invite': 2265, 'healthy': 2024, 'session': 3799, 'chef': 853, 'skip': 3925, 'happier': 1982, 'hella': 2046, 'procrastinating': 3417, 'clothes': 921, 'features': 1600, 'bestie': 517, 'double': 1327, 'dates': 1157, 'loopt': 2618, 'emailed': 1439, 'fans': 1576, 'saddest': 3692, 'suck': 4179, 'wrong': 4916, 'decided': 1183, 'rules': 3681, 'market': 2704, 'boy': 641, 'icecream': 2188, 'sydney': 4246, 'joke': 2351, 'except': 1521, 'spell': 4048, 'against': 177, 'yr': 4985, 'sam': 3707, 'disease': 1274, 'spend': 4052, 'fab': 1548, 'strawberry': 4145, 'gee': 1798, 'insomnia': 2245, 'screen': 3747, 'corner': 1022, 'lines': 2561, 'confusing': 986, 'finger': 1644, 'traffic': 4491, 'cuddle': 1097, 'software': 3982, 'updates': 4629, 'telling': 4307, 'ihop': 2203, 'diet': 1248, 'pancakes': 3170, 'hating': 2000, 'cruel': 1085, 'reviews': 3610, 'physical': 3264, 'google': 1870, 'speak': 4041, 'clean': 900, 'bottom': 632, 'moving': 2885, 'share': 3823, 'peoples': 3228, 'caught': 794, 'visiting': 4698, 'quarter': 3468, '11pm': 14, 'washington': 4744, 'winter': 4842, 'massage': 2718, 'spilled': 4057, 'desk': 1225, 'dvds': 1387, 'ear': 1393, 'infection': 2235, 'sunday': 4200, 'awhile': 396, 'yo': 4968, 'alarm': 205, '3am': 72, 'wings': 4837, 'sittin': 3915, 'dis': 1262, 'fed': 1601, 'bummed': 711, 'ladies': 2460, 'create': 1069, 'goodness': 1867, 'travel': 4500, 'france': 1723, 'closest': 918, '70': 96, 'miles': 2801, 'review': 3609, 'friendly': 1742, 'cup': 1099, 'coffee': 935, 'alcohol': 209, 'dentist': 1211, 'drunk': 1368, 'realised': 3521, 'huge': 2156, 'looked': 2612, 'nights': 2993, 'certain': 813, 'auntie': 372, 'crappy': 1060, 'law': 2492, '18': 27, 'driving': 1360, 'packing': 3155, 'painting': 3165, 'cleaning': 902, 'appreciated': 303, 'frozen': 1750, 'beer': 491, 'under': 4606, 'counter': 1036, 'kitchen': 2429, 'tests': 4324, 'failed': 1556, 'victoria': 4682, 'followed': 1689, 'tube': 4529, 'anybody': 278, 'afford': 170, 'pet': 3245, 'fishing': 1655, '33': 67, 'mia': 2784, 'door': 1321, 'large': 2474, 'usually': 4661, 'character': 830, 'austin': 375, 'lesson': 2527, 'ten': 4312, 'mins': 2813, 'shut': 3876, 'britain': 672, 'bon': 602, 'essay': 1484, 'tmrw': 4430, 'per': 3231, 'usual': 4660, 'noooooo': 3021, 'played': 3312, 'hand': 1967, 'stack': 4080, 'calls': 751, 'crack': 1053, 'trees': 4504, 'muscles': 2906, 'ouch': 3131, 'term': 4317, 'eve': 1494, 'sites': 3914, 'together': 4438, 'checking': 846, 'ideas': 2194, 'nowhere': 3040, 'pirate': 3286, 'hall': 1964, 'log': 2599, 'immediately': 2215, 'plurk': 3326, 'options': 3116, 'mon': 2850, 'sean': 3755, 'league': 2502, 'own': 3147, 'mint': 2814, 'ice': 2187, 'grand': 1890, 'grass': 1897, 'stalker': 4085, 'bike': 533, 'loads': 2593, 'dropped': 1362, 'london': 2606, 'raining': 3493, 'bless': 566, 'completely': 971, 'contacts': 996, 'invited': 2266, 'workshop': 4891, 'starting': 4096, 'lately': 2479, 'showers': 3872, 'contact': 995, 'linux': 2564, 'pro': 3410, 'america': 239, 'flash': 1665, 'lovely': 2638, 'order': 3119, 'posts': 3364, 'properly': 3436, 'italian': 2284, 'fact': 1553, 'between': 523, 'quite': 3478, 'sucky': 4182, 'promo': 3432, 'horror': 2128, 'fake': 1564, 'highly': 2069, 'cooked': 1010, 'baseball': 446, 'exams': 1519, 'circle': 894, 'suddenly': 4184, 'journey': 2363, 'lookin': 2613, 'nighter': 2990, 'stranger': 4143, 'darn': 1153, 'allergies': 217, 'santa': 3713, 'damnit': 1138, 'digging': 1255, 'tv': 4543, 'html': 2152, 'cable': 740, 'suggest': 4188, 'area': 312, 'morn': 2864, 'legs': 2519, 'hi': 2063, 'fixed': 1661, 'microsoft': 2791, 'king': 2423, 'kitty': 2433, 'toooo': 4464, 'butt': 729, 'conversation': 1004, 'interesting': 2258, 'sisters': 3911, 'brilliant': 668, 'bring': 669, 'record': 3543, 'rt': 3671, 'kimkardashian': 2419, 'apprentice': 304, 'biology': 542, 'surprise': 4219, 'helping': 2051, 'papers': 3176, 'seat': 3760, 'mobile': 2840, 'concentrate': 978, 'enter': 1462, 'waste': 4746, 'nw': 3051, 'migraine': 2797, 'aches': 136, 'shoot': 3851, 'turning': 4540, 'wasting': 4748, 'line': 2560, 'didnt': 1243, 'zero': 4996, 'reader': 3516, 'decent': 1181, 'exchange': 1522, 'rate': 3505, 'inch': 2223, 'grateful': 1898, 'sooooooo': 4013, 'ohhh': 3078, 'ps': 3441, 'somehow': 3991, 'poker': 3336, 'cruise': 1086, 'jonathan': 2357, 'group': 1916, 'campus': 759, '7am': 98, 'texas': 4326, 'frustrating': 1753, 'wit': 4852, 'size': 3919, 'painful': 3161, 'urgh': 4643, 'praying': 3380, 'tht': 4395, 'annoying': 265, 'def': 1190, 'kno': 2440, 'mileycyrus': 2803, 'learn': 2503, 'noon': 3016, 'selling': 3780, 'web': 4765, 'ben': 509, 'total': 4475, 'cost': 1026, 'slide': 3939, 'kelly': 2396, 'wif': 4821, 'lay': 2495, 'ily': 2208, 'yours': 4978, 'shouldnt': 3865, 'flip': 1673, 'application': 298, 'add': 151, 'talent': 4261, 'schools': 3737, 'killing': 2416, 'glasses': 1839, 'arm': 317, 'meat': 2745, 'slow': 3942, '20': 35, 'ask': 338, 'united': 4617, 'seasons': 3759, 'disappeared': 1263, 'sis': 3909, 'africa': 172, 'skype': 3929, 'laughing': 2485, 'wanting': 4732, 'pitch': 3291, 'org': 3123, 'billy': 537, 'spoiled': 4062, 'coughing': 1030, 'wood': 4874, 'shitty': 3845, 'turns': 4541, 'hurting': 2175, 'feelings': 1609, '11': 12, 'yeh': 4953, 'holidays': 2098, 'woot': 4880, 'hearing': 2028, 'pm': 3329, '400': 79, 'attend': 361, 'notes': 3032, 'themselves': 4353, 'decide': 1182, 'porn': 3352, 'followers': 1691, 'japan': 2308, 'release': 3563, '25': 47, 'classic': 899, 'conversations': 1005, 'kit': 2428, 'louis': 2631, 'bags': 425, 'dam': 1133, 'naps': 2932, 'searching': 3757, 'fyi': 1774, 'yahoo': 4939, 'edit': 1416, 'bio': 541, 'login': 2601, 'co': 929, 'answer': 267, 'bt': 692, 'starving': 4098, 'cuppa': 1102, 'launch': 2487, 'amazingly': 235, 'pointless': 3334, 'foot': 1699, 'smart': 3946, 'maker': 2677, 'given': 1833, 'teh': 4305, 'waitin': 4716, 'theory': 4355, 'woken': 4863, 'van': 4668, 'main': 2671, 'road': 3636, 'rofl': 3648, 'sudden': 4183, 'hows': 2147, 'hannah': 1977, 'disappointing': 1265, 'alright': 226, 'sports': 4066, 'planning': 3305, 'evening': 1496, 'joined': 2348, 'named': 2928, 'mart': 2713, 'rainy': 3495, 'gardening': 1788, 'b4': 406, 'til': 4412, 'wk': 4856, 'extremely': 1542, 'ohhhh': 3079, 'summer': 4193, 'password': 3201, 'give': 1831, 'spam': 4038, 'extra': 1540, 'hospital': 2131, 'favor': 1592, 'en': 1448, 'cops': 1018, 'shaking': 3817, 'sorting': 4021, 'ellen': 1435, 'gooood': 1872, 'tooo': 4463, '08': 3, '18th': 29, 'da': 1125, 'fix': 1660, 'avatar': 380, 'box': 639, 'tiny': 4418, 'appointment': 301, 'addicted': 153, 'dressed': 1349, 'self': 3778, 'enjoyable': 1458, 'slowly': 3943, 'wa': 4709, 'focus': 1685, 'gas': 1792, 'note': 3030, 'machine': 2662, '5th': 91, 'closer': 917, 'don': 1312, 'seattle': 3762, 'f1': 1546, 'slightly': 3941, 'ripped': 3630, 'colors': 943, 'mel': 2759, 'exciting': 1525, 'vip': 4692, 'guests': 1932, '2night': 57, 'shocked': 3848, 'characters': 831, 'pass': 3195, 'effing': 1425, 'points': 3335, 'lips': 2568, 'ye': 4946, 'shes': 3834, 'parents': 3183, 'amsterdam': 243, 'anxiety': 274, 'attack': 357, 'lily': 2556, 'growing': 1919, 'mrskutcher': 2889, 'sync': 4247, 'hint': 2077, 'houses': 2141, 'person': 3241, 'pic': 3267, 'signed': 3887, 'shirt': 3842, 'inside': 2244, 'overnight': 3143, 'bag': 423, 'booooo': 615, 'reminded': 3571, 'landed': 2469, 'allergy': 218, 'mother': 2871, 'cough': 1029, 'rise': 3631, 'thesis': 4362, 'fantastic': 1577, 'gutted': 1940, 'apt': 308, 'windy': 4835, 'topic': 4469, 'concert': 981, 'expensive': 1534, 'mt': 2893, 'texts': 4330, 'arrive': 321, 'exercise': 1527, 'paying': 3215, 'kisses': 2427, '500': 87, 'excellent': 1520, 'doggy': 1302, 'burn': 718, 'chances': 822, 'motivation': 2875, 'nooo': 3018, 'west': 4787, 'coast': 931, 'badly': 422, 'battery': 458, 'trailer': 4493, 'australia': 376, 'layin': 2496, 'discount': 1270, 'driver': 1357, 'atleast': 355, 'ac': 123, 'dc': 1168, 'rocked': 3643, 'reality': 3522, '150': 21, 'christian': 888, 'xoxo': 4928, 'spots': 4069, 'doubt': 1328, 'beauty': 479, 'hehehe': 2042, 'heh': 2040, 'receive': 3530, 'digital': 1256, 'signal': 3886, 'fellow': 1613, 'special': 4045, 'shock': 3847, 'bday': 466, 'id': 2192, 'whats': 4792, 'meds': 2749, 'blip': 572, 'fm': 1682, 'normal': 3024, 'tweeting': 4555, 'shave': 3831, 'tunes': 4536, 'chick': 861, 'process': 3416, '2moro': 54, 'canceled': 764, 'plane': 3302, 'tickets': 4406, 'delete': 1199, 'jerry': 2325, 'awful': 394, 'imagine': 2213, 'cousin': 1045, 'following': 1693, 'randomly': 3500, 'bleh': 565, 'deadline': 1173, 'bought': 633, '6am': 93, 'thankful': 4337, 'michael': 2787, 'curse': 1110, 'letter': 2531, 'holy': 2104, 'original': 3124, 'revision': 3613, 'final': 1636, '90': 105, 'mark': 2703, 'harsh': 1992, 'nails': 2924, 'passed': 3196, 'hip': 2078, 'bf': 526, 'nephew': 2962, 'ch': 815, 'ng': 2978, 'moved': 2881, 'daisy': 1131, 'oops': 3105, 'cd': 799, '2day': 53, 'oooh': 3102, 'heads': 2021, 'high': 2067, 'killin': 2415, 'dinner': 1258, 'connected': 990, 'dm': 1291, 'smile': 3951, 'brings': 671, 'memories': 2765, 'issue': 2281, 'deep': 1189, 'max': 2731, '8am': 102, 'ticket': 4405, 'hm': 2086, 'freakin': 1728, 'current': 1107, 'challenge': 819, 'international': 2259, 'studies': 4163, 'community': 962, 'question': 3471, 'twurl': 4578, 'nl': 3005, 'txt': 4580, 'lmfao': 2588, 'effin': 1424, 'xxxx': 4933, 'hehe': 2041, 'computers': 975, 'upgrade': 4631, 'iv': 2293, 'humor': 2165, 'super': 4207, 'truck': 4515, 'fault': 1589, 'healing': 2022, 'mtv': 2894, 'hasnt': 1994, 'gig': 1821, 'ace': 134, 'begins': 497, 'simple': 3897, 'blogger': 579, 'fu': 1757, 'wooo': 4877, 'knee': 2436, 'kick': 2404, 'blue': 591, 'mexico': 2782, 'websites': 4768, 'havent': 2003, 'cleaned': 901, 'recommendations': 3541, 'mary': 2715, 'ignoring': 2202, 'hoo': 2115, 'light': 2545, 'headed': 2017, 'thousand': 4384, 'apologies': 291, 'major': 2675, 'layout': 2498, 'delay': 1197, 'joking': 2353, 'crushed': 1088, 'field': 1622, 'wave': 4756, 'th': 4332, 'service': 3797, 'somethin': 3993, 'fallen': 1566, 'installing': 2251, 'windows': 4834, 'issues': 2282, 'months': 2859, 'pregnant': 3384, 'non': 3012, 'megan': 2757, 'peace': 3218, 'luke': 2650, 'terribly': 4321, 'basically': 451, 'goo': 1861, 'mornin': 2865, 'lie': 2539, 'sight': 3884, 'likes': 2553, 'amy': 245, 'type': 4583, 'beats': 477, 'liked': 2551, 'safari': 3695, 'destroyed': 1231, 'situation': 3917, 'typical': 4584, 'british': 674, 'angry': 255, 'drivers': 1358, 'dreaming': 1346, 'soda': 3978, 'continues': 1001, 'housewives': 2142, 'key': 2399, 'someday': 3990, 'shall': 3818, 'stairs': 4083, 'enjoying': 1460, 'paperwork': 3177, 'built': 707, '9am': 108, 'aswell': 349, 'soup': 4028, 'wink': 4838, 'severe': 3810, 'lil': 2555, 'teachers': 4292, 'parts': 3192, 'hahahaha': 1957, 'goodbye': 1863, 'stage': 4082, 'waited': 4715, 'showed': 3869, '09': 4, 'favourite': 1595, 'takin': 4259, 'judge': 2369, 'arse': 323, 'bigger': 531, 'hbo': 2011, 'remembered': 3568, 'fridge': 1739, 'slight': 3940, 'edge': 1414, 'disneyland': 1280, 'finds': 1642, 'rly': 3635, 'skin': 3923, 'likely': 2552, 'spread': 4071, 'frank': 1725, 'race': 3484, 'wales': 4720, 'unable': 4603, 'motivated': 2874, 'icky': 2190, 'perhaps': 3238, 'especially': 1483, 'admit': 159, 'joy': 2364, 'beginning': 496, 'brain': 649, 'insane': 2243, 'lady': 2461, 'appreciate': 302, 'bowling': 638, 'mate': 2722, 'rubbish': 3673, 'obviously': 3061, 'pr': 3374, 'cnn': 927, 'near': 2946, 'auto': 378, 'feature': 1599, 'strength': 4150, 'ow': 3144, 'bitch': 549, 'showered': 3871, 'shift': 3835, 'dougiemcfly': 1330, 'msg': 2891, 'donuts': 1319, 'holland': 2100, 'orders': 3122, 'bunny': 715, 'ly': 2656, '2010': 40, 'tomoro': 4449, 'moon': 2862, 'luckily': 2647, 'shot': 3859, 'tip': 4420, 'divorce': 1287, 'eaten': 1406, 'steak': 4109, 'lunch': 2651, 'doh': 1304, 'backup': 418, 'gigs': 1822, 'mee': 2750, 'oprah': 3114, 'tony': 4458, 'belive': 503, 'tx': 4579, 'ahaha': 187, 'pineapple': 3283, 'dollars': 1309, 'aching': 137, 'husband': 2177, 'ms': 2890, 'wonderful': 4869, 'cop': 1017, 'creepy': 1074, 'ewww': 1513, 'truth': 4519, 'lab': 2458, 'report': 3589, 'msn': 2892, 'cali': 746, 'woo': 4873, 'seven': 3808, 'heck': 2036, 'goal': 1849, 'grad': 1884, 'charge': 832, '2am': 52, 'sneezing': 3964, '17': 25, 'greek': 1902, 'june': 2376, 'ew': 1511, 'sux': 4227, 'drama': 1340, 'filming': 1634, 'places': 3299, 'disc': 1268, 'river': 3634, 'delayed': 1198, 'phoenix': 3255, 'san': 3709, 'diego': 1246, 'obsessed': 3059, 'fresh': 1735, 'shining': 3838, 'birds': 544, 'singing': 3904, 'recipe': 3536, 'addiction': 155, 'aus': 373, 'sign': 3885, 'age': 178, 'relax': 3560, 'air': 199, 'trend': 4506, 'language': 2471, 'blog': 578, 'low': 2643, 'commercial': 959, 'draw': 1342, '30secondstomars': 64, 'goodmorning': 1866, 'poorly': 3344, 'function': 1765, 'melbourne': 2760, 'eww': 1512, 'cereal': 811, 'mondays': 2852, 'grown': 1920, 'fool': 1698, 'brand': 650, 'hawaii': 2007, 'updating': 4630, 'blank': 561, 'silent': 3891, 'psp': 3443, 'tommcfly': 4445, 'johnny': 2346, 'oc': 3062, 'solution': 3986, 'spanish': 4039, 'sims': 3899, 'dnt': 1292, 'prefer': 3383, 'youre': 4977, 'buzz': 735, 'secret': 3767, 'projects': 3427, '300': 61, 'revising': 3612, 'figured': 1626, 'became': 481, 'east': 1402, 'perfectly': 3234, 'banana': 436, 'mc': 2734, 'fever': 1618, 'cries': 1079, 'hands': 1970, 'beef': 489, 'fairly': 1561, 'math': 2725, 'position': 3355, 'magic': 2668, 'power': 3372, 'rid': 3619, 'loser': 2623, 'enjoyed': 1459, 'future': 1773, 'calories': 753, 'nt': 3042, 'safe': 3696, 'designs': 1224, 'disney': 1279, 'channel': 827, 'promised': 3431, 'contract': 1002, 'pa': 3151, 'dat': 1154, 'guilty': 1934, 'shared': 3824, 'control': 1003, 'cheer': 847, 'indoors': 2234, 'midnight': 2794, 'thirsty': 4374, 'suggestions': 4190, 'bout': 635, 'root': 3660, 'noise': 3009, 'short': 3856, 'si': 3878, 'se': 3753, 'awwww': 401, 'yourself': 4979, 'setup': 3807, 'hes': 2059, 'mess': 2772, 'ai': 195, 'pixar': 3295, 'entire': 1466, 'feeding': 1605, 'response': 3598, 'accounts': 133, 'cape': 770, 'twitterberry': 4567, 'shifts': 3836, 'window': 4833, 'jimmy': 2334, 'chillin': 871, 'sugar': 4187, 'salt': 3705, 'fried': 1740, 'rice': 3615, 'sometimes': 3996, 'sales': 3702, 'potential': 3368, 'customer': 1113, 'development': 1235, 'laundry': 2488, 'proud': 3439, 'huhu': 2160, '28': 50, 'tattoo': 4281, 'messed': 2775, 'au': 365, 'dutch': 1384, 'playin': 3315, 'funeral': 1766, 'maintenance': 2674, 'cc': 798, 'vodka': 4700, 'whore': 4811, 'everyones': 1506, 'oz': 3150, 'jokes': 2352, 'realize': 3523, 'sounded': 4025, 'queen': 3470, 'forced': 1704, 'sooner': 4008, 'az': 405, 'gorgeous': 1874, 'roll': 3651, 'booo': 613, 'smoke': 3956, 'impossible': 2217, 'files': 1629, 'bullshit': 709, 'lions': 2566, 'bears': 472, 'neck': 2950, 'le': 2500, 'five': 1659, 'stops': 4134, 'audio': 367, 'hurry': 2173, 'willing': 4829, 'tune': 4534, 'piano': 3266, 'ends': 1452, 'baking': 430, 'chip': 877, 'wedding': 4770, 'shots': 3860, 'browser': 686, 'twit': 4563, 'ads': 163, '48': 82, 'regular': 3556, 'tommorow': 4446, 'bone': 603, 'hooray': 2119, 'schofe': 3735, 'bridge': 666, 'watchin': 4752, 'bits': 553, 'bound': 634, 'salsa': 3704, 'neighbor': 2957, 'pizza': 3296, 'sprained': 4070, 'audience': 366, 'yikes': 4967, 'orlando': 3125, 'justin': 2381, 'fl': 1663, 'thurs': 4401, 'blows': 590, 'level': 2534, 'sonny': 4004, 'updated': 4628, 'familiar': 1570, 'himself': 2076, 'hole': 2096, 'sale': 3701, 'christmas': 889, 'fixing': 1662, 'supporting': 4211, 'role': 3650, 'banned': 441, 'forums': 1716, 'latte': 2482, 'wisdom': 4845, 'teeth': 4304, 'removed': 3578, 'abit': 116, 'price': 3400, 'thankyou': 4340, 'entry': 1468, 'threw': 4387, 'throw': 4391, 'bin': 539, 'mandy': 2691, 'obama': 3058, 'therefore': 4359, 'effect': 1422, 'sunshine': 4205, 'yep': 4957, 'quotes': 3482, 'bite': 551, 'sf': 3813, 'cnt': 928, 'bath': 456, 'todays': 4434, 'appt': 306, '10am': 9, 'hitting': 2084, 'afterwards': 175, 'rocks': 3646, 'sunny': 4203, 'lets': 2530, 'wash': 4741, 'flight': 1671, 'replaced': 3583, 'grrrr': 1923, 'assignments': 347, 'teacher': 4291, 'knw': 2448, 'awaiting': 385, 'graduation': 1889, 'ceremony': 812, 'common': 961, 'george': 1806, 'standard': 4088, 'ahhh': 191, 'nooooo': 3020, 'allowed': 220, 'slice': 3938, 'choices': 882, 'hulu': 2161, 'lounge': 2632, 'students': 4162, 'biscuits': 547, 'yum': 4990, 'xd': 4925, 'lived': 2580, 'hat': 1995, 'connect': 989, 'xx': 4931, 'awkward': 397, 'aplusk': 290, 'value': 4666, 'several': 3809, 'hangover': 1976, 'complicated': 972, 'heaven': 2034, 'soft': 3980, 'prize': 3409, 'simply': 3898, 'national': 2936, 'domain': 1311, 'anytime': 282, 'grey': 1908, 'grumpy': 1925, 'pink': 3285, 'bedroom': 486, 'rooms': 3659, 'opened': 3108, 'standing': 4089, 'dating': 1158, 'atm': 356, 'gray': 1899, 'sky': 3928, 'shoulder': 3863, 'answers': 270, 'questions': 3472, 'lies': 2541, 'jumping': 2375, 'twisted': 4562, 'taxi': 4284, 'urge': 4642, 'bleeding': 564, 'bump': 713, 'gold': 1855, 'choice': 881, 'tu': 4527, 'gloomy': 1841, 'cutest': 1117, 'miley': 2802, 'trains': 4496, 'chinese': 876, 'theater': 4345, 'stars': 4093, 'huh': 2159, 'fear': 1598, 'eminem': 1443, 'error': 1479, 'youuu': 4983, 'scored': 3740, 'yall': 4940, 'toothache': 4467, 'alas': 206, 'dj': 1289, 'battle': 459, 'winning': 4840, 'spotify': 4068, 'peter': 3247, 'spoke': 4063, 'cloud': 922, 'charging': 834, 'towards': 4482, 'thread': 4385, 'torn': 4471, 'gud': 1928, 'version': 4677, 'dev': 1234, 'nyc': 3054, 'thnx': 4376, 'orange': 3118, 'graphic': 1895, 'napping': 2931, 'comfort': 951, 'starbucks': 4091, 'dublin': 1372, 'college': 940, 'horny': 2126, 'sushi': 4225, 'photo': 3258, 'heather': 2033, 'xp': 4930, 'island': 2279, 'virus': 4695, 'precious': 3382, 'bean': 469, 'system': 4248, 'lied': 2540, 'edinburgh': 1415, 'festival': 1617, 'forgive': 1710, 'gnite': 1847, '10pm': 10, 'whoop': 4809, 'de': 1171, 'bothered': 629, 'itself': 2291, 'habit': 1948, 'pool': 3341, 'mix': 2832, 'tiring': 4424, 'beta': 520, 'appear': 295, 'mistake': 2827, 'quote': 3481, 'fashion': 1583, 'war': 4734, 'faces': 1552, 'task': 4276, '4pm': 84, 'mm': 2834, 'appears': 296, 'naughty': 2939, 'hw': 2179, 'freaking': 1729, 'ummm': 4601, 'candy': 767, 'progress': 3425, 'offered': 3069, 'reports': 3590, 'bee': 488, 'hero': 2056, 'tools': 4462, 'wth': 4919, 'available': 379, 'postponed': 3363, 'loose': 2619, 'mp3': 2886, 'cheers': 849, 'constantly': 994, 'queue': 3473, 'silver': 3893, 'ot': 3127, 'country': 1038, 'tryin': 4521, 'kills': 2417, 'wife': 4822, 'gunna': 1938, 'blessed': 567, 'nor': 3023, 'blink': 571, '182': 28, 'article': 325, 'epic': 1471, 'glasgow': 1837, 'nervous': 2965, 'tweetie': 4553, 'members': 2763, 'mike': 2798, 'bugger': 703, 'aware': 389, 'bob': 596, 'senior': 3785, 'gf': 1814, 'bk': 556, 'pulling': 3449, 'pair': 3166, 'emo': 1445, 'oo': 3098, 'ups': 4636, 'uploaded': 4633, 'onto': 3097, 'plug': 3325, 'load': 2590, 'jonas': 2355, 'brothers': 682, 'patch': 3206, 'released': 3564, 'smooth': 3958, 'scheduled': 3734, 'stephen': 4114, 'count': 1034, 'chemistry': 856, 'messy': 2777, 'hyper': 2181, 'eric': 1475, 'begin': 495, 'paranoid': 3181, 'canadian': 762, 'security': 3769, 'stream': 4146, 'uses': 4657, '80': 101, 'port': 3353, 'gfalcone601': 1815, 'picking': 3270, 'rough': 3663, 'ignored': 2201, 'cancel': 763, 'podcast': 3331, 'listed': 2571, 'sp': 4034, '000': 1, 'doctors': 1297, 'results': 3603, 'vet': 4679, 'science': 3738, 'alex': 210, 'space': 4036, 'firefox': 1651, 'dirty': 1261, 'loving': 2642, 'daughter': 1159, 'breathe': 661, 'across': 140, 'sets': 3802, 'joe': 2339, 'suffering': 4186, 'fest': 1616, 'hook': 2117, 'scotland': 3741, 'multiple': 2900, 'pad': 3156, 'di': 1239, 'sa': 3689, 'dull': 1378, 'flat': 1666, 'wine': 4836, 'photoshoot': 3261, 'boys': 644, 'jersey': 2326, 'zombie': 4997, 'mode': 2841, 'kept': 2397, 'errands': 1478, 'apply': 300, 'competition': 966, 'devil': 1237, 'bacon': 420, 'sandwich': 3711, 'animals': 257, 'products': 3421, 'drank': 1341, '9pm': 109, 'opinion': 3111, 'jeans': 2317, 'inspiration': 2246, 'listened': 2573, 'memory': 2766, 'dogs': 1303, 'doll': 1307, 'doggie': 1301, 'church': 892, 'flying': 1681, 'films': 1635, 'minus': 2815, 'wifi': 4824, 'fry': 1754, 'worlds': 4893, 'dan': 1139, 'cutting': 1120, 'oil': 3082, 'un': 4602, 'worries': 4896, 'ireland': 2272, 'research': 3594, 'panic': 3172, 'bugs': 704, 'blow': 587, 'delivered': 1203, 'ol': 3085, 'rite': 3633, 'quit': 3477, 'breath': 660, 'fo': 1684, 'sho': 3846, 'daily': 1129, 'normally': 3025, 'bucks': 696, 'hayfever': 2009, 'noooo': 3019, 'demo': 1208, 'bug': 702, 'pounds': 3370, 'knees': 2437, 'jeremy': 2323, 'kyle': 2456, 'comic': 954, 'credit': 1073, 'ashley': 334, 'hire': 2079, 'german': 1808, 'brought': 683, 'consider': 992, 'bb': 461, 'generally': 1803, 'ping': 3284, 'mrs': 2888, 'trips': 4513, 'celeb': 801, 'respond': 3597, 'mums': 2904, 'vista': 4699, 'uhh': 4594, 'ahhhhh': 193, 'fuckin': 1760, 'manager': 2689, 'physics': 3265, 'tooth': 4466, 'spa': 4035, 'marks': 2707, 'feedback': 1604, 'simon': 3896, 'contest': 999, 'darling': 1152, '45': 81, 'chair': 818, 'perfect': 3233, 'changing': 826, 'username': 4655, 'mr': 2887, 'sony': 4005, 'burger': 716, 'tight': 4411, 'package': 3153, 'lolz': 2605, 'josh': 2362, 'yummy': 4992, 'literally': 2577, 'animal': 256, 'wordpress': 4882, 'otherwise': 3130, 'silence': 3890, 'remix': 3575, 'politics': 3339, 'coursework': 1043, 'perth': 3244, 'cookie': 1011, 'eek': 1420, 'ubuntu': 4587, 'ray': 3508, 'society': 3976, 'twittering': 4571, 'bowl': 637, 'ave': 381, 'hearts': 2031, 'holding': 2095, 'including': 2226, 'links': 2563, 'neighbours': 2960, 'any1': 277, 'rehearsal': 3557, 'flickr': 1669, 'private': 3408, 'kid': 2408, 'welcome': 4781, 'articles': 326, 'required': 3592, 'ay': 403, 'offer': 3068, 'camping': 758, 'jump': 2373, 'forecast': 1705, 'thanx': 4341, 'deserve': 1219, 'tear': 4296, 'horse': 2129, 'putting': 3466, 'dissapointed': 1282, 'dee': 1188, 'decisions': 1185, 'personal': 3242, 'injured': 2240, 'stores': 4136, 'gp': 1880, 'prices': 3401, 'costs': 1027, 'usa': 4648, 'dave': 1161, 'plastic': 3309, 'failing': 1557, 'xo': 4926, 'playlist': 3317, 'maths': 2726, 'fighting': 1624, 'stuffy': 4169, '8pm': 103, 'anatomy': 247, 'shud': 3875, 'butter': 730, 'craig': 1056, 'poster': 3361, 'limit': 2558, 'sweetest': 4234, 'ooo': 3101, 'geek': 1799, 'babysitting': 414, 'excuse': 1526, 'exhausted': 1528, 'op': 3106, 'lake': 2463, 'shaundiviney': 3829, 'allow': 219, 'active': 144, 'action': 143, 'roommate': 3658, 'teen': 4303, 'cheaper': 843, 'jelly': 2320, 'fantasy': 1578, 'dane': 1142, 'nat': 2935, 'ds': 1371, 'services': 3798, 'blew': 569, 'speakers': 4042, 'proof': 3434, 'envy': 1469, 'sometime': 3995, 'xxxxx': 4934, 'england': 1455, 'touch': 4477, 'giving': 1835, 'stood': 4130, 'tells': 4308, 'mission': 2826, 'rarely': 3504, 'practice': 3375, 'front': 1749, 'congratulations': 988, 'blowing': 588, 'smell': 3948, 'southern': 4032, 'lyrics': 2658, 'nxt': 3052, 'laws': 2494, 'request': 3591, 'pure': 3457, 'wicked': 4817, 'sway': 4228, 'replace': 3582, 'wheel': 4793, 'damage': 1134, 'advice': 169, 'berlin': 510, 'american': 240, 'meeee': 2752, 'dougie': 1329, 'incredibly': 2228, 'talks': 4267, 'seemed': 3773, 'shops': 3855, 'cyrus': 1124, 'seb': 3763, 'o2': 3056, 'sit': 3912, 'balcony': 432, 'maine': 2672, 'bang': 439, 'boredom': 621, 'swim': 4239, 'mmmm': 2836, '15th': 22, 'amazed': 233, 'basic': 450, 'loading': 2592, 'impressed': 2218, 'hr': 2149, 'mass': 2717, 'twits': 4565, 'announced': 262, 'social': 3975, 'networking': 2970, 'drew': 1351, 'surgery': 4218, 'sob': 3972, 'tent': 4315, '20th': 41, 'lightning': 2548, 'mental': 2768, 'customers': 1114, 'style': 4172, 'brunch': 688, 'absolute': 120, 'bella': 505, 'bliss': 573, 'rule': 3680, 'performance': 3236, 'ima': 2210, 'twice': 4558, 'bruised': 687, '3g': 74, 'connection': 991, 'hotter': 2137, 'stealing': 4111, 'daniel': 1145, 'dannymcfly': 1148, 'speech': 4046, 'youth': 4980, 'virtual': 4694, 'edition': 1418, 'chilling': 872, 'virgin': 4693, 'pushed': 3462, 'biggest': 532, 'building': 706, 'honest': 2111, 'idol': 2197, 'fox': 1720, 'addictive': 156, 'prep': 3386, 'unit': 4616, 'mountains': 2877, 'born': 623, 'ftw': 1756, 'pan': 3169, 'honey': 2113, 'relaxing': 3562, 'mall': 2683, 'indeed': 2229, 'recently': 3533, 'cafe': 741, 'paint': 3163, 'riding': 3624, 'pressure': 3395, 'conference': 983, 'contemplating': 997, 'player': 3313, 'pat': 3205, 'spain': 4037, 'cloudy': 924, 'mighty': 2796, 'tap': 4273, 'bbc': 462, 'entertainment': 1465, 'webcam': 4766, 'creative': 1072, 'interested': 2257, 'grew': 1907, 'chin': 874, 'kittens': 2431, 'realise': 3520, 'owned': 3148, 'preparing': 3389, 'remembering': 3569, '200': 36, 'peeps': 3223, 'teaching': 4293, 'streaming': 4147, 'hols': 2103, 'expect': 1531, 'certainly': 814, 'pub': 3445, 'career': 778, 'license': 2538, 'passing': 3198, 'cancelled': 765, 'makin': 2680, 'lee': 2512, 'purple': 3458, 'ash': 332, 'nicole': 2986, 'barely': 443, 'distracted': 1284, 'catching': 792, 'steps': 4116, 'tomoz': 4452, 'flow': 1676, 'pt': 3444, 'whoever': 4806, 'throwing': 4392, 'target': 4275, 'urself': 4646, 'url': 4644, 'tan': 4270, 'francisco': 1724, 'amber': 237, 'beth': 521, 'toy': 4484, 'nh': 2979, 'switched': 4244, 'lit': 2576, 'tracks': 4489, 'mic': 2786, 'dig': 1253, 'crashes': 1063, 'boxes': 640, 'changes': 825, 'discovered': 1271, 'adding': 157, 'matters': 2729, 'hav': 2001, 'servers': 3796, 'kicking': 2406, 'global': 1840, 'warming': 4736, 'cooler': 1015, 'dies': 1247, 'al': 203, 'core': 1020, 'concept': 979, 'vintage': 4691, 'sunglasses': 4202, 'miracle': 2818, 'hungover': 2168, 'noticed': 3036, '21st': 43, 'crossing': 1083, 'patient': 3209, 'technically': 4300, 'bradiewebbstack': 648, 'levels': 2535, 'australian': 377, 'kat': 2385, 'sytycd': 4249, 'express': 1538, 'logo': 2602, 'essays': 1485, 'offline': 3074, 'kitten': 2430, 'taylor': 4285, 'guest': 1931, 'product': 3418, 'shine': 3837, 'yellow': 4955, 'hmph': 2090, 'drugs': 1366, 'applied': 299, 'manchester': 2690, 'foods': 1697, 'prob': 3411, 'shattered': 3827, '16': 23, 'young': 4973, 'sack': 3690, 'visited': 4697, 'loaded': 2591, 'chatting': 841, 'leeds': 2513, 'jam': 2304, 'pleased': 3321, 'despite': 1229, 'disappointment': 1266, 'drops': 1364, 'met': 2778, 'roast': 3637, 'tears': 4297, 'pj': 3297, 'cap': 769, 'lush': 2653, 'tim': 4414, 'passes': 3197, 'plays': 3318, 'sending': 3784, 'sweaty': 4231, 'marathon': 2698, 'mothers': 2872, 'miami': 2785, 'cares': 780, 'surely': 4215, '4th': 85, 'land': 2468, 'definately': 1192, 'bull': 708, 'presents': 3392, 'cud': 1096, 'anna': 260, 'zealand': 4995, 'quality': 3467, 'cards': 776, 'digg': 1254, 'needing': 2954, 'build': 705, 'families': 1571, 'older': 3087, 'calm': 752, 'weekends': 4776, 'beyond': 525, 'sundays': 4201, 'solo': 3985, 'hardly': 1990, 'distance': 1283, 'male': 2682, 'archuleta': 310, 'housework': 2143, 'timing': 4417, 'program': 3424, 'ram': 3497, 'amount': 241, 'dryer': 1370, 'conan': 977, 'lock': 2597, 'shoulders': 3864, 'plant': 3307, 'collection': 939, 'perform': 3235, 'showing': 3873, 'sexy': 3812, 'swine': 4241, 'asking': 340, 'eventually': 1499, 'earth': 1398, 'lemon': 2521, 'coverage': 1048, 'juice': 2370, 'yuck': 4988, 'ability': 115, 'geography': 1805, 'brush': 689, 'possibly': 3358, '29': 51, 'havin': 2004, 'tryna': 4523, 'gal': 1781, 'whatever': 4791, 'chapter': 829, 'local': 2595, 'depends': 1213, 'follows': 1694, 'attempting': 360, 'deliver': 1202, 'adobe': 160, 'laughed': 2484, 'information': 2237, 'display': 1281, 'extreme': 1541, 'eclipse': 1411, 'designer': 1223, 'lucy': 2649, 'cycle': 1122, 'testing': 4323, 'sms': 3960, 'meee': 2751, 'andrew': 249, 'suggestion': 4189, 'emergency': 1441, 'thai': 4334, 'overall': 3141, 'donate': 1313, 'tomfelton': 4444, 'bing': 540, 'retarded': 3604, 'strawberries': 4144, 'regret': 3555, 'demand': 1206, 'professional': 3422, 'thingy': 4368, 'mirror': 2819, 'proper': 3435, 'ruining': 3679, 'knocked': 2442, 'present': 3390, 'nut': 3049, 'handsome': 1971, 'smiling': 3954, 'scratched': 3744, 'swift': 4238, 'cover': 1047, '2pm': 59, 'users': 4656, 'washing': 4743, 'uncle': 4604, 'cars': 785, 'ways': 4759, '42': 80, 'blocking': 576, 'nk': 3003, 'mates': 2724, 'walked': 4722, 'tequila': 4316, 'data': 1155, 'lo': 2589, 'boots': 618, 'killer': 2413, 'wkend': 4857, 'golf': 1857, 'cure': 1104, 'hunting': 2172, 'panda': 3171, 'nj': 3002, 'andyclemmensen': 251, 'ahah': 186, 'cba': 797, 'football': 1700, 'tease': 4298, 'fancy': 1575, 'technology': 4301, 'concerned': 980, 'walls': 4726, 'wed': 4769, 'speaking': 4043, 'ack': 138, 'cupcake': 1100, 'cupcakes': 1101, 'hooked': 2118, 'drop': 1361, 'women': 4866, 'disgusting': 1275, 'religion': 3566, 'sea': 3754, 'palm': 3168, 'actual': 147, 'headphones': 2020, 'err': 1477, 'storm': 4138, 'beans': 470, 'hahah': 1954, 'opposite': 3113, 'routine': 3666, 'hp': 2148, 'bomb': 601, 'expected': 1532, 'tbh': 4287, 'ako': 202, 'keen': 2391, 'aye': 404, 'pleasure': 3322, 'stuffed': 4168, 'leaves': 2508, 'explode': 1537, 'inspired': 2247, 'bust': 725, 'ross': 3662, 'compared': 965, '3d': 73, 'crowd': 1084, 'section': 3768, 'comedy': 949, 'grow': 1918, 'kevin': 2398, 'cds': 800, 'freaked': 1727, 'makeup': 2679, 'entirely': 1467, 'uncomfortable': 4605, '3pm': 76, 'shake': 3816, 'curious': 1105, 'talkin': 4265, 'gona': 1859, 'longest': 2610, 'tyler': 4582, 'busted': 726, 'wouldnt': 4907, 'workout': 4889, 'lunchtime': 2652, 'suffer': 4185, 'jane': 2307, 'ink': 2242, 'richard': 3617, 'hunny': 2170, 'bud': 697, 'bbq': 463, 'mile': 2800, 'beloved': 508, 'rolling': 3652, 'babes': 409, 'fully': 1763, 'wats': 4755, 'records': 3546, 'adult': 164, 'liverpool': 2581, 'ruin': 3677, 'anthony': 272, 'relief': 3565, 'apartment': 288, 'burning': 720, 'pile': 3279, 'chelsea': 854, 'cheering': 848, 'wore': 4884, 'wee': 4772, 'grrrrr': 1924, 'saved': 3722, 'weak': 4761, 'adore': 162, 'hah': 1951, '19': 30, 'joys': 2365, 'complain': 967, 'mini': 2811, 'ian': 2186, 'musical': 2910, 'universe': 4618, 'awards': 388, 'effort': 1426, 'typing': 4585, 'stressful': 4153, 'ninja': 2999, 'dust': 1383, 'rick': 3618, 'every1': 1502, 'potatoes': 3367, 'chem': 855, 'srsly': 4077, 'raise': 3496, 'effects': 1423, 'tha': 4333, 'sum': 4192, 'aka': 201, 'suit': 4191, 'nikki': 2995, 'royal': 3669, 'aussie': 374, 'image': 2211, '21': 42, 'opportunity': 3112, 'meal': 2740, 'artists': 328, 'tidy': 4407, 'stephenfry': 4115, 'buttons': 732, 'eggs': 1428, 'kate': 2386, 'coat': 932, 'dishes': 1277, 'insurance': 2254, 'stretch': 4155, 'smiles': 3952, 'houston': 2144, 'harry': 1991, 'potter': 3369, 'content': 998, 'marriage': 2709, 'pete': 3246, 'further': 1772, 'join': 2347, 'sake': 3699, 'posting': 3362, 'match': 2721, 'revise': 3611, 'ohio': 3080, 'tank': 4271, 'tastes': 4278, 'resist': 3595, 'salad': 3700, 'hiya': 2085, 'minor': 2812, 'dads': 1128, 'lap': 2472, 'paul': 3212, 'taco': 4252, 'bell': 504, 'interest': 2256, 'assume': 348, 'lord': 2620, 'iron': 2275, 'gmail': 1844, 'inbox': 2222, 'robert': 3639, 'michelle': 2788, 'icon': 2191, 'jack': 2296, 'prepared': 3388, 'freedom': 1732, 'retweet': 3607, 'cakes': 744, 'yess': 4960, 'dealing': 1175, 'installed': 2250, 'wheres': 4797, 'cricket': 1077, 'rap': 3502, '6th': 95, '7th': 100, 'katie': 2387, 'desperate': 1227, 'es': 1480, 'ang': 252, 'naman': 2926, 'dudes': 1375, 'niece': 2987, 'twitterers': 4569, 'sings': 3906, 'sweat': 4230, 'smashed': 3947, 'faith': 1563, 'based': 447, 'neighborhood': 2958, 'lying': 2657, 'desktop': 1226, 'manila': 2694, 'cracking': 1055, 'wireless': 4844, 'views': 4688, 'etsy': 1489, '27': 49, 'nintendo': 3000, 'gen': 1801, 'jess': 2327, 'parties': 3190, 'players': 3314, 'wished': 4848, 'vampire': 4667, 'umbrella': 4599, 'delivery': 1204, 'boobs': 608, 'whilst': 4802, 'headaches': 2016, 'hv': 2178, 'smiley': 3953, 'twittered': 4568, 'fr': 1721, 'swing': 4242, 'falls': 1568, 'grab': 1882, 'remind': 3570, 'rugby': 3676, 'student': 4161, 'iamjonathancook': 2184, 'gaming': 1784, 'dayy': 1167, 'particular': 3188, 'montreal': 2860, 'james': 2305, 'sport': 4065, '30pm': 63, 'bringing': 670, 'degree': 1194, 'los': 2621, 'las': 2475, 'din': 1257, 'couch': 1028, 'joey': 2340, 'sec': 3764, 'lives': 2582, 'prince': 3403, 'replacement': 3584, 'kristen': 2455, 'sessions': 3800, 'series': 3791, 'script': 3750, 'il': 2206, 'brown': 684, 'shirts': 3843, 'sweetheart': 4235, 'upcoming': 4626, 'stone': 4129, 'flew': 1667, 'booze': 619, 'blonde': 584, '26': 48, 'general': 1802, 'mentioned': 2770, 'upstairs': 4639, 'aah': 112, 'hence': 2053, 'goood': 1871, 'gained': 1780, 'images': 2212, 'lem': 2520, 'lasted': 2477, 'pix': 3294, 'xox': 4927, 'numb': 3045, 'crawl': 1066, 'hide': 2065, 'wifey': 4823, '35': 69, 'kiss': 2426, 'colour': 944, 'penguins': 3225, 'cus': 1111, 'sweden': 4232, 'snap': 3962, 'father': 1587, 'title': 4427, '32': 66, 'recommend': 3539, 'kfc': 2402, 'grocery': 1912, 'pittsburgh': 3292, 'boat': 595, 'atlanta': 353, 'philly': 3254, 'locked': 2598, 'flights': 1672, 'bestest': 515, 'championship': 820, 'abc': 114, 'ughhhh': 4591, '2000': 37, 'sniff': 3965, 'ko': 2449, 'trick': 4509, 'chores': 884, 'serve': 3794, 'attitude': 364, 'thin': 4365, 'switch': 4243, 'ryan': 3687, 'heavy': 2035, 'venue': 4675, 'pull': 3447, 'pin': 3282, 'prom': 3429, 'stick': 4118, 'menu': 2771, 'pasta': 3203, 'bees': 493, 'remote': 3576, 'java': 2312, 'signing': 3888, 'chest': 858, 'hockey': 2092, 'tmr': 4429, 'terminator': 4318, 'salvation': 3706, 'cramps': 1057, 'gcse': 1795, 'twitterverse': 4574, 'injury': 2241, 'cow': 1051, 'fails': 1558, 'muffin': 2896, 'multiply': 2901, 'g1': 1775, 'holly': 2101, 'talented': 4262, 'er': 1474, 'period': 3239, 'carry': 784, 'uber': 4586, 'tis': 4425, 'spongebob': 4064, 'pie': 3275, 'logged': 2600, 'nicer': 2983, 'lack': 2459, 'spelling': 4050, 'nkotb': 3004, 'spin': 4058, 'ness': 2966, 'phil': 3252, 'smh': 3950, 'board': 594, 'wallet': 4725, '99': 107, '1pm': 33, 'halfway': 1963, 'castle': 789, '60': 92, 'outlook': 3136, 'skool': 3927, 'reached': 3513, 'martin': 2714, 'soccer': 3974, 'six': 3918, 'completed': 970, 'crashing': 1064, 'odd': 3065, 'model': 2842, 'tues': 4530, 'convo': 1008, 'tied': 4409, 'glorious': 1842, 'grade': 1885, 'court': 1044, 'interviews': 2263, 'recover': 3547, 'sauce': 3719, 'mainly': 2673, 'duty': 1385, 'chilly': 873, 'event': 1497, 'setting': 3803, 'torture': 4474, 'similar': 3895, 'turtle': 4542, 'bake': 428, 'monkey': 2855, 'mi': 2783, 'club': 925, 'charlie': 836, 'brandon': 651, 'sophie': 4015, 'rush': 3685, 'laura': 2489, 'perezhilton': 3232, 'eight': 1431, 'freak': 1726, 'tweeties': 4554, 'mountain': 2876, 'pops': 3348, 'vegan': 4672, 'wid': 4818, 'necklace': 2951, 'cast': 788, 'fabulous': 1549, 'marketing': 2705, 'tt': 4525, 'tomato': 4443, 'speed': 4047, 'ignore': 2200, 'tampa': 4269, 'papa': 3174, 'graduate': 1886, 'ga': 1776, 'informed': 2238, 'thinkin': 4370, 'junior': 2377, 'previous': 3399, 'ribs': 3614, 'case': 786, 'answered': 268, '31': 65, 'mario': 2702, 'ruby': 3674, 'warning': 4737, 'drag': 1338, 'whenever': 4795, 'settings': 3804, 'bueno': 701, 'friggin': 1746, 'wi': 4816, 'fi': 1621, 'caffeine': 742, 'drove': 1365, 'subway': 4175, 'positive': 3356, 'burns': 721, 'heels': 2039, 'personally': 3243, 'events': 1498, 'dot': 1326, 'numbers': 3047, 'detroit': 1233, 'florida': 1675, 'nu': 3043, 'complaining': 968, 'gna': 1845, 'wrist': 4910, 'pretend': 3396, 'doin': 1305, 'winner': 4839, 'recording': 3545, 'jason': 2311, 'lessons': 2528, 'bitches': 550, 'clouds': 923, 'singapore': 3902, 'brazil': 653, 'chuck': 891, 'purchase': 3456, 'pot': 3365, 'girlie': 1828, 'vanilla': 4670, 'blogs': 581, 'rss': 3670, 'chrome': 890, 'skills': 3922, 'wrap': 4909, 'jacket': 2298, 'printer': 3406, 'soap': 3971, 'verizon': 4676, 'jeff': 2319, 'weekly': 4777, 'somewhat': 3997, 'theellenshow': 4349, 'jordan': 2360, 'woohoo': 4876, 'yesss': 4961, 'sleeps': 3935, 'donut': 1318, 'o_o': 3057, 'prove': 3440, 'doors': 1322, 'escape': 1481, 'pup': 3453, 'nuts': 3050, 'bird': 543, 'humid': 2163, 'higher': 2068, 'thomas': 4378, 'apart': 287, 'score': 3739, 'kicks': 2407, 'gots': 1878, 'media': 2746, 'atl': 352, 'bible': 529, 'ne': 2945, 'health': 2023, 'mann': 2695, 'groups': 1917, 'center': 808, 'backyard': 419, 'smoothie': 3959, 'bebo': 480, 'sunburn': 4197, 'woop': 4879, 'rob': 3638, 'noone': 3017, 'dolls': 1310, 'ours': 3133, 'demi': 1207, 'ty': 4581, 'pork': 3351, 'ikea': 2205, 'pattinson': 3211, 'ka': 2382, 'honestly': 2112, 'phones': 3257, 'mah': 2669, 'sticky': 4120, 'hectic': 2037, 'yey': 4965, 'married': 2710, 'joint': 2350, 'robot': 3641, 'expecting': 1533, 'spare': 4040, 'steph': 4113, 'pepper': 3229, 'scream': 3745, 'owe': 3145, 'comfy': 953, 'blogtv': 583, 'refreshing': 3552, 'surfing': 4217, 'netflix': 2968, '333': 68, 'recovering': 3548, 'albums': 208, 'european': 1492, 'tsk': 4524, 'youu': 4982, 'clue': 926, 'details': 1232, 'sorted': 4020, 'jazz': 2314, 'recital': 3537, 'aug': 369, 'damned': 1137, 'popped': 3347, 'climbing': 912, 'pal': 3167, 'pepsi': 3230, 'thus': 4403, 'hardcore': 1987, 'purse': 3460, 'ginger': 1824, 'convince': 1006, 'sheets': 3833, 'madness': 2665, 'brooklyn': 679, 'yelling': 4954, 'temp': 4310, 'woah': 4861, 'basement': 448, 'gods': 1851, 'bash': 449, 'omfg': 3089, 'entertaining': 1464, 'chicks': 863, 'piss': 3287, 'eu': 1490, 'soooooo': 4012, 'lemonade': 2522, 'grandpa': 1893, 'reminder': 3572, 'ing': 2239, 'dedicated': 1187, 'mcdonalds': 2735, 'rocky': 3647, 'hilton': 2074, 'aaron': 113, 'greg': 1906, 'coding': 934, 'ridiculous': 3622, 'sim': 3894, 'rocking': 3645, 'tokyo': 4440, 'gs': 1926, 'cracked': 1054, 'partying': 3194, 'pathetic': 3207, 'handed': 1968, 'worthy': 4903, 'esp': 1482, 'returned': 3606, 'adorable': 161, 'tat': 4280, 'multi': 2899, 'wii': 4825, 'attempt': 359, 'pouring': 3371, 'greatest': 1901, 'wierd': 4820, 'sticks': 4119, 'biz': 555, 'internship': 2261, 'os': 3126, '5pm': 90, 'parade': 3178, 'asshole': 345, 'selena': 3776, 'popcorn': 3346, 'subject': 4174, 'naw': 2940, 'coldplay': 938, 'exact': 1515, 'russian': 3686, 'voting': 4706, 'jesse': 2328, 'gain': 1779, 'mms': 2838, 'yard': 4941, 'helpful': 2050, 'looove': 2616, 'vacay': 4664, 'sweetie': 4236, 'iced': 2189, 'tool': 4461, 'homie': 2109, 'figuring': 1627, 'material': 2723, 'mask': 2716, 'ridiculously': 3623, 'saturdays': 3718, 'allen': 215, 'gaga': 1777, 'katy': 2388, 'perry': 3240, 'birth': 545, 'desperately': 1228, 'thunderstorms': 4400, 'petewentz': 3249, 'asia': 336, 'ant': 271, 'cha': 816, 'listenin': 2574, 'wrk': 4915, 'loveee': 2637, 'wud': 4920, 'sry': 4078, 'denver': 1212, 'handy': 1972, 'puppies': 3454, 'direction': 1260, 'pets': 3250, 'scrubs': 3751, 'salon': 3703, 'amen': 238, 'ii': 2204, 'push': 3461, 'gum': 1936, 'bold': 599, 'factory': 1554, 'failure': 1559, 'clear': 903, 'attacked': 358, 'downloaded': 1333, 'rose': 3661, 'est': 1486, 'hiccups': 2064, 'creating': 1071, 'sharing': 3826, 'theatre': 4346, 'act': 141, 'fairy': 1562, 'press': 3394, 'guide': 1933, 'helps': 2052, 'soul': 4022, 'sinus': 3907, 'shortly': 3857, 'bastard': 454, 'sleepover': 3934, 'survive': 4222, 'cheesy': 852, 'notebook': 3031, 'toe': 4436, 'charity': 835, 'besides': 513, 'dick': 1241, 'route': 3665, 'drawing': 1343, 'johncmayer': 2345, 'theyre': 4364, 'dell': 1205, 'pig': 3278, 'semester': 3781, 'pumped': 3450, 'portland': 3354, 'peanut': 3220, 'nc': 2943, '2morrow': 55, 'haa': 1947, 'mosquito': 2868, 'belong': 507, 'bikini': 534, 'example': 1518, 'success': 4176, 'balance': 431, 'whoops': 4810, 'advantage': 166, 'anyways': 284, 'actor': 145, 'buddies': 698, 'whos': 4812, 'average': 382, 'pen': 3224, 'momma': 2847, 'motion': 2873, 'involved': 2267, 'sunburned': 4198, 'force': 1703, 'thrown': 4393, 'nuggets': 3044, 'chips': 878, 'pit': 3290, 'grandmother': 1892, '95': 106, 'breeze': 663, 'skies': 3921, 'wossy': 4904, 'bother': 628, 'august': 370, 'singer': 3903, 'sang': 3712, 'alan': 204, 'hs': 2151, 'lawn': 2493, 'metro': 2780, 'wishin': 4850, 'knock': 2441, 'chase': 839, 'twitterville': 4575, 'sorta': 4019, 'mystery': 2918, 'shane': 3820, 'staring': 4092, 'souljaboytellem': 4023, 'tiger': 4410, 'device': 1236, 'strike': 4156, 'selenagomez': 3777, 'wknd': 4858, 'waffles': 4712, 'tee': 4302, 'ba': 407, 'particularly': 3189, 'shipping': 3841, 'tweeple': 4544, 'laughs': 2486, 'wack': 4710, 'yaaay': 4936, 'susan': 4224, 'lakers': 2465, 'twins': 4561, 'aunt': 371, 'calendar': 745, 'colorado': 942, 'melissa': 2761, 'fone': 1695, 'kim': 2418, 'commercials': 960, 'fridays': 1738, 'liz': 2584, 'central': 809, 'instant': 2252, 'jet': 2332, 'hahahah': 1956, 'screw': 3748, 'urban': 4641, 'footy': 1701, 'smaller': 3945, 'obvious': 3060, 'reasons': 3529, 'jones': 2359, 'asks': 341, 'toes': 4437, 'index': 2230, 'helped': 2049, 'haters': 1998, 'nerves': 2964, 'alice': 212, 'tooooo': 4465, 'ct': 1094, 'luv': 2654, 'trending': 4507, 'metal': 2779, 'beers': 492, 'tall': 4268, 'et': 1487, 'hype': 2180, 'fries': 1745, 'recession': 3535, 'cutie': 1118, 'photography': 3259, 'friendship': 1744, 'answering': 269, 'signs': 3889, 'girly': 1830, 'sunset': 4204, 'mitchel': 2830, 'twitterland': 4572, 'uhm': 4595, 'asot400': 343, 'kool': 2451, 'rescue': 3593, 'greet': 1904, '2nite': 58, 'texted': 4328, 'doo': 1320, 'aid': 196, 'pillow': 3280, 'sunburnt': 4199, 'iamdiddy': 2183, 'tanning': 4272, 'drives': 1359, 'hood': 2116, 'haircut': 1961, 'toilet': 4439, 'nashville': 2933, 'dd': 1169, 'ahhhhhh': 194, 'flick': 1668, 'bat': 455, 'jackson': 2300, 'songzyuuup': 4002, 'prison': 3407, 'treat': 4502, 'yeahh': 4949, 'transfer': 4497, 'mickey': 2790, 'chain': 817, 'safely': 3697, 'pains': 3162, 'bride': 665, 'shape': 3822, 'puts': 3465, '16th': 24, 'tix': 4428, 'dizzy': 1288, 'army': 319, 'jay': 2313, 'pens': 3226, 'models': 2843, 'wars': 4739, 'relationship': 3559, 'garlic': 1790, 'genius': 1804, 'blown': 589, 'newest': 2975, 'lion': 2565, 'tire': 4422, 'replying': 3588, 'thou': 4380, 'necessary': 2949, 'therapy': 4356, 'mmmmm': 2837, 'girlfriends': 1827, 'taylorswift13': 4286, 'steal': 4110, 'wut': 4921, 'younger': 4974, 'celebrating': 803, 'thunderstorm': 4399, 'former': 1714, 'master': 2720, 'medical': 2747, 'philippines': 3253, 'economy': 1412, 'toronto': 4473, 'aha': 185, 'gang': 1785, 'jb': 2315, 'tag': 4255, 'intense': 2255, 'climb': 911, 'realy': 3527, 'ton': 4453, '36': 70, 'eyed': 1544, 'stoked': 4125, 'edward': 1419, 'november': 3038, 'kay': 2390, 'taught': 4282, 'hahahahaha': 1958, 'mega': 2756, 'gurl': 1939, 'happiness': 1984, 'lightening': 2546, 'wild': 4827, 'noodles': 3015, 'jog': 2342, 'seats': 3761, 'stalking': 4086, 'cubs': 1095, 'paradise': 3179, 'whose': 4813, 'clients': 910, 'rich': 3616, 'graphics': 1896, 'surprisingly': 4221, 'fits': 1658, 'funky': 1767, 'choc': 879, 'brownies': 685, 'settled': 3806, 'thumb': 4396, 'nevermind': 2972, 'whoo': 4808, 'childhood': 865, 'hung': 2167, 'youuuu': 4984, 'concerts': 982, 'shy': 3877, 'million': 2805, 'cleveland': 905, 'followfriday': 1692, 'cab': 739, 'theme': 4352, 'plenty': 3323, 'closet': 919, 'farm': 1581, 'jim': 2333, 'racing': 3486, 'con': 976, 'fathers': 1588, 'mcfly': 2736, 'oi': 3081, 'votes': 4705, 'knowledge': 2445, 'volleyball': 4702, 'preview': 3398, 'semi': 3782, 'wot': 4905, 'lg': 2536, 'weeds': 4773, 'jail': 2302, 'goodies': 1864, 'purpose': 3459, 'buckhollywood': 695, 'pieces': 3277, 'duh': 1377, 'tommy': 4448, 'hop': 2120, 'forest': 1706, 'patience': 3208, 'tweetup': 4557, 'robin': 3640, 'amanda': 232, 'grill': 1909, 'overcast': 3142, 'blanket': 562, 'truly': 4517, 'ocean': 3063, 'lovin': 2641, 'ego': 1429, 'boom': 612, 'w00t': 4708, 'loop': 2617, 'scare': 3729, 'recent': 3532, 'bein': 499, 'atlantic': 354, 'vancouver': 4669, 'beyonce': 524, 'deck': 1186, 'coulda': 1032, 'washed': 4742, 'impressive': 2219, 'sub': 4173, 'crystal': 1091, 'jen': 2321, 'adventures': 168, 'hee': 2038, 'plants': 3308, 'toys': 4485, 'babysit': 413, 'triple': 4512, 'iam': 2182, '55': 88, 'countdown': 1035, 'survived': 4223, 'shoutout': 3867, 'blocks': 577, 'skate': 3920, 'porch': 3350, 'voted': 4704, 'jonasbrothers': 2356, 'nadal': 2921, 'ultimate': 4597, 'uploading': 4634, 'include': 2224, 'accepted': 126, 'breathing': 662, 'officialtila': 3073, 'above': 119, 'walmart': 4727, 'prayer': 3378, 'derby': 1217, 'unpacking': 4622, 'ditto': 1285, 'ordering': 3121, 'gardens': 1789, 'tend': 4313, '7pm': 99, 'address': 158, 'phew': 3251, 'wire': 4843, 'karma': 2384, 'jogging': 2343, 'prepare': 3387, 'sunbathing': 4196, 'mummy': 2903, 'todayy': 4435, 'source': 4030, 'jamie': 2306, 'confirmed': 984, 'awesomeness': 393, 'ft': 1755, 'thumbs': 4397, 'iran': 2270, 'hike': 2070, 'natural': 2937, 'scott': 3742, 'charlotte': 837, 'shiny': 3839, 'mistakes': 2828, 'yogurt': 4970, 'spirit': 4060, 'caps': 771, 'oooo': 3103, 'flower': 1677, 'dare': 1150, 'sonic': 4003, 'dangerous': 1144, 'rides': 3621, 'fran': 1722, 'fa': 1547, 'borrow': 624, 'curly': 1106, 'drinkin': 1353, 'recovery': 3549, 'entertain': 1463, 'katyperry': 2389, 'xoxox': 4929, 'woods': 4875, 'pocket': 3330, 'norway': 3027, 'headin': 2018, 'thx': 4404, 'adventure': 167, 'grounded': 1915, 'tasty': 4279, 'arizona': 316, 'jo': 2336, 'convinced': 1007, 'dh': 1238, 'unfortunate': 4611, 'wins': 4841, 'georgia': 1807, 'frm': 1747, 'goooood': 1873, 'celebrity': 805, 'spicy': 4055, 'soooooooo': 4014, 'wil': 4826, 'montana': 2857, 'blind': 570, '4am': 83, 'turkey': 4537, 'korea': 2452, 'trent_reznor': 4508, 'therealjordin': 4358, 'graduated': 1887, 'thee': 4348, 'rainbow': 3491, 'adam': 150, 'dope': 1323, 'bros': 680, 'cavs': 796, 'boyle': 643, 'heyy': 2061, 'mexican': 2781, 'desert': 1218, 'warped': 4738, 'fireworks': 1652, 'yah': 4938, 'included': 2225, 'funn': 1768, 'britains': 673, 'bagel': 424, 'dia': 1240, 'roof': 3656, 'tommorrow': 4447, 'stunning': 4170, 'recommendation': 3540, 'kk': 2434, 'recommended': 3542, 'production': 3419, 'celebs': 806, 'pe': 3217, 'bitter': 554, 'museum': 2908, 'newcastle': 2974, 'nerd': 2963, 'performing': 3237, 'human': 2162, 'tuned': 4535, 'wendy': 4784, 'del': 1196, 'hangin': 1974, 'nigga': 2988, 'nom': 3011, 'irish': 2274, 'drake': 1339, 'tragic': 4492, 'grilled': 1910, 'skirt': 3926, 'stil': 4121, 'telly': 4309, 'whew': 4799, 'transformers': 4498, 'tweeter': 4549, 'alexalltimelow': 211, 'grandparents': 1894, 'patrick': 3210, 'burgers': 717, 'yfrog': 4966, 'suspended': 4226, 'depression': 1216, 'surf': 4216, 'electric': 1434, 'myloc': 2914, 'markhoppus': 2706, 'eatin': 1407, 'supper': 4209, 'bgt': 528, 'holla': 2099, 'artist': 327, 'lilyroseallen': 2557, 'blogging': 580, 'avoid': 383, 'worrying': 4898, 'streets': 4149, 'besties': 518, 'babygirlparis': 412, 'karaoke': 2383, 'lebron': 2511, 'beast': 473, 'lobster': 2594, 'cuts': 1119, 'jackalltimelow': 2297, 'joeymcintyre': 2341, 'ni': 2980, 'rockin': 3644, 'den': 1210, 'lifetime': 2543, 'lottery': 2629, 'tape': 4274, 'ship': 3840, '101': 8, 'keyboard': 2400, 'dannywood': 1149, 'joining': 2349, 'yoga': 4969, 'alyssa_milano': 230, 'romantic': 3654, 'correct': 1023, 'actress': 146, 'yeahhh': 4950, 'cheesecake': 851, 'recorded': 3544, 'coolest': 1016, 'engine': 1454, 'owner': 3149, 'acoustic': 139, 'reminding': 3573, 'village': 4689, 'accomplished': 130, 'snl': 3966, 'jr': 2367, 'settle': 3805, 'chili': 868, 'bracelet': 645, 'poem': 3332, 'sober': 3973, 'erm': 1476, 'dean': 1176, 'wolverine': 4864, 'touched': 4478, 'killers': 2414, 'brad': 647, 'beside': 512, 'respect': 3596, 'farewell': 1580, 'partner': 3191, 'lovee': 2636, 'jpg': 2366, 'twitting': 4576, 'bottles': 631, 'corn': 1021, 'wks': 4859, 'sg': 3814, 'smith': 3955, 'storms': 4139, 'clicked': 908, 'discuss': 1272, 'maria': 2700, 'beating': 475, 'gw': 1943, 'bsb': 691, '17th': 26, 'awsome': 398, 'yumm': 4991, 'va': 4662, 'lolol': 2604, 'chile': 867, 'mister': 2829, 'ck': 896, 'drums': 1367, 'topics': 4470, 'sara': 3714, 'yayyy': 4945, 'tomorow': 4450, 'october': 3064, 'gnight': 1846, 'bby': 464, 'resting': 3601, 'lift': 2544, 'jordanknight': 2361, 'excitement': 1524, 'pearl': 3221, 'honor': 2114, 'stalk': 4084, 'tub': 4528, 'paste': 3204, 'rome': 3655, 'berry': 511, 'shanedawson': 3821, 'neat': 2948, 'painted': 3164, 'lens': 2524, 'favorites': 1594, 'daisies': 1130, 'unique': 4615, 'hmmmm': 2089, 'inspiring': 2248, 'plate': 3310, 'traveling': 4501, '19th': 31, 'tetris': 4325, 'aaah': 111, 'sir': 3908, 'crime': 1080, 'september': 3790, 'jessica': 2329, 'anniversary': 261, 'brave': 652, 'vibes': 4681, 'dose': 1325, 'homemade': 2106, 'bonfire': 605, 'demons': 1209, 'korean': 2453, 'te': 4288, 'mariahcarey': 2701, 'gifts': 1820, 'compliment': 973, 'cum': 1098, 'keith': 2395, 'award': 387, 'lang': 2470, 'cranky': 1058, 'summertime': 4194, 'worship': 4900, 'base': 445, 'bonus': 606, 'addicting': 154, 'monitor': 2854, 'attending': 362, 'stays': 4108, 'bnp': 593, '06': 2, 'goodluck': 1865, 'gr8': 1881, 'fred': 1730, 'rays': 3509, 'nbc': 2942, 'successful': 4177, 'hai': 1959, 'exhausting': 1529, 'rad': 3487, 'statement': 4100, 'rove': 3667, 'anxious': 275, 'argentina': 314, 'urs': 4645, 'kobe': 2450, 'ham': 1966, 'gim': 1823, 'laker': 2464, 'leon': 2525, 'reception': 3534, 'amusing': 244, 'jacob': 2301, 'flags': 1664, 'caramel': 774, 'rio': 3628, 'sept': 3789, 'christ': 887, 'muse': 2907, 'improve': 2220, 'spelled': 4049, 'clever': 906, 'rafa': 3489, 'seniors': 3786, 'waffle': 4711, 'forgetting': 1709, 'api': 289, '11am': 13, 'anime': 258, 'potato': 3366, 'lisa': 2569, 'bow': 636, 'julie': 2371, 'rb': 3510, 'yayy': 4944, 'muffins': 2897, 'cycling': 1123, 'spears': 4044, 'legit': 2518, 'extended': 1539, 'heidi': 2043, 'daughters': 1160, 'gary': 1791, 'relaxed': 3561, 'humidity': 2164, 'heyyy': 2062, 'mango': 2693, 'snuggle': 3968, 'minds': 2808, 'thrilled': 4388, 'audition': 368, 'shaun': 3828, 'jackie': 2299, 'hott': 2136, 'earn': 1396, 'dl': 1290, 'ahahaha': 188, 'olive': 3088, 'rings': 3627, 'nine': 2998, 'paramore': 3180, 'tgif': 4331, 'mypict': 2915, 'arts': 329, 'shares': 3825, 'flies': 1670, 'wwdc': 4922, 'hugh': 2157, 'graduating': 1888, 'goodnite': 1869, 'fitness': 1657, 'yaay': 4937, 'twitterfon': 4570, 'lighting': 2547, 'gm': 1843, 'veggie': 4674, 'mcflyharry': 2738, 'bamboozle': 435, 'musicmonday': 2911, 'lambert': 2466, 'outfit': 3135, 'waves': 4757, 'celebration': 804, 'blessings': 568, 'lovato': 2633, 'woooo': 4878, 'supernatural': 4208, 'dork': 1324, 'mandyyjirouxx': 2692, 'titanic': 4426, 'yessss': 4962, 'charm': 838, 'kris': 2454, 'dessert': 1230, 'booth': 617, 'leno': 2523, 'ustre': 4659, 'davidarchie': 1163, 'reunion': 3608, 'khloekardashian': 2403, 'ashleytisdale': 335, 'props': 3438, 'mitchelmusso': 2831, 'jessicaveronica': 2330, 'eurovision': 1493, 'h1n1': 1945, 'archie': 309, 'tornado': 4472, 'shaunjumpnow': 3830, 'federer': 1602, 'np': 3041, 'ooc': 3099, 'diversity': 1286, 'belated': 501, 'debbiefletcher': 1179, 'bom': 600, 'beatles': 476, 'giveaway': 1832, 'funniest': 1769, 'hola': 2093, 'farrah': 1582, 'thedebbyryan': 4347, 'kirstiealley': 2425, 'niley': 2996, 'greetings': 1905, 'fawcett': 1596, 'laurenconrad': 2491, 'dannygokey': 1147, 'wimbledon': 4830, 'billyraycyrus': 538, 'squarespace': 4076, 'yelyahwilliams': 4956, 'tracecyrus': 4487, 'ebassman': 1409, 'lvatt': 2655, 'peterfacinelli': 3248, 'spymaster': 4074, 'youngq': 4975, 'vines': 4690, 'myweakness': 2919, 'marsiscoming': 2712, 'mcflyforgermany': 2737, 'carradine': 783, 'tweeteradder': 4550, 'iremember': 2273, 'iranelection': 2271, '3gs': 75, 'iamsoannoyed': 2185, 'tweeterfollow': 4551}\n"
     ]
    }
   ],
   "source": [
    "print(Tfidf_vect.vocabulary_)"
   ]
  },
  {
   "cell_type": "code",
   "execution_count": 12,
   "metadata": {},
   "outputs": [
    {
     "name": "stdout",
     "output_type": "stream",
     "text": [
      "  (0, 4853)\t0.1933673490013036\n",
      "  (0, 3006)\t0.21603540828406553\n",
      "  (0, 2853)\t0.34608638461269225\n",
      "  (0, 2402)\t0.519546977799641\n",
      "  (0, 2221)\t0.16259089929785447\n",
      "  (0, 2169)\t0.36675975771570646\n",
      "  (0, 617)\t0.509546823769615\n",
      "  (0, 350)\t0.1956836912215655\n",
      "  (0, 330)\t0.2595271275122342\n",
      "  (1, 3091)\t1.0\n",
      "  (2, 4577)\t0.4092910028275572\n",
      "  (2, 4459)\t0.2846229428969209\n",
      "  (2, 4431)\t0.1517691782498754\n",
      "  (2, 3029)\t0.24985017584865343\n",
      "  (2, 2614)\t0.38989931507415576\n",
      "  (2, 2380)\t0.24011314671691805\n",
      "  (2, 1717)\t0.43178052038133435\n",
      "  (2, 1165)\t0.26758598305265596\n",
      "  (2, 727)\t0.44530796794379823\n",
      "  (3, 4760)\t0.22825669897181589\n",
      "  (3, 4682)\t0.49868973808458417\n",
      "  (3, 4459)\t0.22281217508967147\n",
      "  (3, 4344)\t0.12244829054000422\n",
      "  (3, 3969)\t0.1801127014843266\n",
      "  (3, 2634)\t0.22492258779737376\n",
      "  :\t:\n",
      "  (1279998, 4836)\t0.28753699278682165\n",
      "  (1279998, 4431)\t0.08463297115035145\n",
      "  (1279998, 4250)\t0.22945671791652864\n",
      "  (1279998, 3548)\t0.3456385435966356\n",
      "  (1279998, 3066)\t0.24370111588273952\n",
      "  (1279998, 3029)\t0.13932712141127168\n",
      "  (1279998, 2909)\t0.23402975301935453\n",
      "  (1279998, 2575)\t0.23859671313263195\n",
      "  (1279998, 2380)\t0.13389733840065587\n",
      "  (1279998, 2005)\t0.21101481004235298\n",
      "  (1279998, 1839)\t0.31551658593432236\n",
      "  (1279998, 1748)\t0.16456087700373176\n",
      "  (1279998, 1372)\t0.3532143280768767\n",
      "  (1279998, 1041)\t0.26695400828527754\n",
      "  (1279998, 421)\t0.19187897596149858\n",
      "  (1279998, 350)\t0.13950001279026297\n",
      "  (1279998, 248)\t0.10425030372260481\n",
      "  (1279998, 214)\t0.15013932935741814\n",
      "  (1279999, 4753)\t0.40795268510115434\n",
      "  (1279999, 4431)\t0.17443553389229136\n",
      "  (1279999, 3725)\t0.43375398312622804\n",
      "  (1279999, 3095)\t0.5312487613910354\n",
      "  (1279999, 2283)\t0.2177045054730786\n",
      "  (1279999, 2221)\t0.2388972881349432\n",
      "  (1279999, 2063)\t0.47781996703317503\n"
     ]
    }
   ],
   "source": [
    "print(Train_X_Tfidf)"
   ]
  },
  {
   "cell_type": "code",
   "execution_count": 13,
   "metadata": {},
   "outputs": [
    {
     "name": "stdout",
     "output_type": "stream",
     "text": [
      "Naive Bayes Accuracy Score ->  76.9240625\n"
     ]
    }
   ],
   "source": [
    "# Naive Bayes Classifier\n",
    "Naive = naive_bayes.MultinomialNB()\n",
    "Naive.fit(Train_X_Tfidf,Train_Y)\n",
    "\n",
    "predictions_NB = Naive.predict(Test_X_Tfidf)\n",
    "print(\"Naive Bayes Accuracy Score -> \",accuracy_score(predictions_NB, Test_Y)*100)"
   ]
  },
  {
   "cell_type": "code",
   "execution_count": 14,
   "metadata": {},
   "outputs": [],
   "source": [
    "# Support Vector Machine Classifier\n",
    "SVM = svm.SVC(C=1.0, kernel='linear', degree=3, gamma='auto')\n",
    "SVM.fit(Train_X_Tfidf,Train_Y)\n",
    "\n",
    "predictions_SVM = SVM.predict(Test_X_Tfidf)\n",
    "print(\"SVM Accuracy Score -> \",accuracy_score(predictions_SVM, Test_Y)*100)"
   ]
  }
 ],
 "metadata": {
  "interpreter": {
   "hash": "fc4d42bc20b6e2cc6eafb692aa4ec9b79d421f8208b62deb082213703e5b737b"
  },
  "kernelspec": {
   "display_name": "Python 3.7.9 64-bit",
   "language": "python",
   "name": "python3"
  },
  "language_info": {
   "codemirror_mode": {
    "name": "ipython",
    "version": 3
   },
   "file_extension": ".py",
   "mimetype": "text/x-python",
   "name": "python",
   "nbconvert_exporter": "python",
   "pygments_lexer": "ipython3",
   "version": "3.7.9"
  },
  "orig_nbformat": 4
 },
 "nbformat": 4,
 "nbformat_minor": 2
}
