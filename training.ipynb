{
 "cells": [
  {
   "cell_type": "code",
   "execution_count": 1,
   "metadata": {},
   "outputs": [
    {
     "name": "stderr",
     "output_type": "stream",
     "text": [
      "[nltk_data] Downloading package punkt to\n",
      "[nltk_data]     C:\\Users\\frede\\AppData\\Roaming\\nltk_data...\n",
      "[nltk_data]   Package punkt is already up-to-date!\n",
      "[nltk_data] Downloading package omw-1.4 to\n",
      "[nltk_data]     C:\\Users\\frede\\AppData\\Roaming\\nltk_data...\n",
      "[nltk_data]   Package omw-1.4 is already up-to-date!\n",
      "[nltk_data] Downloading package stopwords to\n",
      "[nltk_data]     C:\\Users\\frede\\AppData\\Roaming\\nltk_data...\n",
      "[nltk_data]   Package stopwords is already up-to-date!\n"
     ]
    },
    {
     "data": {
      "text/plain": [
       "True"
      ]
     },
     "execution_count": 1,
     "metadata": {},
     "output_type": "execute_result"
    }
   ],
   "source": [
    "import zipfile\n",
    "import pandas as pd\n",
    "import nltk\n",
    "import pandas as pd\n",
    "import numpy as np\n",
    "from nltk.tokenize import word_tokenize\n",
    "from nltk import pos_tag\n",
    "from nltk.corpus import stopwords\n",
    "from nltk.stem import WordNetLemmatizer\n",
    "from sklearn.preprocessing import LabelEncoder\n",
    "from collections import defaultdict\n",
    "from nltk.corpus import wordnet as wn\n",
    "from sklearn.feature_extraction.text import TfidfVectorizer\n",
    "from sklearn import model_selection, naive_bayes, svm\n",
    "from sklearn.metrics import accuracy_score\n",
    "from stop_words import get_stop_words\n",
    "nltk.download('punkt')\n",
    "nltk.download('omw-1.4')\n",
    "nltk.download('stopwords')\n"
   ]
  },
  {
   "cell_type": "code",
   "execution_count": 2,
   "metadata": {},
   "outputs": [],
   "source": [
    "archive = zipfile.ZipFile('training_data.zip', 'r')\n",
    "df = pd.read_csv(archive.open('training.1600000.processed.noemoticon.csv'), header=None, encoding_errors=\"replace\")\n",
    "# df = pd.read_csv(\"training_data/training.1600000.processed.noemoticon.csv\", encoding=\"utf-8\", encoding_errors=\"replace\")"
   ]
  },
  {
   "cell_type": "code",
   "execution_count": 3,
   "metadata": {},
   "outputs": [
    {
     "data": {
      "text/html": [
       "<div>\n",
       "<style scoped>\n",
       "    .dataframe tbody tr th:only-of-type {\n",
       "        vertical-align: middle;\n",
       "    }\n",
       "\n",
       "    .dataframe tbody tr th {\n",
       "        vertical-align: top;\n",
       "    }\n",
       "\n",
       "    .dataframe thead th {\n",
       "        text-align: right;\n",
       "    }\n",
       "</style>\n",
       "<table border=\"1\" class=\"dataframe\">\n",
       "  <thead>\n",
       "    <tr style=\"text-align: right;\">\n",
       "      <th></th>\n",
       "      <th>0</th>\n",
       "      <th>1</th>\n",
       "      <th>2</th>\n",
       "      <th>3</th>\n",
       "      <th>4</th>\n",
       "      <th>5</th>\n",
       "    </tr>\n",
       "  </thead>\n",
       "  <tbody>\n",
       "    <tr>\n",
       "      <th>0</th>\n",
       "      <td>0</td>\n",
       "      <td>1467810369</td>\n",
       "      <td>Mon Apr 06 22:19:45 PDT 2009</td>\n",
       "      <td>NO_QUERY</td>\n",
       "      <td>_TheSpecialOne_</td>\n",
       "      <td>@switchfoot http://twitpic.com/2y1zl - Awww, t...</td>\n",
       "    </tr>\n",
       "    <tr>\n",
       "      <th>1</th>\n",
       "      <td>0</td>\n",
       "      <td>1467810672</td>\n",
       "      <td>Mon Apr 06 22:19:49 PDT 2009</td>\n",
       "      <td>NO_QUERY</td>\n",
       "      <td>scotthamilton</td>\n",
       "      <td>is upset that he can't update his Facebook by ...</td>\n",
       "    </tr>\n",
       "    <tr>\n",
       "      <th>2</th>\n",
       "      <td>0</td>\n",
       "      <td>1467810917</td>\n",
       "      <td>Mon Apr 06 22:19:53 PDT 2009</td>\n",
       "      <td>NO_QUERY</td>\n",
       "      <td>mattycus</td>\n",
       "      <td>@Kenichan I dived many times for the ball. Man...</td>\n",
       "    </tr>\n",
       "    <tr>\n",
       "      <th>3</th>\n",
       "      <td>0</td>\n",
       "      <td>1467811184</td>\n",
       "      <td>Mon Apr 06 22:19:57 PDT 2009</td>\n",
       "      <td>NO_QUERY</td>\n",
       "      <td>ElleCTF</td>\n",
       "      <td>my whole body feels itchy and like its on fire</td>\n",
       "    </tr>\n",
       "    <tr>\n",
       "      <th>4</th>\n",
       "      <td>0</td>\n",
       "      <td>1467811193</td>\n",
       "      <td>Mon Apr 06 22:19:57 PDT 2009</td>\n",
       "      <td>NO_QUERY</td>\n",
       "      <td>Karoli</td>\n",
       "      <td>@nationwideclass no, it's not behaving at all....</td>\n",
       "    </tr>\n",
       "  </tbody>\n",
       "</table>\n",
       "</div>"
      ],
      "text/plain": [
       "   0           1                             2         3                4  \\\n",
       "0  0  1467810369  Mon Apr 06 22:19:45 PDT 2009  NO_QUERY  _TheSpecialOne_   \n",
       "1  0  1467810672  Mon Apr 06 22:19:49 PDT 2009  NO_QUERY    scotthamilton   \n",
       "2  0  1467810917  Mon Apr 06 22:19:53 PDT 2009  NO_QUERY         mattycus   \n",
       "3  0  1467811184  Mon Apr 06 22:19:57 PDT 2009  NO_QUERY          ElleCTF   \n",
       "4  0  1467811193  Mon Apr 06 22:19:57 PDT 2009  NO_QUERY           Karoli   \n",
       "\n",
       "                                                   5  \n",
       "0  @switchfoot http://twitpic.com/2y1zl - Awww, t...  \n",
       "1  is upset that he can't update his Facebook by ...  \n",
       "2  @Kenichan I dived many times for the ball. Man...  \n",
       "3    my whole body feels itchy and like its on fire   \n",
       "4  @nationwideclass no, it's not behaving at all....  "
      ]
     },
     "execution_count": 3,
     "metadata": {},
     "output_type": "execute_result"
    }
   ],
   "source": [
    "# target: the polarity of the tweet (0 = negative, 2 = neutral, 4 = positive)\n",
    "\n",
    "# ids: The id of the tweet ( 2087)\n",
    "\n",
    "# date: the date of the tweet (Sat May 16 23:58:44 UTC 2009)\n",
    "\n",
    "# flag: The query (lyx). If there is no query, then this value is NO_QUERY.\n",
    "\n",
    "# user: the user that tweeted (robotickilldozr)\n",
    "\n",
    "# text: the text of the tweet (Lyx is cool)\n",
    "\n",
    "df.loc[df[0]==4, 0]= 1\n",
    "df.head()"
   ]
  },
  {
   "cell_type": "code",
   "execution_count": 4,
   "metadata": {},
   "outputs": [
    {
     "data": {
      "text/html": [
       "<div>\n",
       "<style scoped>\n",
       "    .dataframe tbody tr th:only-of-type {\n",
       "        vertical-align: middle;\n",
       "    }\n",
       "\n",
       "    .dataframe tbody tr th {\n",
       "        vertical-align: top;\n",
       "    }\n",
       "\n",
       "    .dataframe thead th {\n",
       "        text-align: right;\n",
       "    }\n",
       "</style>\n",
       "<table border=\"1\" class=\"dataframe\">\n",
       "  <thead>\n",
       "    <tr style=\"text-align: right;\">\n",
       "      <th></th>\n",
       "      <th>0</th>\n",
       "      <th>5</th>\n",
       "    </tr>\n",
       "  </thead>\n",
       "  <tbody>\n",
       "    <tr>\n",
       "      <th>0</th>\n",
       "      <td>0</td>\n",
       "      <td>@switchfoot http://twitpic.com/2y1zl - Awww, t...</td>\n",
       "    </tr>\n",
       "    <tr>\n",
       "      <th>1</th>\n",
       "      <td>0</td>\n",
       "      <td>is upset that he can't update his Facebook by ...</td>\n",
       "    </tr>\n",
       "    <tr>\n",
       "      <th>2</th>\n",
       "      <td>0</td>\n",
       "      <td>@Kenichan I dived many times for the ball. Man...</td>\n",
       "    </tr>\n",
       "    <tr>\n",
       "      <th>3</th>\n",
       "      <td>0</td>\n",
       "      <td>my whole body feels itchy and like its on fire</td>\n",
       "    </tr>\n",
       "    <tr>\n",
       "      <th>4</th>\n",
       "      <td>0</td>\n",
       "      <td>@nationwideclass no, it's not behaving at all....</td>\n",
       "    </tr>\n",
       "  </tbody>\n",
       "</table>\n",
       "</div>"
      ],
      "text/plain": [
       "   0                                                  5\n",
       "0  0  @switchfoot http://twitpic.com/2y1zl - Awww, t...\n",
       "1  0  is upset that he can't update his Facebook by ...\n",
       "2  0  @Kenichan I dived many times for the ball. Man...\n",
       "3  0    my whole body feels itchy and like its on fire \n",
       "4  0  @nationwideclass no, it's not behaving at all...."
      ]
     },
     "execution_count": 4,
     "metadata": {},
     "output_type": "execute_result"
    }
   ],
   "source": [
    "data = df.drop([1,2,3,4], axis=1)\n",
    "# data.columns = [\"label\",\"text\"]\n",
    "data.head()"
   ]
  },
  {
   "cell_type": "code",
   "execution_count": 5,
   "metadata": {},
   "outputs": [],
   "source": [
    "# data = data[\"text\"].dropna()\n",
    "data[5] = [entry.lower() for entry in data[5]]\n",
    "data[5] = data[5].astype(\"string\")\n"
   ]
  },
  {
   "cell_type": "code",
   "execution_count": 6,
   "metadata": {},
   "outputs": [
    {
     "name": "stdout",
     "output_type": "stream",
     "text": [
      "         class                                              tweet  \\\n",
      "0            0  @switchfoot http://twitpic.com/2y1zl - awww, t...   \n",
      "1            0  is upset that he can't update his facebook by ...   \n",
      "2            0  @kenichan i dived many times for the ball. man...   \n",
      "3            0    my whole body feels itchy and like its on fire    \n",
      "4            0  @nationwideclass no, it's not behaving at all....   \n",
      "...        ...                                                ...   \n",
      "1599995      1  just woke up. having no school is the best fee...   \n",
      "1599996      1  thewdb.com - very cool to hear old walt interv...   \n",
      "1599997      1  are you ready for your mojo makeover? ask me f...   \n",
      "1599998      1  happy 38th birthday to my boo of alll time!!! ...   \n",
      "1599999      1  happy #charitytuesday @thenspcc @sparkscharity...   \n",
      "\n",
      "                                   tweet_without_stopwords  \n",
      "0        @switchfoot http://twitpic.com/2y1zl - awww, t...  \n",
      "1        upset can't update facebook texting it... migh...  \n",
      "2        @kenichan dived many times ball. managed save ...  \n",
      "3                         whole body feels itchy like fire  \n",
      "4        @nationwideclass no, behaving all. i'm mad. he...  \n",
      "...                                                    ...  \n",
      "1599995                  woke up. school best feeling ever  \n",
      "1599996  thewdb.com - cool hear old walt interviews! ♫ ...  \n",
      "1599997                   ready mojo makeover? ask details  \n",
      "1599998  happy 38th birthday boo alll time!!! tupac ama...  \n",
      "1599999  happy #charitytuesday @thenspcc @sparkscharity...  \n",
      "\n",
      "[1600000 rows x 3 columns]\n"
     ]
    }
   ],
   "source": [
    "# Import stopwords with nltk.\n",
    "from nltk.corpus import stopwords\n",
    "stop = stopwords.words('english')\n",
    "\n",
    "pos_tweets = data\n",
    "\n",
    "test = pd.DataFrame(pos_tweets)\n",
    "test.columns = [\"class\",\"tweet\"]\n",
    "\n",
    "# Exclude stopwords with Python's list comprehension and pandas.DataFrame.apply.\n",
    "test['tweet_without_stopwords'] = test['tweet'].apply(lambda x: ' '.join([word for word in x.split() if word not in (stop)]))\n",
    "print(test)"
   ]
  },
  {
   "cell_type": "code",
   "execution_count": 7,
   "metadata": {},
   "outputs": [
    {
     "data": {
      "text/plain": [
       "0          @switchfoot http://twitpic.com/2y1zl - awww, t...\n",
       "1          upset can't update facebook texting it... migh...\n",
       "2          @kenichan dived many times ball. managed save ...\n",
       "3                           whole body feels itchy like fire\n",
       "4          @nationwideclass no, behaving all. i'm mad. he...\n",
       "                                 ...                        \n",
       "1599995                    woke up. school best feeling ever\n",
       "1599996    thewdb.com - cool hear old walt interviews! ♫ ...\n",
       "1599997                     ready mojo makeover? ask details\n",
       "1599998    happy 38th birthday boo alll time!!! tupac ama...\n",
       "1599999    happy #charitytuesday @thenspcc @sparkscharity...\n",
       "Name: 5, Length: 1600000, dtype: object"
      ]
     },
     "execution_count": 7,
     "metadata": {},
     "output_type": "execute_result"
    }
   ],
   "source": [
    "data[5] = test['tweet_without_stopwords'].values\n",
    "data[5]"
   ]
  },
  {
   "cell_type": "code",
   "execution_count": 8,
   "metadata": {},
   "outputs": [],
   "source": [
    "# data[5]= [word_tokenize(entry) for entry in data[5]]"
   ]
  },
  {
   "cell_type": "code",
   "execution_count": 9,
   "metadata": {},
   "outputs": [],
   "source": [
    "# data.to_csv('tokenized_data.csv', index=False)\n",
    "data = pd.read_csv('tokenized_data.csv')\n",
    "# data[\"5\"] = data[\"5\"].astype(\"string\")\n",
    "# data[\"5\"].dtype"
   ]
  },
  {
   "cell_type": "code",
   "execution_count": 10,
   "metadata": {},
   "outputs": [
    {
     "data": {
      "text/html": [
       "<div>\n",
       "<style scoped>\n",
       "    .dataframe tbody tr th:only-of-type {\n",
       "        vertical-align: middle;\n",
       "    }\n",
       "\n",
       "    .dataframe tbody tr th {\n",
       "        vertical-align: top;\n",
       "    }\n",
       "\n",
       "    .dataframe thead th {\n",
       "        text-align: right;\n",
       "    }\n",
       "</style>\n",
       "<table border=\"1\" class=\"dataframe\">\n",
       "  <thead>\n",
       "    <tr style=\"text-align: right;\">\n",
       "      <th></th>\n",
       "      <th>class</th>\n",
       "      <th>tweet</th>\n",
       "      <th>tweet_without_stopwords</th>\n",
       "      <th>5</th>\n",
       "    </tr>\n",
       "  </thead>\n",
       "  <tbody>\n",
       "    <tr>\n",
       "      <th>0</th>\n",
       "      <td>0</td>\n",
       "      <td>@switchfoot http://twitpic.com/2y1zl - awww, t...</td>\n",
       "      <td>@switchfoot http://twitpic.com/2y1zl - awww, t...</td>\n",
       "      <td>['@', 'switchfoot', 'http', ':', '//twitpic.co...</td>\n",
       "    </tr>\n",
       "    <tr>\n",
       "      <th>1</th>\n",
       "      <td>0</td>\n",
       "      <td>is upset that he can't update his facebook by ...</td>\n",
       "      <td>upset can't update facebook texting it... migh...</td>\n",
       "      <td>['upset', 'ca', \"n't\", 'update', 'facebook', '...</td>\n",
       "    </tr>\n",
       "    <tr>\n",
       "      <th>2</th>\n",
       "      <td>0</td>\n",
       "      <td>@kenichan i dived many times for the ball. man...</td>\n",
       "      <td>@kenichan dived many times ball. managed save ...</td>\n",
       "      <td>['@', 'kenichan', 'dived', 'many', 'times', 'b...</td>\n",
       "    </tr>\n",
       "    <tr>\n",
       "      <th>3</th>\n",
       "      <td>0</td>\n",
       "      <td>my whole body feels itchy and like its on fire</td>\n",
       "      <td>whole body feels itchy like fire</td>\n",
       "      <td>['whole', 'body', 'feels', 'itchy', 'like', 'f...</td>\n",
       "    </tr>\n",
       "    <tr>\n",
       "      <th>4</th>\n",
       "      <td>0</td>\n",
       "      <td>@nationwideclass no, it's not behaving at all....</td>\n",
       "      <td>@nationwideclass no, behaving all. i'm mad. he...</td>\n",
       "      <td>['@', 'nationwideclass', 'no', ',', 'behaving'...</td>\n",
       "    </tr>\n",
       "    <tr>\n",
       "      <th>...</th>\n",
       "      <td>...</td>\n",
       "      <td>...</td>\n",
       "      <td>...</td>\n",
       "      <td>...</td>\n",
       "    </tr>\n",
       "    <tr>\n",
       "      <th>1599995</th>\n",
       "      <td>1</td>\n",
       "      <td>just woke up. having no school is the best fee...</td>\n",
       "      <td>woke up. school best feeling ever</td>\n",
       "      <td>['woke', 'up', '.', 'school', 'best', 'feeling...</td>\n",
       "    </tr>\n",
       "    <tr>\n",
       "      <th>1599996</th>\n",
       "      <td>1</td>\n",
       "      <td>thewdb.com - very cool to hear old walt interv...</td>\n",
       "      <td>thewdb.com - cool hear old walt interviews! ♫ ...</td>\n",
       "      <td>['thewdb.com', '-', 'cool', 'hear', 'old', 'wa...</td>\n",
       "    </tr>\n",
       "    <tr>\n",
       "      <th>1599997</th>\n",
       "      <td>1</td>\n",
       "      <td>are you ready for your mojo makeover? ask me f...</td>\n",
       "      <td>ready mojo makeover? ask details</td>\n",
       "      <td>['ready', 'mojo', 'makeover', '?', 'ask', 'det...</td>\n",
       "    </tr>\n",
       "    <tr>\n",
       "      <th>1599998</th>\n",
       "      <td>1</td>\n",
       "      <td>happy 38th birthday to my boo of alll time!!! ...</td>\n",
       "      <td>happy 38th birthday boo alll time!!! tupac ama...</td>\n",
       "      <td>['happy', '38th', 'birthday', 'boo', 'alll', '...</td>\n",
       "    </tr>\n",
       "    <tr>\n",
       "      <th>1599999</th>\n",
       "      <td>1</td>\n",
       "      <td>happy #charitytuesday @thenspcc @sparkscharity...</td>\n",
       "      <td>happy #charitytuesday @thenspcc @sparkscharity...</td>\n",
       "      <td>['happy', '#', 'charitytuesday', '@', 'thenspc...</td>\n",
       "    </tr>\n",
       "  </tbody>\n",
       "</table>\n",
       "<p>1600000 rows × 4 columns</p>\n",
       "</div>"
      ],
      "text/plain": [
       "         class                                              tweet  \\\n",
       "0            0  @switchfoot http://twitpic.com/2y1zl - awww, t...   \n",
       "1            0  is upset that he can't update his facebook by ...   \n",
       "2            0  @kenichan i dived many times for the ball. man...   \n",
       "3            0    my whole body feels itchy and like its on fire    \n",
       "4            0  @nationwideclass no, it's not behaving at all....   \n",
       "...        ...                                                ...   \n",
       "1599995      1  just woke up. having no school is the best fee...   \n",
       "1599996      1  thewdb.com - very cool to hear old walt interv...   \n",
       "1599997      1  are you ready for your mojo makeover? ask me f...   \n",
       "1599998      1  happy 38th birthday to my boo of alll time!!! ...   \n",
       "1599999      1  happy #charitytuesday @thenspcc @sparkscharity...   \n",
       "\n",
       "                                   tweet_without_stopwords  \\\n",
       "0        @switchfoot http://twitpic.com/2y1zl - awww, t...   \n",
       "1        upset can't update facebook texting it... migh...   \n",
       "2        @kenichan dived many times ball. managed save ...   \n",
       "3                         whole body feels itchy like fire   \n",
       "4        @nationwideclass no, behaving all. i'm mad. he...   \n",
       "...                                                    ...   \n",
       "1599995                  woke up. school best feeling ever   \n",
       "1599996  thewdb.com - cool hear old walt interviews! ♫ ...   \n",
       "1599997                   ready mojo makeover? ask details   \n",
       "1599998  happy 38th birthday boo alll time!!! tupac ama...   \n",
       "1599999  happy #charitytuesday @thenspcc @sparkscharity...   \n",
       "\n",
       "                                                         5  \n",
       "0        ['@', 'switchfoot', 'http', ':', '//twitpic.co...  \n",
       "1        ['upset', 'ca', \"n't\", 'update', 'facebook', '...  \n",
       "2        ['@', 'kenichan', 'dived', 'many', 'times', 'b...  \n",
       "3        ['whole', 'body', 'feels', 'itchy', 'like', 'f...  \n",
       "4        ['@', 'nationwideclass', 'no', ',', 'behaving'...  \n",
       "...                                                    ...  \n",
       "1599995  ['woke', 'up', '.', 'school', 'best', 'feeling...  \n",
       "1599996  ['thewdb.com', '-', 'cool', 'hear', 'old', 'wa...  \n",
       "1599997  ['ready', 'mojo', 'makeover', '?', 'ask', 'det...  \n",
       "1599998  ['happy', '38th', 'birthday', 'boo', 'alll', '...  \n",
       "1599999  ['happy', '#', 'charitytuesday', '@', 'thenspc...  \n",
       "\n",
       "[1600000 rows x 4 columns]"
      ]
     },
     "execution_count": 10,
     "metadata": {},
     "output_type": "execute_result"
    }
   ],
   "source": [
    "data"
   ]
  },
  {
   "cell_type": "code",
   "execution_count": 11,
   "metadata": {},
   "outputs": [
    {
     "data": {
      "text/plain": [
       "dtype('O')"
      ]
     },
     "execution_count": 11,
     "metadata": {},
     "output_type": "execute_result"
    }
   ],
   "source": [
    "data[\"5\"].dtype"
   ]
  },
  {
   "cell_type": "code",
   "execution_count": 12,
   "metadata": {},
   "outputs": [
    {
     "data": {
      "text/html": [
       "<div>\n",
       "<style scoped>\n",
       "    .dataframe tbody tr th:only-of-type {\n",
       "        vertical-align: middle;\n",
       "    }\n",
       "\n",
       "    .dataframe tbody tr th {\n",
       "        vertical-align: top;\n",
       "    }\n",
       "\n",
       "    .dataframe thead th {\n",
       "        text-align: right;\n",
       "    }\n",
       "</style>\n",
       "<table border=\"1\" class=\"dataframe\">\n",
       "  <thead>\n",
       "    <tr style=\"text-align: right;\">\n",
       "      <th></th>\n",
       "      <th>class</th>\n",
       "      <th>tweet</th>\n",
       "      <th>tweet_without_stopwords</th>\n",
       "      <th>5</th>\n",
       "    </tr>\n",
       "  </thead>\n",
       "  <tbody>\n",
       "    <tr>\n",
       "      <th>0</th>\n",
       "      <td>0</td>\n",
       "      <td>@switchfoot http://twitpic.com/2y1zl - awww, t...</td>\n",
       "      <td>@switchfoot http://twitpic.com/2y1zl - awww, t...</td>\n",
       "      <td>['@', 'switchfoot', 'http', ':', '//twitpic.co...</td>\n",
       "    </tr>\n",
       "    <tr>\n",
       "      <th>1</th>\n",
       "      <td>0</td>\n",
       "      <td>is upset that he can't update his facebook by ...</td>\n",
       "      <td>upset can't update facebook texting it... migh...</td>\n",
       "      <td>['upset', 'ca', \"n't\", 'update', 'facebook', '...</td>\n",
       "    </tr>\n",
       "    <tr>\n",
       "      <th>2</th>\n",
       "      <td>0</td>\n",
       "      <td>@kenichan i dived many times for the ball. man...</td>\n",
       "      <td>@kenichan dived many times ball. managed save ...</td>\n",
       "      <td>['@', 'kenichan', 'dived', 'many', 'times', 'b...</td>\n",
       "    </tr>\n",
       "    <tr>\n",
       "      <th>3</th>\n",
       "      <td>0</td>\n",
       "      <td>my whole body feels itchy and like its on fire</td>\n",
       "      <td>whole body feels itchy like fire</td>\n",
       "      <td>['whole', 'body', 'feels', 'itchy', 'like', 'f...</td>\n",
       "    </tr>\n",
       "    <tr>\n",
       "      <th>4</th>\n",
       "      <td>0</td>\n",
       "      <td>@nationwideclass no, it's not behaving at all....</td>\n",
       "      <td>@nationwideclass no, behaving all. i'm mad. he...</td>\n",
       "      <td>['@', 'nationwideclass', 'no', ',', 'behaving'...</td>\n",
       "    </tr>\n",
       "  </tbody>\n",
       "</table>\n",
       "</div>"
      ],
      "text/plain": [
       "   class                                              tweet  \\\n",
       "0      0  @switchfoot http://twitpic.com/2y1zl - awww, t...   \n",
       "1      0  is upset that he can't update his facebook by ...   \n",
       "2      0  @kenichan i dived many times for the ball. man...   \n",
       "3      0    my whole body feels itchy and like its on fire    \n",
       "4      0  @nationwideclass no, it's not behaving at all....   \n",
       "\n",
       "                             tweet_without_stopwords  \\\n",
       "0  @switchfoot http://twitpic.com/2y1zl - awww, t...   \n",
       "1  upset can't update facebook texting it... migh...   \n",
       "2  @kenichan dived many times ball. managed save ...   \n",
       "3                   whole body feels itchy like fire   \n",
       "4  @nationwideclass no, behaving all. i'm mad. he...   \n",
       "\n",
       "                                                   5  \n",
       "0  ['@', 'switchfoot', 'http', ':', '//twitpic.co...  \n",
       "1  ['upset', 'ca', \"n't\", 'update', 'facebook', '...  \n",
       "2  ['@', 'kenichan', 'dived', 'many', 'times', 'b...  \n",
       "3  ['whole', 'body', 'feels', 'itchy', 'like', 'f...  \n",
       "4  ['@', 'nationwideclass', 'no', ',', 'behaving'...  "
      ]
     },
     "execution_count": 12,
     "metadata": {},
     "output_type": "execute_result"
    }
   ],
   "source": [
    "data.head()"
   ]
  },
  {
   "cell_type": "code",
   "execution_count": 13,
   "metadata": {},
   "outputs": [],
   "source": [
    "Train_X, Test_X, Train_Y, Test_Y = model_selection.train_test_split(data['5'],data['class'],test_size=0.20, random_state=10)"
   ]
  },
  {
   "cell_type": "code",
   "execution_count": 14,
   "metadata": {},
   "outputs": [],
   "source": [
    "Tfidf_vect = TfidfVectorizer(max_features=5000)\n",
    "Tfidf_vect.fit(data['5'])\n",
    "Train_X_Tfidf = Tfidf_vect.transform(Train_X)\n",
    "Test_X_Tfidf = Tfidf_vect.transform(Test_X)"
   ]
  },
  {
   "cell_type": "code",
   "execution_count": 15,
   "metadata": {},
   "outputs": [],
   "source": [
    "# print(Tfidf_vect.vocabulary_)"
   ]
  },
  {
   "cell_type": "code",
   "execution_count": 16,
   "metadata": {},
   "outputs": [],
   "source": [
    "# print(Train_X_Tfidf)"
   ]
  },
  {
   "cell_type": "code",
   "execution_count": 17,
   "metadata": {},
   "outputs": [
    {
     "name": "stdout",
     "output_type": "stream",
     "text": [
      "Naive Bayes Accuracy Score ->  75.5721875\n"
     ]
    }
   ],
   "source": [
    "# Naive Bayes Classifier\n",
    "Naive = naive_bayes.MultinomialNB()\n",
    "Naive.fit(Train_X_Tfidf,Train_Y)\n",
    "\n",
    "predictions_NB = Naive.predict(Test_X_Tfidf)\n",
    "print(\"Naive Bayes Accuracy Score -> \",accuracy_score(predictions_NB, Test_Y)*100)"
   ]
  },
  {
   "cell_type": "code",
   "execution_count": 33,
   "metadata": {},
   "outputs": [
    {
     "name": "stderr",
     "output_type": "stream",
     "text": [
      "c:\\Users\\frede\\AppData\\Local\\Programs\\Python\\Python39\\lib\\site-packages\\sklearn\\svm\\_base.py:301: ConvergenceWarning: Solver terminated early (max_iter=10000).  Consider pre-processing your data with StandardScaler or MinMaxScaler.\n",
      "  warnings.warn(\n"
     ]
    },
    {
     "name": "stdout",
     "output_type": "stream",
     "text": [
      "SVM Accuracy Score ->  51.4578125\n"
     ]
    }
   ],
   "source": [
    "# Support Vector Machine Classifier\n",
    "SVM = svm.SVC(C=0.9, kernel='rbf', degree=3, gamma='auto', cache_size= 1000, max_iter=2500,decision_function_shape=\"ovo\", random_state=10)\n",
    "SVM.fit(Train_X_Tfidf,Train_Y)\n",
    "\n",
    "predictions_SVM = SVM.predict(Test_X_Tfidf)\n",
    "print(\"SVM Accuracy Score -> \",accuracy_score(predictions_SVM, Test_Y)*100)"
   ]
  }
 ],
 "metadata": {
  "interpreter": {
   "hash": "be7412d12d150d8e0ed53c2bbc9a31c93b9f08007e48fcd5c6eb931b23df0851"
  },
  "kernelspec": {
   "display_name": "Python 3.9.9 64-bit",
   "language": "python",
   "name": "python3"
  },
  "language_info": {
   "codemirror_mode": {
    "name": "ipython",
    "version": 3
   },
   "file_extension": ".py",
   "mimetype": "text/x-python",
   "name": "python",
   "nbconvert_exporter": "python",
   "pygments_lexer": "ipython3",
   "version": "3.9.9"
  },
  "orig_nbformat": 4
 },
 "nbformat": 4,
 "nbformat_minor": 2
}
